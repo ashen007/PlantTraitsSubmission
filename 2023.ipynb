{
 "cells": [
  {
   "cell_type": "code",
   "execution_count": null,
   "id": "initial_id",
   "metadata": {
    "collapsed": true
   },
   "outputs": [],
   "source": [
    "import os\n",
    "import shutil\n",
    "import pandas as pd\n",
    "import matplotlib.pyplot as plt"
   ]
  },
  {
   "cell_type": "code",
   "execution_count": null,
   "outputs": [],
   "source": [
    "train_data = pd.read_csv('./data/2023/data_train_mean.csv')\n",
    "train_data.head()"
   ],
   "metadata": {
    "collapsed": false
   },
   "id": "b6f8790aaadb5ec4"
  },
  {
   "cell_type": "code",
   "execution_count": null,
   "outputs": [],
   "source": [
    "tar_feat = ['trait_4', 'trait_11', 'trait_18', 'trait_50', 'trait_26', 'trait_3112']"
   ],
   "metadata": {
    "collapsed": false
   },
   "id": "27b9b52390a77d11"
  },
  {
   "cell_type": "code",
   "execution_count": null,
   "outputs": [],
   "source": [
    "train_data[tar_feat].describe().T"
   ],
   "metadata": {
    "collapsed": false
   },
   "id": "3ad771ee41b9012b"
  },
  {
   "cell_type": "code",
   "execution_count": null,
   "outputs": [],
   "source": [
    "train_data[tar_feat].quantile([0.01, 0.95, 0.97, 0.99]).T"
   ],
   "metadata": {
    "collapsed": false
   },
   "id": "9b3c2b078fe88153"
  },
  {
   "cell_type": "code",
   "execution_count": null,
   "outputs": [],
   "source": [],
   "metadata": {
    "collapsed": false
   },
   "id": "f57ad8808cf8f1f4"
  }
 ],
 "metadata": {
  "kernelspec": {
   "display_name": "Python 3",
   "language": "python",
   "name": "python3"
  },
  "language_info": {
   "codemirror_mode": {
    "name": "ipython",
    "version": 2
   },
   "file_extension": ".py",
   "mimetype": "text/x-python",
   "name": "python",
   "nbconvert_exporter": "python",
   "pygments_lexer": "ipython2",
   "version": "2.7.6"
  }
 },
 "nbformat": 4,
 "nbformat_minor": 5
}
