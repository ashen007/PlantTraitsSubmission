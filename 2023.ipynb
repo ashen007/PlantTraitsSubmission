{
 "cells": [
  {
   "cell_type": "code",
   "execution_count": 4,
   "id": "initial_id",
   "metadata": {
    "collapsed": true,
    "ExecuteTime": {
     "end_time": "2024-03-17T06:10:05.720339400Z",
     "start_time": "2024-03-17T06:10:05.642255500Z"
    }
   },
   "outputs": [],
   "source": [
    "import os\n",
    "import cv2\n",
    "import shutil\n",
    "import joblib\n",
    "import numpy as np\n",
    "import pandas as pd\n",
    "import matplotlib.pyplot as plt\n",
    "from feature_engine.outliers import OutlierTrimmer\n",
    "from sklearn.model_selection import train_test_split\n",
    "from sklearn.preprocessing import MinMaxScaler"
   ]
  },
  {
   "cell_type": "code",
   "execution_count": 16,
   "outputs": [],
   "source": [
    "seed = 48"
   ],
   "metadata": {
    "collapsed": false,
    "ExecuteTime": {
     "end_time": "2024-03-17T06:22:58.726964Z",
     "start_time": "2024-03-17T06:22:58.716645800Z"
    }
   },
   "id": "92aca29c07d427e6"
  },
  {
   "cell_type": "code",
   "execution_count": 2,
   "outputs": [
    {
     "data": {
      "text/plain": "                  species  uniqID  bio2  bio3  bio4  bio5  bio6  bio7  bio8  \\\n0      Abarema macradenia       2   108    76   731   331   189   142   248   \n1      Abarema macradenia       3   108    76   731   331   189   142   248   \n2        Abelia chinensis      66    69    42  3370   225    61   164   188   \n3        Abelia chinensis      71    71    43  3389   161    -2   163   121   \n4  Abelmoschus esculentus     112    80    68  1212   276   159   117   203   \n\n   bio9  ...  trait_224  trait_237  trait_281   trait_282    trait_289  \\\n0   257  ...   2.751126   8.051283  44.170849  840.303455  1493.103154   \n1   257  ...   2.751126   8.051283  44.170849  840.303455  1493.103154   \n2   104  ...   5.106266   6.372120  22.973991  584.809757  1078.055613   \n3    59  ...   5.106266   6.372120  22.973991  584.809757  1078.055613   \n4   226  ...   3.311457   4.388532  70.026823  577.398989   915.531609   \n\n    trait_1080   trait_3112   trait_3113    trait_3114 trait_3120  \n0   938.320226  9664.950673   521.472828   1269.832446   1.722072  \n1   938.320226  9664.950673   521.472828   1269.832446   1.722072  \n2  4382.060727  1109.400814  1236.507079   1419.837554   3.571199  \n3  4382.060727  1109.400814  1236.507079   1419.837554   3.571199  \n4  1167.873857  9090.440861  6503.515479  16327.996459   3.693042  \n\n[5 rows x 53 columns]",
      "text/html": "<div>\n<style scoped>\n    .dataframe tbody tr th:only-of-type {\n        vertical-align: middle;\n    }\n\n    .dataframe tbody tr th {\n        vertical-align: top;\n    }\n\n    .dataframe thead th {\n        text-align: right;\n    }\n</style>\n<table border=\"1\" class=\"dataframe\">\n  <thead>\n    <tr style=\"text-align: right;\">\n      <th></th>\n      <th>species</th>\n      <th>uniqID</th>\n      <th>bio2</th>\n      <th>bio3</th>\n      <th>bio4</th>\n      <th>bio5</th>\n      <th>bio6</th>\n      <th>bio7</th>\n      <th>bio8</th>\n      <th>bio9</th>\n      <th>...</th>\n      <th>trait_224</th>\n      <th>trait_237</th>\n      <th>trait_281</th>\n      <th>trait_282</th>\n      <th>trait_289</th>\n      <th>trait_1080</th>\n      <th>trait_3112</th>\n      <th>trait_3113</th>\n      <th>trait_3114</th>\n      <th>trait_3120</th>\n    </tr>\n  </thead>\n  <tbody>\n    <tr>\n      <th>0</th>\n      <td>Abarema macradenia</td>\n      <td>2</td>\n      <td>108</td>\n      <td>76</td>\n      <td>731</td>\n      <td>331</td>\n      <td>189</td>\n      <td>142</td>\n      <td>248</td>\n      <td>257</td>\n      <td>...</td>\n      <td>2.751126</td>\n      <td>8.051283</td>\n      <td>44.170849</td>\n      <td>840.303455</td>\n      <td>1493.103154</td>\n      <td>938.320226</td>\n      <td>9664.950673</td>\n      <td>521.472828</td>\n      <td>1269.832446</td>\n      <td>1.722072</td>\n    </tr>\n    <tr>\n      <th>1</th>\n      <td>Abarema macradenia</td>\n      <td>3</td>\n      <td>108</td>\n      <td>76</td>\n      <td>731</td>\n      <td>331</td>\n      <td>189</td>\n      <td>142</td>\n      <td>248</td>\n      <td>257</td>\n      <td>...</td>\n      <td>2.751126</td>\n      <td>8.051283</td>\n      <td>44.170849</td>\n      <td>840.303455</td>\n      <td>1493.103154</td>\n      <td>938.320226</td>\n      <td>9664.950673</td>\n      <td>521.472828</td>\n      <td>1269.832446</td>\n      <td>1.722072</td>\n    </tr>\n    <tr>\n      <th>2</th>\n      <td>Abelia chinensis</td>\n      <td>66</td>\n      <td>69</td>\n      <td>42</td>\n      <td>3370</td>\n      <td>225</td>\n      <td>61</td>\n      <td>164</td>\n      <td>188</td>\n      <td>104</td>\n      <td>...</td>\n      <td>5.106266</td>\n      <td>6.372120</td>\n      <td>22.973991</td>\n      <td>584.809757</td>\n      <td>1078.055613</td>\n      <td>4382.060727</td>\n      <td>1109.400814</td>\n      <td>1236.507079</td>\n      <td>1419.837554</td>\n      <td>3.571199</td>\n    </tr>\n    <tr>\n      <th>3</th>\n      <td>Abelia chinensis</td>\n      <td>71</td>\n      <td>71</td>\n      <td>43</td>\n      <td>3389</td>\n      <td>161</td>\n      <td>-2</td>\n      <td>163</td>\n      <td>121</td>\n      <td>59</td>\n      <td>...</td>\n      <td>5.106266</td>\n      <td>6.372120</td>\n      <td>22.973991</td>\n      <td>584.809757</td>\n      <td>1078.055613</td>\n      <td>4382.060727</td>\n      <td>1109.400814</td>\n      <td>1236.507079</td>\n      <td>1419.837554</td>\n      <td>3.571199</td>\n    </tr>\n    <tr>\n      <th>4</th>\n      <td>Abelmoschus esculentus</td>\n      <td>112</td>\n      <td>80</td>\n      <td>68</td>\n      <td>1212</td>\n      <td>276</td>\n      <td>159</td>\n      <td>117</td>\n      <td>203</td>\n      <td>226</td>\n      <td>...</td>\n      <td>3.311457</td>\n      <td>4.388532</td>\n      <td>70.026823</td>\n      <td>577.398989</td>\n      <td>915.531609</td>\n      <td>1167.873857</td>\n      <td>9090.440861</td>\n      <td>6503.515479</td>\n      <td>16327.996459</td>\n      <td>3.693042</td>\n    </tr>\n  </tbody>\n</table>\n<p>5 rows × 53 columns</p>\n</div>"
     },
     "execution_count": 2,
     "metadata": {},
     "output_type": "execute_result"
    }
   ],
   "source": [
    "train_data = pd.read_csv('./data/2023/data_train_mean.csv')\n",
    "train_data.head()"
   ],
   "metadata": {
    "collapsed": false,
    "ExecuteTime": {
     "end_time": "2024-03-17T06:05:37.164061900Z",
     "start_time": "2024-03-17T06:05:36.847571200Z"
    }
   },
   "id": "b6f8790aaadb5ec4"
  },
  {
   "cell_type": "code",
   "execution_count": 6,
   "outputs": [
    {
     "name": "stdout",
     "output_type": "stream",
     "text": [
      "{6189: 'train_2869277.jpg', 6218: 'train_2895197.jpg', 20539: 'train_3366733.jpg', 20541: 'train_3369511.jpg', 20557: 'train_3408054.jpg', 20567: 'train_3419342.jpg', 30866: 'train_4075601.jpg', 30886: 'train_4096439.jpg'}\n"
     ]
    }
   ],
   "source": [
    "dir = './data/2023/01_data_train'\n",
    "errors = {}\n",
    "\n",
    "for i, file in enumerate(train_data['pic_name'].values):\n",
    "    try:\n",
    "        img = cv2.imread(f'{dir}/{file}')\n",
    "        img = cv2.cvtColor(img, cv2.COLOR_BGR2RGB)\n",
    "\n",
    "    except:\n",
    "        errors[i] = file\n",
    "        pass\n",
    "    \n",
    "print(errors)"
   ],
   "metadata": {
    "collapsed": false,
    "ExecuteTime": {
     "end_time": "2024-03-17T06:17:41.932892Z",
     "start_time": "2024-03-17T06:12:47.970784800Z"
    }
   },
   "id": "38a4d2ac77c47228"
  },
  {
   "cell_type": "code",
   "execution_count": 8,
   "outputs": [],
   "source": [
    "train_data = train_data.drop(list(errors.keys()))"
   ],
   "metadata": {
    "collapsed": false,
    "ExecuteTime": {
     "end_time": "2024-03-17T06:22:31.686411Z",
     "start_time": "2024-03-17T06:22:31.643864600Z"
    }
   },
   "id": "8f2e49c0016f0834"
  },
  {
   "cell_type": "code",
   "execution_count": 9,
   "outputs": [],
   "source": [
    "aux_feat = ['pic_name', 'trait_4', 'trait_11', 'trait_18', 'trait_50', 'trait_26', 'trait_3112',\n",
    "            'trait_13', 'trait_14', 'trait_15', 'trait_21', 'trait_27', 'trait_46',\n",
    "            'trait_47', 'trait_55', 'trait_95', 'trait_144',\n",
    "            'trait_145', 'trait_146', 'trait_163', 'trait_169', 'trait_223', 'trait_224',\n",
    "            'trait_237', 'trait_281', 'trait_282', 'trait_289', 'trait_1080', 'trait_3113',\n",
    "            'trait_3114', 'trait_3120']\n",
    "log_feat = ['trait_3114', 'trait_1080', 'trait_3112', 'trait_3113', 'trait_26', 'trait_55', 'trait_289', 'trait_282',\n",
    "            'trait_169', 'trait_13', 'trait_144', 'trait_281', 'trait_95', 'trait_146', 'trait_223', 'trait_11',\n",
    "            'trait_14', 'trait_224', 'trait_18', 'trait_237', 'trait_27', 'trait_145', 'trait_3120', 'trait_163',\n",
    "            'trait_15', 'trait_50', 'trait_21'\n",
    "            ]"
   ],
   "metadata": {
    "collapsed": false,
    "ExecuteTime": {
     "end_time": "2024-03-17T06:22:35.171987500Z",
     "start_time": "2024-03-17T06:22:35.143291Z"
    }
   },
   "id": "27b9b52390a77d11"
  },
  {
   "cell_type": "code",
   "execution_count": 10,
   "outputs": [
    {
     "data": {
      "text/plain": "              count         mean            std       min         25%  \\\ntrait_4     36252.0     0.502361       0.157220 -1.623941    0.392464   \ntrait_11    36252.0    62.911118    7918.879919  0.001437   10.668779   \ntrait_18    36252.0     7.204428     400.639410  0.000008    0.330964   \ntrait_50    36252.0     1.676285       7.543198  0.000097    1.081470   \ntrait_26    36252.0   139.854735     959.647442  0.000227    0.561029   \ntrait_3112  36252.0  6091.972594  299141.811907  0.000061  261.730082   \n\n                   50%          75%           max  \ntrait_4       0.486149     0.603254  2.889469e+00  \ntrait_11     15.568725    21.304281  1.504254e+06  \ntrait_18      0.787158     5.463810  7.596759e+04  \ntrait_50      1.427027     1.891408  1.263594e+03  \ntrait_26      2.555346    17.342279  3.783625e+04  \ntrait_3112  805.189101  2331.610029  2.842997e+07  ",
      "text/html": "<div>\n<style scoped>\n    .dataframe tbody tr th:only-of-type {\n        vertical-align: middle;\n    }\n\n    .dataframe tbody tr th {\n        vertical-align: top;\n    }\n\n    .dataframe thead th {\n        text-align: right;\n    }\n</style>\n<table border=\"1\" class=\"dataframe\">\n  <thead>\n    <tr style=\"text-align: right;\">\n      <th></th>\n      <th>count</th>\n      <th>mean</th>\n      <th>std</th>\n      <th>min</th>\n      <th>25%</th>\n      <th>50%</th>\n      <th>75%</th>\n      <th>max</th>\n    </tr>\n  </thead>\n  <tbody>\n    <tr>\n      <th>trait_4</th>\n      <td>36252.0</td>\n      <td>0.502361</td>\n      <td>0.157220</td>\n      <td>-1.623941</td>\n      <td>0.392464</td>\n      <td>0.486149</td>\n      <td>0.603254</td>\n      <td>2.889469e+00</td>\n    </tr>\n    <tr>\n      <th>trait_11</th>\n      <td>36252.0</td>\n      <td>62.911118</td>\n      <td>7918.879919</td>\n      <td>0.001437</td>\n      <td>10.668779</td>\n      <td>15.568725</td>\n      <td>21.304281</td>\n      <td>1.504254e+06</td>\n    </tr>\n    <tr>\n      <th>trait_18</th>\n      <td>36252.0</td>\n      <td>7.204428</td>\n      <td>400.639410</td>\n      <td>0.000008</td>\n      <td>0.330964</td>\n      <td>0.787158</td>\n      <td>5.463810</td>\n      <td>7.596759e+04</td>\n    </tr>\n    <tr>\n      <th>trait_50</th>\n      <td>36252.0</td>\n      <td>1.676285</td>\n      <td>7.543198</td>\n      <td>0.000097</td>\n      <td>1.081470</td>\n      <td>1.427027</td>\n      <td>1.891408</td>\n      <td>1.263594e+03</td>\n    </tr>\n    <tr>\n      <th>trait_26</th>\n      <td>36252.0</td>\n      <td>139.854735</td>\n      <td>959.647442</td>\n      <td>0.000227</td>\n      <td>0.561029</td>\n      <td>2.555346</td>\n      <td>17.342279</td>\n      <td>3.783625e+04</td>\n    </tr>\n    <tr>\n      <th>trait_3112</th>\n      <td>36252.0</td>\n      <td>6091.972594</td>\n      <td>299141.811907</td>\n      <td>0.000061</td>\n      <td>261.730082</td>\n      <td>805.189101</td>\n      <td>2331.610029</td>\n      <td>2.842997e+07</td>\n    </tr>\n  </tbody>\n</table>\n</div>"
     },
     "execution_count": 10,
     "metadata": {},
     "output_type": "execute_result"
    }
   ],
   "source": [
    "train_data[aux_feat[1:7]].describe().T"
   ],
   "metadata": {
    "collapsed": false,
    "ExecuteTime": {
     "end_time": "2024-03-17T06:22:37.723455Z",
     "start_time": "2024-03-17T06:22:37.676448200Z"
    }
   },
   "id": "3ad771ee41b9012b"
  },
  {
   "cell_type": "code",
   "execution_count": 11,
   "outputs": [
    {
     "data": {
      "text/plain": "                 0.01          0.95          0.97          0.99\ntrait_4      0.208900      0.779683      0.813282      0.886177\ntrait_11     3.177824     34.739678     39.680866     50.777375\ntrait_18     0.052039     21.914292     26.398965     35.106055\ntrait_50     0.493695      3.008190      3.401438      4.402759\ntrait_26     0.013635    393.578394    905.397713   3155.242127\ntrait_3112  12.100823  10540.449061  16007.248293  32257.383272",
      "text/html": "<div>\n<style scoped>\n    .dataframe tbody tr th:only-of-type {\n        vertical-align: middle;\n    }\n\n    .dataframe tbody tr th {\n        vertical-align: top;\n    }\n\n    .dataframe thead th {\n        text-align: right;\n    }\n</style>\n<table border=\"1\" class=\"dataframe\">\n  <thead>\n    <tr style=\"text-align: right;\">\n      <th></th>\n      <th>0.01</th>\n      <th>0.95</th>\n      <th>0.97</th>\n      <th>0.99</th>\n    </tr>\n  </thead>\n  <tbody>\n    <tr>\n      <th>trait_4</th>\n      <td>0.208900</td>\n      <td>0.779683</td>\n      <td>0.813282</td>\n      <td>0.886177</td>\n    </tr>\n    <tr>\n      <th>trait_11</th>\n      <td>3.177824</td>\n      <td>34.739678</td>\n      <td>39.680866</td>\n      <td>50.777375</td>\n    </tr>\n    <tr>\n      <th>trait_18</th>\n      <td>0.052039</td>\n      <td>21.914292</td>\n      <td>26.398965</td>\n      <td>35.106055</td>\n    </tr>\n    <tr>\n      <th>trait_50</th>\n      <td>0.493695</td>\n      <td>3.008190</td>\n      <td>3.401438</td>\n      <td>4.402759</td>\n    </tr>\n    <tr>\n      <th>trait_26</th>\n      <td>0.013635</td>\n      <td>393.578394</td>\n      <td>905.397713</td>\n      <td>3155.242127</td>\n    </tr>\n    <tr>\n      <th>trait_3112</th>\n      <td>12.100823</td>\n      <td>10540.449061</td>\n      <td>16007.248293</td>\n      <td>32257.383272</td>\n    </tr>\n  </tbody>\n</table>\n</div>"
     },
     "execution_count": 11,
     "metadata": {},
     "output_type": "execute_result"
    }
   ],
   "source": [
    "train_data[aux_feat[1:7]].quantile([0.01, 0.95, 0.97, 0.99]).T"
   ],
   "metadata": {
    "collapsed": false,
    "ExecuteTime": {
     "end_time": "2024-03-17T06:22:40.654841Z",
     "start_time": "2024-03-17T06:22:40.448026600Z"
    }
   },
   "id": "9b3c2b078fe88153"
  },
  {
   "cell_type": "code",
   "execution_count": 12,
   "outputs": [
    {
     "data": {
      "text/plain": "                    0.00        0.01        0.05          0.95          0.99  \\\ntrait_4    -1.623941e+00    0.208900    0.287281      0.779683      0.886177   \ntrait_11    1.436645e-03    3.177824    4.977883     34.739678     50.777375   \ntrait_18    8.140000e-06    0.052039    0.116504     21.914292     35.106055   \ntrait_50    9.680000e-05    0.493695    0.706616      3.008190      4.402759   \ntrait_26    2.273600e-04    0.013635    0.062208    393.578394   3155.242127   \ntrait_3112  6.050000e-05   12.100823   39.634150  10540.449061  32257.383272   \ntrait_13    9.394884e+01  374.143876  403.257320    499.333572    525.158723   \ntrait_14    7.281234e-01    6.700712   10.027895     35.317903     44.356969   \ntrait_15    9.257500e-06    0.259510    0.543335      3.059211      4.578983   \ntrait_21    2.885000e-10    0.001240    0.002978      0.425348      1.096296   \ntrait_27    1.093800e-04    0.471129    0.786935     12.195970     22.674086   \ntrait_46    4.105138e-03    0.091714    0.127800      0.522615      0.865300   \ntrait_47   -1.276839e+00    0.095434    0.140330      0.476000      0.529704   \ntrait_55    3.315000e-05    0.940968    3.087685    823.712885   2333.079409   \ntrait_95   -3.963909e+02   54.519379   67.967812     99.561377    108.936808   \ntrait_144   1.523760e-04    3.895598    9.240236    231.559046    467.074943   \ntrait_145   8.490000e-05    0.076495    0.167504      9.179428     19.293945   \ntrait_146   9.735917e-02   11.089097   14.058292     60.814994    101.728891   \ntrait_163   1.850000e-07    0.003911    0.012148      2.586947      8.017485   \ntrait_169   4.861070e-04    4.553540    8.701141    275.379769    527.693202   \ntrait_223   1.034990e-04   11.122118   15.147850     54.384740     73.926247   \ntrait_224   8.464528e-02    0.841899    1.235494     16.642341     41.446620   \ntrait_237   2.160820e-04    0.481008    0.840862     17.119954     32.230512   \ntrait_281   1.660564e-02    8.211227   12.769024    100.398268    155.160057   \ntrait_282   3.999730e+00  131.477307  195.301628    848.282628   1327.871197   \ntrait_289   9.860110e+00  360.416180  458.695674   1491.506774   2076.653752   \ntrait_1080  3.190304e-02  266.760126  620.105811  16052.604987  35488.742436   \ntrait_3113  8.360000e-05   10.312571   42.339797   8348.064212  23590.197628   \ntrait_3114  6.650000e-05   10.490028   41.114456  11249.178259  36406.432510   \ntrait_3120  6.849900e-04    1.235582    1.671925      8.655941     12.528663   \n\n                    1.00  \ntrait_4     2.889469e+00  \ntrait_11    1.504254e+06  \ntrait_18    7.596759e+04  \ntrait_50    1.263594e+03  \ntrait_26    3.783625e+04  \ntrait_3112  2.842997e+07  \ntrait_13    1.022154e+03  \ntrait_14    2.639664e+03  \ntrait_15    1.388971e+05  \ntrait_21    8.163707e+07  \ntrait_27    2.988619e+02  \ntrait_46    1.561464e+02  \ntrait_47    1.849310e+00  \ntrait_55    1.939522e+07  \ntrait_95    2.892722e+02  \ntrait_144   6.565710e+07  \ntrait_145   3.642144e+07  \ntrait_146   2.658627e+03  \ntrait_163   2.102396e+05  \ntrait_169   5.129563e+05  \ntrait_223   1.325555e+05  \ntrait_224   1.699027e+03  \ntrait_237   1.090109e+04  \ntrait_281   2.523214e+05  \ntrait_282   5.597905e+04  \ntrait_289   8.218200e+05  \ntrait_1080  3.601296e+10  \ntrait_3113  6.956778e+10  \ntrait_3114  6.020695e+14  \ntrait_3120  1.530732e+03  ",
      "text/html": "<div>\n<style scoped>\n    .dataframe tbody tr th:only-of-type {\n        vertical-align: middle;\n    }\n\n    .dataframe tbody tr th {\n        vertical-align: top;\n    }\n\n    .dataframe thead th {\n        text-align: right;\n    }\n</style>\n<table border=\"1\" class=\"dataframe\">\n  <thead>\n    <tr style=\"text-align: right;\">\n      <th></th>\n      <th>0.00</th>\n      <th>0.01</th>\n      <th>0.05</th>\n      <th>0.95</th>\n      <th>0.99</th>\n      <th>1.00</th>\n    </tr>\n  </thead>\n  <tbody>\n    <tr>\n      <th>trait_4</th>\n      <td>-1.623941e+00</td>\n      <td>0.208900</td>\n      <td>0.287281</td>\n      <td>0.779683</td>\n      <td>0.886177</td>\n      <td>2.889469e+00</td>\n    </tr>\n    <tr>\n      <th>trait_11</th>\n      <td>1.436645e-03</td>\n      <td>3.177824</td>\n      <td>4.977883</td>\n      <td>34.739678</td>\n      <td>50.777375</td>\n      <td>1.504254e+06</td>\n    </tr>\n    <tr>\n      <th>trait_18</th>\n      <td>8.140000e-06</td>\n      <td>0.052039</td>\n      <td>0.116504</td>\n      <td>21.914292</td>\n      <td>35.106055</td>\n      <td>7.596759e+04</td>\n    </tr>\n    <tr>\n      <th>trait_50</th>\n      <td>9.680000e-05</td>\n      <td>0.493695</td>\n      <td>0.706616</td>\n      <td>3.008190</td>\n      <td>4.402759</td>\n      <td>1.263594e+03</td>\n    </tr>\n    <tr>\n      <th>trait_26</th>\n      <td>2.273600e-04</td>\n      <td>0.013635</td>\n      <td>0.062208</td>\n      <td>393.578394</td>\n      <td>3155.242127</td>\n      <td>3.783625e+04</td>\n    </tr>\n    <tr>\n      <th>trait_3112</th>\n      <td>6.050000e-05</td>\n      <td>12.100823</td>\n      <td>39.634150</td>\n      <td>10540.449061</td>\n      <td>32257.383272</td>\n      <td>2.842997e+07</td>\n    </tr>\n    <tr>\n      <th>trait_13</th>\n      <td>9.394884e+01</td>\n      <td>374.143876</td>\n      <td>403.257320</td>\n      <td>499.333572</td>\n      <td>525.158723</td>\n      <td>1.022154e+03</td>\n    </tr>\n    <tr>\n      <th>trait_14</th>\n      <td>7.281234e-01</td>\n      <td>6.700712</td>\n      <td>10.027895</td>\n      <td>35.317903</td>\n      <td>44.356969</td>\n      <td>2.639664e+03</td>\n    </tr>\n    <tr>\n      <th>trait_15</th>\n      <td>9.257500e-06</td>\n      <td>0.259510</td>\n      <td>0.543335</td>\n      <td>3.059211</td>\n      <td>4.578983</td>\n      <td>1.388971e+05</td>\n    </tr>\n    <tr>\n      <th>trait_21</th>\n      <td>2.885000e-10</td>\n      <td>0.001240</td>\n      <td>0.002978</td>\n      <td>0.425348</td>\n      <td>1.096296</td>\n      <td>8.163707e+07</td>\n    </tr>\n    <tr>\n      <th>trait_27</th>\n      <td>1.093800e-04</td>\n      <td>0.471129</td>\n      <td>0.786935</td>\n      <td>12.195970</td>\n      <td>22.674086</td>\n      <td>2.988619e+02</td>\n    </tr>\n    <tr>\n      <th>trait_46</th>\n      <td>4.105138e-03</td>\n      <td>0.091714</td>\n      <td>0.127800</td>\n      <td>0.522615</td>\n      <td>0.865300</td>\n      <td>1.561464e+02</td>\n    </tr>\n    <tr>\n      <th>trait_47</th>\n      <td>-1.276839e+00</td>\n      <td>0.095434</td>\n      <td>0.140330</td>\n      <td>0.476000</td>\n      <td>0.529704</td>\n      <td>1.849310e+00</td>\n    </tr>\n    <tr>\n      <th>trait_55</th>\n      <td>3.315000e-05</td>\n      <td>0.940968</td>\n      <td>3.087685</td>\n      <td>823.712885</td>\n      <td>2333.079409</td>\n      <td>1.939522e+07</td>\n    </tr>\n    <tr>\n      <th>trait_95</th>\n      <td>-3.963909e+02</td>\n      <td>54.519379</td>\n      <td>67.967812</td>\n      <td>99.561377</td>\n      <td>108.936808</td>\n      <td>2.892722e+02</td>\n    </tr>\n    <tr>\n      <th>trait_144</th>\n      <td>1.523760e-04</td>\n      <td>3.895598</td>\n      <td>9.240236</td>\n      <td>231.559046</td>\n      <td>467.074943</td>\n      <td>6.565710e+07</td>\n    </tr>\n    <tr>\n      <th>trait_145</th>\n      <td>8.490000e-05</td>\n      <td>0.076495</td>\n      <td>0.167504</td>\n      <td>9.179428</td>\n      <td>19.293945</td>\n      <td>3.642144e+07</td>\n    </tr>\n    <tr>\n      <th>trait_146</th>\n      <td>9.735917e-02</td>\n      <td>11.089097</td>\n      <td>14.058292</td>\n      <td>60.814994</td>\n      <td>101.728891</td>\n      <td>2.658627e+03</td>\n    </tr>\n    <tr>\n      <th>trait_163</th>\n      <td>1.850000e-07</td>\n      <td>0.003911</td>\n      <td>0.012148</td>\n      <td>2.586947</td>\n      <td>8.017485</td>\n      <td>2.102396e+05</td>\n    </tr>\n    <tr>\n      <th>trait_169</th>\n      <td>4.861070e-04</td>\n      <td>4.553540</td>\n      <td>8.701141</td>\n      <td>275.379769</td>\n      <td>527.693202</td>\n      <td>5.129563e+05</td>\n    </tr>\n    <tr>\n      <th>trait_223</th>\n      <td>1.034990e-04</td>\n      <td>11.122118</td>\n      <td>15.147850</td>\n      <td>54.384740</td>\n      <td>73.926247</td>\n      <td>1.325555e+05</td>\n    </tr>\n    <tr>\n      <th>trait_224</th>\n      <td>8.464528e-02</td>\n      <td>0.841899</td>\n      <td>1.235494</td>\n      <td>16.642341</td>\n      <td>41.446620</td>\n      <td>1.699027e+03</td>\n    </tr>\n    <tr>\n      <th>trait_237</th>\n      <td>2.160820e-04</td>\n      <td>0.481008</td>\n      <td>0.840862</td>\n      <td>17.119954</td>\n      <td>32.230512</td>\n      <td>1.090109e+04</td>\n    </tr>\n    <tr>\n      <th>trait_281</th>\n      <td>1.660564e-02</td>\n      <td>8.211227</td>\n      <td>12.769024</td>\n      <td>100.398268</td>\n      <td>155.160057</td>\n      <td>2.523214e+05</td>\n    </tr>\n    <tr>\n      <th>trait_282</th>\n      <td>3.999730e+00</td>\n      <td>131.477307</td>\n      <td>195.301628</td>\n      <td>848.282628</td>\n      <td>1327.871197</td>\n      <td>5.597905e+04</td>\n    </tr>\n    <tr>\n      <th>trait_289</th>\n      <td>9.860110e+00</td>\n      <td>360.416180</td>\n      <td>458.695674</td>\n      <td>1491.506774</td>\n      <td>2076.653752</td>\n      <td>8.218200e+05</td>\n    </tr>\n    <tr>\n      <th>trait_1080</th>\n      <td>3.190304e-02</td>\n      <td>266.760126</td>\n      <td>620.105811</td>\n      <td>16052.604987</td>\n      <td>35488.742436</td>\n      <td>3.601296e+10</td>\n    </tr>\n    <tr>\n      <th>trait_3113</th>\n      <td>8.360000e-05</td>\n      <td>10.312571</td>\n      <td>42.339797</td>\n      <td>8348.064212</td>\n      <td>23590.197628</td>\n      <td>6.956778e+10</td>\n    </tr>\n    <tr>\n      <th>trait_3114</th>\n      <td>6.650000e-05</td>\n      <td>10.490028</td>\n      <td>41.114456</td>\n      <td>11249.178259</td>\n      <td>36406.432510</td>\n      <td>6.020695e+14</td>\n    </tr>\n    <tr>\n      <th>trait_3120</th>\n      <td>6.849900e-04</td>\n      <td>1.235582</td>\n      <td>1.671925</td>\n      <td>8.655941</td>\n      <td>12.528663</td>\n      <td>1.530732e+03</td>\n    </tr>\n  </tbody>\n</table>\n</div>"
     },
     "execution_count": 12,
     "metadata": {},
     "output_type": "execute_result"
    }
   ],
   "source": [
    "train_data[aux_feat[1:]].quantile([0, 0.01, 0.05, 0.95, 0.99, 1]).T"
   ],
   "metadata": {
    "collapsed": false,
    "ExecuteTime": {
     "end_time": "2024-03-17T06:22:42.262009400Z",
     "start_time": "2024-03-17T06:22:41.780249100Z"
    }
   },
   "id": "33d30942310aa747"
  },
  {
   "cell_type": "code",
   "execution_count": 13,
   "outputs": [],
   "source": [
    "trimmer = OutlierTrimmer('quantiles', fold=0.01)"
   ],
   "metadata": {
    "collapsed": false,
    "ExecuteTime": {
     "end_time": "2024-03-17T06:22:50.731538100Z",
     "start_time": "2024-03-17T06:22:50.462156Z"
    }
   },
   "id": "3f2dcdda2eed1aa5"
  },
  {
   "cell_type": "code",
   "execution_count": 14,
   "outputs": [],
   "source": [
    "train_sample = trimmer.fit_transform(train_data[aux_feat], aux_feat[1:])"
   ],
   "metadata": {
    "collapsed": false,
    "ExecuteTime": {
     "end_time": "2024-03-17T06:22:52.684511600Z",
     "start_time": "2024-03-17T06:22:51.988019200Z"
    }
   },
   "id": "4d0527c5e56958a0"
  },
  {
   "cell_type": "code",
   "execution_count": 17,
   "outputs": [
    {
     "data": {
      "text/plain": "((24036, 31), (6009, 31))"
     },
     "execution_count": 17,
     "metadata": {},
     "output_type": "execute_result"
    }
   ],
   "source": [
    "train_xs, valid_xs = train_test_split(train_sample, test_size=0.2, random_state=seed)\n",
    "train_xs.shape, valid_xs.shape"
   ],
   "metadata": {
    "collapsed": false,
    "ExecuteTime": {
     "end_time": "2024-03-17T06:23:01.586289300Z",
     "start_time": "2024-03-17T06:23:01.565643100Z"
    }
   },
   "id": "2b02e4ff824a862f"
  },
  {
   "cell_type": "code",
   "execution_count": 18,
   "outputs": [
    {
     "name": "stdout",
     "output_type": "stream",
     "text": [
      "936\n",
      "224\n"
     ]
    }
   ],
   "source": [
    "min_caps = {'trait_4': 0.208652,\n",
    "            'trait_11': 3.178135,\n",
    "            'trait_18': 0.052039,\n",
    "            'trait_50': 0.493695,\n",
    "            'trait_26': 0.013635,\n",
    "            'trait_3112': 12.100823,\n",
    "            }\n",
    "max_caps = {'trait_4': 0.886177,\n",
    "            'trait_11': 50.773743,\n",
    "            'trait_18': 35.106055,\n",
    "            'trait_50': 4.402759,\n",
    "            'trait_26': 3155.242127,\n",
    "            'trait_3112': 32257.383272,\n",
    "            }\n",
    "\n",
    "targets = train_xs[aux_feat].copy()\n",
    "val_targets = valid_xs[aux_feat].copy()\n",
    "\n",
    "idxs = []\n",
    "idxs_val = []\n",
    "\n",
    "for col in min_caps.keys():\n",
    "    idxs += list(train_xs[(train_xs[col] > max_caps[col])].index)\n",
    "    idxs += list(train_xs[(train_xs[col] < min_caps[col])].index)\n",
    "\n",
    "    idxs_val += list(valid_xs[(valid_xs[col] > max_caps[col])].index)\n",
    "    idxs_val += list(valid_xs[(valid_xs[col] < min_caps[col])].index)\n",
    "\n",
    "print(len(set(idxs)))\n",
    "print(len(set(idxs_val)))"
   ],
   "metadata": {
    "collapsed": false,
    "ExecuteTime": {
     "end_time": "2024-03-17T06:23:04.760589900Z",
     "start_time": "2024-03-17T06:23:04.746041300Z"
    }
   },
   "id": "f57ad8808cf8f1f4"
  },
  {
   "cell_type": "code",
   "execution_count": null,
   "outputs": [],
   "source": [
    "targets = targets.drop(idxs)\n",
    "val_targets = val_targets.drop(idxs_val)"
   ],
   "metadata": {
    "collapsed": false
   },
   "id": "e58653fabf3ecfa7"
  },
  {
   "cell_type": "code",
   "execution_count": 21,
   "outputs": [
    {
     "data": {
      "text/plain": "              count         mean          std         min          25%  \\\ntrait_4     23100.0     0.501635     0.140286    0.209118     0.393580   \ntrait_11    23100.0    16.916931     8.027348    3.204518    11.378021   \ntrait_18    23100.0     3.918257     6.417485    0.052164     0.336301   \ntrait_50    23100.0     1.535087     0.623789    0.493695     1.087353   \ntrait_26    23100.0    58.449669   239.196743    0.013667     0.583727   \ntrait_3112  23100.0  1962.818490  3202.650043   12.100823   293.319686   \ntrait_13    23100.0   451.783748    26.663050  286.152502   436.973342   \ntrait_14    23100.0    21.186100     6.997589    3.736020    16.458973   \ntrait_15    23100.0     1.606581     0.691887    0.124495     1.140357   \ntrait_21    23100.0     0.084385     0.137001    0.000329     0.009340   \ntrait_27    23100.0     3.708723     3.126411    0.325922     1.737934   \ntrait_46    23100.0     0.245398     0.106432    0.046020     0.176383   \ntrait_47    23100.0     0.301111     0.094450    0.052305     0.225962   \ntrait_55    23100.0   147.644953   237.029911    0.476047    20.646777   \ntrait_95    23100.0    87.537242     9.345440   39.035319    83.300067   \ntrait_144   23100.0    71.701613    61.831056    1.196012    28.303222   \ntrait_145   23100.0     2.369846     2.571891    0.026236     0.568912   \ntrait_146   23100.0    28.188366    13.582082    8.704680    19.766732   \ntrait_163   23100.0     0.478341     0.736003    0.002450     0.074376   \ntrait_169   23100.0    78.682059    76.042472    1.283233    28.122828   \ntrait_223   23100.0    30.074359    10.941126    6.749019    22.492568   \ntrait_224   23100.0     4.632489     4.988823    0.545202     1.975350   \ntrait_237   23100.0     4.834886     4.277902    0.284413     2.194167   \ntrait_281   23100.0    41.074859    24.998837    2.453302    24.207170   \ntrait_282   23100.0   423.123438   171.147167   73.876030   302.817490   \ntrait_289   23100.0   834.557286   271.342766  274.735858   640.336326   \ntrait_1080  23100.0  5014.785046  4920.500865   55.261508  1773.964272   \ntrait_3113  23100.0  1720.170704  2573.243136    5.336675   282.687205   \ntrait_3114  23100.0  2110.911614  3416.905258    2.573841   297.611348   \ntrait_3120  23100.0     4.091450     1.959156    0.963896     2.626772   \n\n                    50%          75%           max  \ntrait_4        0.485673     0.603546      0.886088  \ntrait_11      15.789493    21.181707     50.755128  \ntrait_18       0.756986     4.520747     35.106055  \ntrait_50       1.417006     1.837036      4.378196  \ntrait_26       2.473299    14.709484   3136.327163  \ntrait_3112   805.567518  2176.823902  31959.099730  \ntrait_13     451.569822   468.868477    525.158723  \ntrait_14      20.433213    25.116793     44.356969  \ntrait_15       1.532381     1.976587      4.578983  \ntrait_21       0.027526     0.104900      1.089238  \ntrait_27       2.698467     4.553334     22.674086  \ntrait_46       0.218917     0.282982      0.864545  \ntrait_47       0.302297     0.369998      0.529680  \ntrait_55      55.817613   170.592620   2295.157814  \ntrait_95      88.920991    93.954498    108.936808  \ntrait_144     54.093133    94.401486    466.991951  \ntrait_145      1.441539     3.316845     19.098775  \ntrait_146     24.342890    32.024198    101.233557  \ntrait_163      0.203181     0.563843      7.999841  \ntrait_169     56.832907   101.528696    527.693202  \ntrait_223     28.387660    35.548746     73.926247  \ntrait_224      2.998798     4.961917     41.427360  \ntrait_237      3.505195     5.935995     32.230512  \ntrait_281     34.386412    50.688886    154.717173  \ntrait_282    393.525852   508.062176   1307.558057  \ntrait_289    799.133133   974.456733   2063.663193  \ntrait_1080  3470.064298  6534.786305  35467.686333  \ntrait_3113   769.956887  2050.135569  23590.197628  \ntrait_3114   829.940047  2481.676428  36224.315005  \ntrait_3120     3.556195     5.188418     12.525102  ",
      "text/html": "<div>\n<style scoped>\n    .dataframe tbody tr th:only-of-type {\n        vertical-align: middle;\n    }\n\n    .dataframe tbody tr th {\n        vertical-align: top;\n    }\n\n    .dataframe thead th {\n        text-align: right;\n    }\n</style>\n<table border=\"1\" class=\"dataframe\">\n  <thead>\n    <tr style=\"text-align: right;\">\n      <th></th>\n      <th>count</th>\n      <th>mean</th>\n      <th>std</th>\n      <th>min</th>\n      <th>25%</th>\n      <th>50%</th>\n      <th>75%</th>\n      <th>max</th>\n    </tr>\n  </thead>\n  <tbody>\n    <tr>\n      <th>trait_4</th>\n      <td>23100.0</td>\n      <td>0.501635</td>\n      <td>0.140286</td>\n      <td>0.209118</td>\n      <td>0.393580</td>\n      <td>0.485673</td>\n      <td>0.603546</td>\n      <td>0.886088</td>\n    </tr>\n    <tr>\n      <th>trait_11</th>\n      <td>23100.0</td>\n      <td>16.916931</td>\n      <td>8.027348</td>\n      <td>3.204518</td>\n      <td>11.378021</td>\n      <td>15.789493</td>\n      <td>21.181707</td>\n      <td>50.755128</td>\n    </tr>\n    <tr>\n      <th>trait_18</th>\n      <td>23100.0</td>\n      <td>3.918257</td>\n      <td>6.417485</td>\n      <td>0.052164</td>\n      <td>0.336301</td>\n      <td>0.756986</td>\n      <td>4.520747</td>\n      <td>35.106055</td>\n    </tr>\n    <tr>\n      <th>trait_50</th>\n      <td>23100.0</td>\n      <td>1.535087</td>\n      <td>0.623789</td>\n      <td>0.493695</td>\n      <td>1.087353</td>\n      <td>1.417006</td>\n      <td>1.837036</td>\n      <td>4.378196</td>\n    </tr>\n    <tr>\n      <th>trait_26</th>\n      <td>23100.0</td>\n      <td>58.449669</td>\n      <td>239.196743</td>\n      <td>0.013667</td>\n      <td>0.583727</td>\n      <td>2.473299</td>\n      <td>14.709484</td>\n      <td>3136.327163</td>\n    </tr>\n    <tr>\n      <th>trait_3112</th>\n      <td>23100.0</td>\n      <td>1962.818490</td>\n      <td>3202.650043</td>\n      <td>12.100823</td>\n      <td>293.319686</td>\n      <td>805.567518</td>\n      <td>2176.823902</td>\n      <td>31959.099730</td>\n    </tr>\n    <tr>\n      <th>trait_13</th>\n      <td>23100.0</td>\n      <td>451.783748</td>\n      <td>26.663050</td>\n      <td>286.152502</td>\n      <td>436.973342</td>\n      <td>451.569822</td>\n      <td>468.868477</td>\n      <td>525.158723</td>\n    </tr>\n    <tr>\n      <th>trait_14</th>\n      <td>23100.0</td>\n      <td>21.186100</td>\n      <td>6.997589</td>\n      <td>3.736020</td>\n      <td>16.458973</td>\n      <td>20.433213</td>\n      <td>25.116793</td>\n      <td>44.356969</td>\n    </tr>\n    <tr>\n      <th>trait_15</th>\n      <td>23100.0</td>\n      <td>1.606581</td>\n      <td>0.691887</td>\n      <td>0.124495</td>\n      <td>1.140357</td>\n      <td>1.532381</td>\n      <td>1.976587</td>\n      <td>4.578983</td>\n    </tr>\n    <tr>\n      <th>trait_21</th>\n      <td>23100.0</td>\n      <td>0.084385</td>\n      <td>0.137001</td>\n      <td>0.000329</td>\n      <td>0.009340</td>\n      <td>0.027526</td>\n      <td>0.104900</td>\n      <td>1.089238</td>\n    </tr>\n    <tr>\n      <th>trait_27</th>\n      <td>23100.0</td>\n      <td>3.708723</td>\n      <td>3.126411</td>\n      <td>0.325922</td>\n      <td>1.737934</td>\n      <td>2.698467</td>\n      <td>4.553334</td>\n      <td>22.674086</td>\n    </tr>\n    <tr>\n      <th>trait_46</th>\n      <td>23100.0</td>\n      <td>0.245398</td>\n      <td>0.106432</td>\n      <td>0.046020</td>\n      <td>0.176383</td>\n      <td>0.218917</td>\n      <td>0.282982</td>\n      <td>0.864545</td>\n    </tr>\n    <tr>\n      <th>trait_47</th>\n      <td>23100.0</td>\n      <td>0.301111</td>\n      <td>0.094450</td>\n      <td>0.052305</td>\n      <td>0.225962</td>\n      <td>0.302297</td>\n      <td>0.369998</td>\n      <td>0.529680</td>\n    </tr>\n    <tr>\n      <th>trait_55</th>\n      <td>23100.0</td>\n      <td>147.644953</td>\n      <td>237.029911</td>\n      <td>0.476047</td>\n      <td>20.646777</td>\n      <td>55.817613</td>\n      <td>170.592620</td>\n      <td>2295.157814</td>\n    </tr>\n    <tr>\n      <th>trait_95</th>\n      <td>23100.0</td>\n      <td>87.537242</td>\n      <td>9.345440</td>\n      <td>39.035319</td>\n      <td>83.300067</td>\n      <td>88.920991</td>\n      <td>93.954498</td>\n      <td>108.936808</td>\n    </tr>\n    <tr>\n      <th>trait_144</th>\n      <td>23100.0</td>\n      <td>71.701613</td>\n      <td>61.831056</td>\n      <td>1.196012</td>\n      <td>28.303222</td>\n      <td>54.093133</td>\n      <td>94.401486</td>\n      <td>466.991951</td>\n    </tr>\n    <tr>\n      <th>trait_145</th>\n      <td>23100.0</td>\n      <td>2.369846</td>\n      <td>2.571891</td>\n      <td>0.026236</td>\n      <td>0.568912</td>\n      <td>1.441539</td>\n      <td>3.316845</td>\n      <td>19.098775</td>\n    </tr>\n    <tr>\n      <th>trait_146</th>\n      <td>23100.0</td>\n      <td>28.188366</td>\n      <td>13.582082</td>\n      <td>8.704680</td>\n      <td>19.766732</td>\n      <td>24.342890</td>\n      <td>32.024198</td>\n      <td>101.233557</td>\n    </tr>\n    <tr>\n      <th>trait_163</th>\n      <td>23100.0</td>\n      <td>0.478341</td>\n      <td>0.736003</td>\n      <td>0.002450</td>\n      <td>0.074376</td>\n      <td>0.203181</td>\n      <td>0.563843</td>\n      <td>7.999841</td>\n    </tr>\n    <tr>\n      <th>trait_169</th>\n      <td>23100.0</td>\n      <td>78.682059</td>\n      <td>76.042472</td>\n      <td>1.283233</td>\n      <td>28.122828</td>\n      <td>56.832907</td>\n      <td>101.528696</td>\n      <td>527.693202</td>\n    </tr>\n    <tr>\n      <th>trait_223</th>\n      <td>23100.0</td>\n      <td>30.074359</td>\n      <td>10.941126</td>\n      <td>6.749019</td>\n      <td>22.492568</td>\n      <td>28.387660</td>\n      <td>35.548746</td>\n      <td>73.926247</td>\n    </tr>\n    <tr>\n      <th>trait_224</th>\n      <td>23100.0</td>\n      <td>4.632489</td>\n      <td>4.988823</td>\n      <td>0.545202</td>\n      <td>1.975350</td>\n      <td>2.998798</td>\n      <td>4.961917</td>\n      <td>41.427360</td>\n    </tr>\n    <tr>\n      <th>trait_237</th>\n      <td>23100.0</td>\n      <td>4.834886</td>\n      <td>4.277902</td>\n      <td>0.284413</td>\n      <td>2.194167</td>\n      <td>3.505195</td>\n      <td>5.935995</td>\n      <td>32.230512</td>\n    </tr>\n    <tr>\n      <th>trait_281</th>\n      <td>23100.0</td>\n      <td>41.074859</td>\n      <td>24.998837</td>\n      <td>2.453302</td>\n      <td>24.207170</td>\n      <td>34.386412</td>\n      <td>50.688886</td>\n      <td>154.717173</td>\n    </tr>\n    <tr>\n      <th>trait_282</th>\n      <td>23100.0</td>\n      <td>423.123438</td>\n      <td>171.147167</td>\n      <td>73.876030</td>\n      <td>302.817490</td>\n      <td>393.525852</td>\n      <td>508.062176</td>\n      <td>1307.558057</td>\n    </tr>\n    <tr>\n      <th>trait_289</th>\n      <td>23100.0</td>\n      <td>834.557286</td>\n      <td>271.342766</td>\n      <td>274.735858</td>\n      <td>640.336326</td>\n      <td>799.133133</td>\n      <td>974.456733</td>\n      <td>2063.663193</td>\n    </tr>\n    <tr>\n      <th>trait_1080</th>\n      <td>23100.0</td>\n      <td>5014.785046</td>\n      <td>4920.500865</td>\n      <td>55.261508</td>\n      <td>1773.964272</td>\n      <td>3470.064298</td>\n      <td>6534.786305</td>\n      <td>35467.686333</td>\n    </tr>\n    <tr>\n      <th>trait_3113</th>\n      <td>23100.0</td>\n      <td>1720.170704</td>\n      <td>2573.243136</td>\n      <td>5.336675</td>\n      <td>282.687205</td>\n      <td>769.956887</td>\n      <td>2050.135569</td>\n      <td>23590.197628</td>\n    </tr>\n    <tr>\n      <th>trait_3114</th>\n      <td>23100.0</td>\n      <td>2110.911614</td>\n      <td>3416.905258</td>\n      <td>2.573841</td>\n      <td>297.611348</td>\n      <td>829.940047</td>\n      <td>2481.676428</td>\n      <td>36224.315005</td>\n    </tr>\n    <tr>\n      <th>trait_3120</th>\n      <td>23100.0</td>\n      <td>4.091450</td>\n      <td>1.959156</td>\n      <td>0.963896</td>\n      <td>2.626772</td>\n      <td>3.556195</td>\n      <td>5.188418</td>\n      <td>12.525102</td>\n    </tr>\n  </tbody>\n</table>\n</div>"
     },
     "execution_count": 21,
     "metadata": {},
     "output_type": "execute_result"
    }
   ],
   "source": [
    "targets[aux_feat[1:]].describe().T"
   ],
   "metadata": {
    "collapsed": false,
    "ExecuteTime": {
     "end_time": "2024-03-17T06:23:46.753821300Z",
     "start_time": "2024-03-17T06:23:46.693925400Z"
    }
   },
   "id": "6269a8831e5ce2db"
  },
  {
   "cell_type": "code",
   "execution_count": 22,
   "outputs": [],
   "source": [
    "scaler = MinMaxScaler()\n",
    "y_train = np.zeros_like(targets[aux_feat[1:]], dtype=np.float32)\n",
    "\n",
    "for idx, target in enumerate(aux_feat[1:]):\n",
    "    v = targets[target].values\n",
    "\n",
    "    if target in log_feat:\n",
    "        v = np.log10(v)\n",
    "\n",
    "    y_train[:, idx] = v\n",
    "\n",
    "y_train = scaler.fit_transform(y_train)"
   ],
   "metadata": {
    "collapsed": false,
    "ExecuteTime": {
     "end_time": "2024-03-17T06:23:50.150408800Z",
     "start_time": "2024-03-17T06:23:50.128305400Z"
    }
   },
   "id": "e33ba9c19e3e823d"
  },
  {
   "cell_type": "code",
   "execution_count": 23,
   "outputs": [],
   "source": [
    "y_train = pd.DataFrame(y_train).set_index(targets.index)\n",
    "y_train['pic_name'] = targets['pic_name']"
   ],
   "metadata": {
    "collapsed": false,
    "ExecuteTime": {
     "end_time": "2024-03-17T06:23:51.053645500Z",
     "start_time": "2024-03-17T06:23:51.044746500Z"
    }
   },
   "id": "e59c493f7e285be2"
  },
  {
   "cell_type": "code",
   "execution_count": 24,
   "outputs": [],
   "source": [
    "y_val = np.zeros_like(val_targets[aux_feat[1:]], dtype=np.float32)\n",
    "\n",
    "for idx, target in enumerate(aux_feat[1:]):\n",
    "    v = val_targets[target].values\n",
    "\n",
    "    if target in log_feat:\n",
    "        v = np.log10(v)\n",
    "\n",
    "    y_val[:, idx] = v\n",
    "\n",
    "y_val = scaler.transform(y_val)"
   ],
   "metadata": {
    "collapsed": false,
    "ExecuteTime": {
     "end_time": "2024-03-17T06:23:51.969472100Z",
     "start_time": "2024-03-17T06:23:51.948076800Z"
    }
   },
   "id": "17319c6eff377a99"
  },
  {
   "cell_type": "code",
   "execution_count": 25,
   "outputs": [],
   "source": [
    "y_val = pd.DataFrame(y_val).set_index(val_targets.index)\n",
    "y_val['pic_name'] = val_targets['pic_name']"
   ],
   "metadata": {
    "collapsed": false,
    "ExecuteTime": {
     "end_time": "2024-03-17T06:23:53.146539800Z",
     "start_time": "2024-03-17T06:23:53.133624700Z"
    }
   },
   "id": "5b749810f5064388"
  },
  {
   "cell_type": "code",
   "execution_count": 26,
   "outputs": [
    {
     "data": {
      "text/plain": "              0         1         2         3         4         5         6  \\\n17346  0.146870  0.701715  0.269894  0.263682  0.290760  0.500740  0.700837   \n27072  0.458461  0.495912  0.727737  0.597717  0.799695  0.740916  0.841887   \n26326  0.441159  0.569103  0.787902  0.362773  0.327795  0.912708  0.911258   \n6399   0.425788  0.548796  0.751564  0.598817  0.618651  0.748983  0.794907   \n30360  0.065651  0.992974  0.406608  0.121098  0.455146  0.748693  0.655189   \n...         ...       ...       ...       ...       ...       ...       ...   \n27724  0.275077  0.680603  0.447287  0.413871  0.166235  0.572480  0.644684   \n5139   0.309086  0.850214  0.272575  0.180240  0.456381  0.400510  0.687251   \n35736  0.413698  0.599759  0.241346  0.423046  0.296247  0.392229  0.795117   \n14701  0.335039  0.601823  0.220426  0.422102  0.207585  0.280508  0.804646   \n27334  0.281284  0.698595  0.148348  0.615449  0.366780  0.419795  0.729919   \n\n              7         8         9  ...        21        22        23  \\\n17346  0.604985  0.691422  0.345333  ...  0.289648  0.407680  0.945077   \n27072  0.747066  0.667284  0.699029  ...  0.311493  0.735531  0.861929   \n26326  0.580048  0.562157  0.666247  ...  0.266442  0.324182  0.740882   \n6399   0.765785  0.639619  0.772026  ...  0.415866  0.587438  0.769512   \n30360  0.871136  0.947494  0.147386  ...  0.427023  0.540199  0.681310   \n...         ...       ...       ...  ...       ...       ...       ...   \n27724  0.747110  0.692307  0.503113  ...  0.398890  0.409855  0.513081   \n5139   0.677584  0.784533  0.480293  ...  0.595917  0.532324  0.986828   \n35736  0.667148  0.753452  0.282301  ...  0.358236  0.356016  0.748520   \n14701  0.647103  0.735996  0.463889  ...  0.291781  0.307257  0.767636   \n27334  0.953063  0.778353  0.421514  ...  0.275238  0.455769  0.698935   \n\n             24        25        26        27        28        29  \\\n17346  0.655185  0.550339  0.730934  0.543144  0.551009  0.424438   \n27072  0.587568  0.662830  0.451848  0.731611  0.823098  0.451281   \n26326  0.580151  0.614944  0.788281  0.959736  0.873792  0.544085   \n6399   0.707441  0.631741  0.498428  0.771504  0.798319  0.423245   \n30360  0.395606  0.408158  0.907711  0.798576  0.776798  0.855969   \n...         ...       ...       ...       ...       ...       ...   \n27724  0.435434  0.454196  0.698356  0.516569  0.697842  0.379425   \n5139   0.775914  0.801559  0.889218  0.321384  0.564175  0.489608   \n35736  0.394747  0.306807  0.780234  0.407771  0.458470  0.558428   \n14701  0.728859  0.620882  0.747455  0.388056  0.469258  0.419116   \n27334  0.434027  0.274887  0.648503  0.454681  0.441582  0.685767   \n\n                pic_name  \n17346  train_1336146.jpg  \n27072   train_508116.jpg  \n26326  train_7674095.jpg  \n6399   train_2982086.jpg  \n30360  train_3552439.jpg  \n...                  ...  \n27724  train_1112251.jpg  \n5139   train_2402293.jpg  \n35736  train_4209144.jpg  \n14701  train_7499898.jpg  \n27334   train_822212.jpg  \n\n[5785 rows x 31 columns]",
      "text/html": "<div>\n<style scoped>\n    .dataframe tbody tr th:only-of-type {\n        vertical-align: middle;\n    }\n\n    .dataframe tbody tr th {\n        vertical-align: top;\n    }\n\n    .dataframe thead th {\n        text-align: right;\n    }\n</style>\n<table border=\"1\" class=\"dataframe\">\n  <thead>\n    <tr style=\"text-align: right;\">\n      <th></th>\n      <th>0</th>\n      <th>1</th>\n      <th>2</th>\n      <th>3</th>\n      <th>4</th>\n      <th>5</th>\n      <th>6</th>\n      <th>7</th>\n      <th>8</th>\n      <th>9</th>\n      <th>...</th>\n      <th>21</th>\n      <th>22</th>\n      <th>23</th>\n      <th>24</th>\n      <th>25</th>\n      <th>26</th>\n      <th>27</th>\n      <th>28</th>\n      <th>29</th>\n      <th>pic_name</th>\n    </tr>\n  </thead>\n  <tbody>\n    <tr>\n      <th>17346</th>\n      <td>0.146870</td>\n      <td>0.701715</td>\n      <td>0.269894</td>\n      <td>0.263682</td>\n      <td>0.290760</td>\n      <td>0.500740</td>\n      <td>0.700837</td>\n      <td>0.604985</td>\n      <td>0.691422</td>\n      <td>0.345333</td>\n      <td>...</td>\n      <td>0.289648</td>\n      <td>0.407680</td>\n      <td>0.945077</td>\n      <td>0.655185</td>\n      <td>0.550339</td>\n      <td>0.730934</td>\n      <td>0.543144</td>\n      <td>0.551009</td>\n      <td>0.424438</td>\n      <td>train_1336146.jpg</td>\n    </tr>\n    <tr>\n      <th>27072</th>\n      <td>0.458461</td>\n      <td>0.495912</td>\n      <td>0.727737</td>\n      <td>0.597717</td>\n      <td>0.799695</td>\n      <td>0.740916</td>\n      <td>0.841887</td>\n      <td>0.747066</td>\n      <td>0.667284</td>\n      <td>0.699029</td>\n      <td>...</td>\n      <td>0.311493</td>\n      <td>0.735531</td>\n      <td>0.861929</td>\n      <td>0.587568</td>\n      <td>0.662830</td>\n      <td>0.451848</td>\n      <td>0.731611</td>\n      <td>0.823098</td>\n      <td>0.451281</td>\n      <td>train_508116.jpg</td>\n    </tr>\n    <tr>\n      <th>26326</th>\n      <td>0.441159</td>\n      <td>0.569103</td>\n      <td>0.787902</td>\n      <td>0.362773</td>\n      <td>0.327795</td>\n      <td>0.912708</td>\n      <td>0.911258</td>\n      <td>0.580048</td>\n      <td>0.562157</td>\n      <td>0.666247</td>\n      <td>...</td>\n      <td>0.266442</td>\n      <td>0.324182</td>\n      <td>0.740882</td>\n      <td>0.580151</td>\n      <td>0.614944</td>\n      <td>0.788281</td>\n      <td>0.959736</td>\n      <td>0.873792</td>\n      <td>0.544085</td>\n      <td>train_7674095.jpg</td>\n    </tr>\n    <tr>\n      <th>6399</th>\n      <td>0.425788</td>\n      <td>0.548796</td>\n      <td>0.751564</td>\n      <td>0.598817</td>\n      <td>0.618651</td>\n      <td>0.748983</td>\n      <td>0.794907</td>\n      <td>0.765785</td>\n      <td>0.639619</td>\n      <td>0.772026</td>\n      <td>...</td>\n      <td>0.415866</td>\n      <td>0.587438</td>\n      <td>0.769512</td>\n      <td>0.707441</td>\n      <td>0.631741</td>\n      <td>0.498428</td>\n      <td>0.771504</td>\n      <td>0.798319</td>\n      <td>0.423245</td>\n      <td>train_2982086.jpg</td>\n    </tr>\n    <tr>\n      <th>30360</th>\n      <td>0.065651</td>\n      <td>0.992974</td>\n      <td>0.406608</td>\n      <td>0.121098</td>\n      <td>0.455146</td>\n      <td>0.748693</td>\n      <td>0.655189</td>\n      <td>0.871136</td>\n      <td>0.947494</td>\n      <td>0.147386</td>\n      <td>...</td>\n      <td>0.427023</td>\n      <td>0.540199</td>\n      <td>0.681310</td>\n      <td>0.395606</td>\n      <td>0.408158</td>\n      <td>0.907711</td>\n      <td>0.798576</td>\n      <td>0.776798</td>\n      <td>0.855969</td>\n      <td>train_3552439.jpg</td>\n    </tr>\n    <tr>\n      <th>...</th>\n      <td>...</td>\n      <td>...</td>\n      <td>...</td>\n      <td>...</td>\n      <td>...</td>\n      <td>...</td>\n      <td>...</td>\n      <td>...</td>\n      <td>...</td>\n      <td>...</td>\n      <td>...</td>\n      <td>...</td>\n      <td>...</td>\n      <td>...</td>\n      <td>...</td>\n      <td>...</td>\n      <td>...</td>\n      <td>...</td>\n      <td>...</td>\n      <td>...</td>\n      <td>...</td>\n    </tr>\n    <tr>\n      <th>27724</th>\n      <td>0.275077</td>\n      <td>0.680603</td>\n      <td>0.447287</td>\n      <td>0.413871</td>\n      <td>0.166235</td>\n      <td>0.572480</td>\n      <td>0.644684</td>\n      <td>0.747110</td>\n      <td>0.692307</td>\n      <td>0.503113</td>\n      <td>...</td>\n      <td>0.398890</td>\n      <td>0.409855</td>\n      <td>0.513081</td>\n      <td>0.435434</td>\n      <td>0.454196</td>\n      <td>0.698356</td>\n      <td>0.516569</td>\n      <td>0.697842</td>\n      <td>0.379425</td>\n      <td>train_1112251.jpg</td>\n    </tr>\n    <tr>\n      <th>5139</th>\n      <td>0.309086</td>\n      <td>0.850214</td>\n      <td>0.272575</td>\n      <td>0.180240</td>\n      <td>0.456381</td>\n      <td>0.400510</td>\n      <td>0.687251</td>\n      <td>0.677584</td>\n      <td>0.784533</td>\n      <td>0.480293</td>\n      <td>...</td>\n      <td>0.595917</td>\n      <td>0.532324</td>\n      <td>0.986828</td>\n      <td>0.775914</td>\n      <td>0.801559</td>\n      <td>0.889218</td>\n      <td>0.321384</td>\n      <td>0.564175</td>\n      <td>0.489608</td>\n      <td>train_2402293.jpg</td>\n    </tr>\n    <tr>\n      <th>35736</th>\n      <td>0.413698</td>\n      <td>0.599759</td>\n      <td>0.241346</td>\n      <td>0.423046</td>\n      <td>0.296247</td>\n      <td>0.392229</td>\n      <td>0.795117</td>\n      <td>0.667148</td>\n      <td>0.753452</td>\n      <td>0.282301</td>\n      <td>...</td>\n      <td>0.358236</td>\n      <td>0.356016</td>\n      <td>0.748520</td>\n      <td>0.394747</td>\n      <td>0.306807</td>\n      <td>0.780234</td>\n      <td>0.407771</td>\n      <td>0.458470</td>\n      <td>0.558428</td>\n      <td>train_4209144.jpg</td>\n    </tr>\n    <tr>\n      <th>14701</th>\n      <td>0.335039</td>\n      <td>0.601823</td>\n      <td>0.220426</td>\n      <td>0.422102</td>\n      <td>0.207585</td>\n      <td>0.280508</td>\n      <td>0.804646</td>\n      <td>0.647103</td>\n      <td>0.735996</td>\n      <td>0.463889</td>\n      <td>...</td>\n      <td>0.291781</td>\n      <td>0.307257</td>\n      <td>0.767636</td>\n      <td>0.728859</td>\n      <td>0.620882</td>\n      <td>0.747455</td>\n      <td>0.388056</td>\n      <td>0.469258</td>\n      <td>0.419116</td>\n      <td>train_7499898.jpg</td>\n    </tr>\n    <tr>\n      <th>27334</th>\n      <td>0.281284</td>\n      <td>0.698595</td>\n      <td>0.148348</td>\n      <td>0.615449</td>\n      <td>0.366780</td>\n      <td>0.419795</td>\n      <td>0.729919</td>\n      <td>0.953063</td>\n      <td>0.778353</td>\n      <td>0.421514</td>\n      <td>...</td>\n      <td>0.275238</td>\n      <td>0.455769</td>\n      <td>0.698935</td>\n      <td>0.434027</td>\n      <td>0.274887</td>\n      <td>0.648503</td>\n      <td>0.454681</td>\n      <td>0.441582</td>\n      <td>0.685767</td>\n      <td>train_822212.jpg</td>\n    </tr>\n  </tbody>\n</table>\n<p>5785 rows × 31 columns</p>\n</div>"
     },
     "execution_count": 26,
     "metadata": {},
     "output_type": "execute_result"
    }
   ],
   "source": [
    "y_val"
   ],
   "metadata": {
    "collapsed": false,
    "ExecuteTime": {
     "end_time": "2024-03-17T06:23:54.368090500Z",
     "start_time": "2024-03-17T06:23:54.326527600Z"
    }
   },
   "id": "6e7229f513647083"
  },
  {
   "cell_type": "code",
   "execution_count": 27,
   "outputs": [],
   "source": [
    "y_train.to_csv('./data/2023/processed/train.csv', index=False)\n",
    "y_val.to_csv('./data/2023/processed/val.csv', index=False)"
   ],
   "metadata": {
    "collapsed": false,
    "ExecuteTime": {
     "end_time": "2024-03-17T06:23:57.726905700Z",
     "start_time": "2024-03-17T06:23:56.830776200Z"
    }
   },
   "id": "7a2a3c80ec5494df"
  },
  {
   "cell_type": "code",
   "execution_count": 28,
   "outputs": [
    {
     "data": {
      "text/plain": "['./data/2023/processed/scaler_23.joblib']"
     },
     "execution_count": 28,
     "metadata": {},
     "output_type": "execute_result"
    }
   ],
   "source": [
    "joblib.dump(scaler, './data/2023/processed/scaler_23.joblib')"
   ],
   "metadata": {
    "collapsed": false,
    "ExecuteTime": {
     "end_time": "2024-03-17T06:23:58.665539400Z",
     "start_time": "2024-03-17T06:23:58.653556500Z"
    }
   },
   "id": "2f0aebfe1be178b2"
  }
 ],
 "metadata": {
  "kernelspec": {
   "display_name": "Python 3",
   "language": "python",
   "name": "python3"
  },
  "language_info": {
   "codemirror_mode": {
    "name": "ipython",
    "version": 2
   },
   "file_extension": ".py",
   "mimetype": "text/x-python",
   "name": "python",
   "nbconvert_exporter": "python",
   "pygments_lexer": "ipython2",
   "version": "2.7.6"
  }
 },
 "nbformat": 4,
 "nbformat_minor": 5
}
