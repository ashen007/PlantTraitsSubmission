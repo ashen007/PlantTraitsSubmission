{
 "cells": [
  {
   "cell_type": "code",
   "execution_count": null,
   "id": "initial_id",
   "metadata": {
    "collapsed": true
   },
   "outputs": [],
   "source": [
    "import pandas as pd"
   ]
  },
  {
   "cell_type": "code",
   "execution_count": null,
   "outputs": [],
   "source": [
    "sub_1 = pd.read_csv('runs/effnet/combine/submission_1.csv', index_col='id')\n",
    "sub_2 = pd.read_csv('runs/effnet/combine/submission_2.csv', index_col='id')\n",
    "sub_3 = pd.read_csv('runs/effnet/combine/submission_3.csv', index_col='id')"
   ],
   "metadata": {
    "collapsed": false
   },
   "id": "2654447bf283e0c1"
  },
  {
   "cell_type": "code",
   "execution_count": null,
   "outputs": [],
   "source": [
    "df = pd.DataFrame()\n",
    "\n",
    "for col in sub_1.columns.tolist():\n",
    "    df[col] = sub_1[col] + sub_2[col] + sub_3[col]"
   ],
   "metadata": {
    "collapsed": false
   },
   "id": "bb1e6d6968e44fcf"
  },
  {
   "cell_type": "code",
   "execution_count": null,
   "outputs": [],
   "source": [
    "df = df / 3"
   ],
   "metadata": {
    "collapsed": false
   },
   "id": "c6b4b254b4bad9d9"
  },
  {
   "cell_type": "code",
   "execution_count": null,
   "outputs": [],
   "source": [
    "df.to_csv('runs/effnet/combine/final_sub.csv')"
   ],
   "metadata": {
    "collapsed": false
   },
   "id": "b783ca1f9f4ed203"
  },
  {
   "cell_type": "code",
   "execution_count": null,
   "outputs": [],
   "source": [],
   "metadata": {
    "collapsed": false
   },
   "id": "d98c4fdef78265ac"
  }
 ],
 "metadata": {
  "kernelspec": {
   "display_name": "Python 3",
   "language": "python",
   "name": "python3"
  },
  "language_info": {
   "codemirror_mode": {
    "name": "ipython",
    "version": 2
   },
   "file_extension": ".py",
   "mimetype": "text/x-python",
   "name": "python",
   "nbconvert_exporter": "python",
   "pygments_lexer": "ipython2",
   "version": "2.7.6"
  }
 },
 "nbformat": 4,
 "nbformat_minor": 5
}
