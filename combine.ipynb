{
 "cells": [
  {
   "cell_type": "code",
   "execution_count": 1,
   "id": "initial_id",
   "metadata": {
    "collapsed": true,
    "ExecuteTime": {
     "end_time": "2024-04-02T18:54:23.746669600Z",
     "start_time": "2024-04-02T18:54:23.412263900Z"
    }
   },
   "outputs": [],
   "source": [
    "import pandas as pd"
   ]
  },
  {
   "cell_type": "code",
   "execution_count": 2,
   "outputs": [],
   "source": [
    "sub_1 = pd.read_csv('runs/effnet_extra/subs/submission_1.csv', index_col='id')\n",
    "sub_2 = pd.read_csv('runs/effnet_extra/subs/submission_2.csv', index_col='id')\n",
    "sub_3 = pd.read_csv('runs/effnet_extra/subs/submission_3.csv', index_col='id')\n",
    "sub_4 = pd.read_csv('runs/effnet_extra/subs/submission_4.csv', index_col='id')\n",
    "sub_5 = pd.read_csv('runs/effnet_extra/subs/submission_5.csv', index_col='id')"
   ],
   "metadata": {
    "collapsed": false,
    "ExecuteTime": {
     "end_time": "2024-04-02T18:54:24.960021200Z",
     "start_time": "2024-04-02T18:54:24.773830100Z"
    }
   },
   "id": "2654447bf283e0c1"
  },
  {
   "cell_type": "code",
   "execution_count": 13,
   "outputs": [],
   "source": [
    "df = pd.DataFrame()\n",
    "\n",
    "for col in sub_1.columns.tolist():\n",
    "    df[col] = (0.05 * sub_1[col] + \n",
    "               0.8 * sub_2[col] +\n",
    "               0.05 * sub_3[col] +\n",
    "               0.05 * sub_4[col] +\n",
    "               0.05 * sub_5[col])"
   ],
   "metadata": {
    "collapsed": false,
    "ExecuteTime": {
     "end_time": "2024-04-02T18:59:48.464404800Z",
     "start_time": "2024-04-02T18:59:48.086277300Z"
    }
   },
   "id": "bb1e6d6968e44fcf"
  },
  {
   "cell_type": "code",
   "execution_count": 14,
   "outputs": [
    {
     "data": {
      "text/plain": "                 X4        X11       X18       X50        X26        X3112\nid                                                                        \n201238668  0.623180   8.495170  0.623653  1.724899   0.881977   113.937322\n202310319  0.560973  17.496680  0.413914  1.118965   0.248542  1098.588176\n202604412  0.576572  17.708011  1.158529  1.390061   4.655469   880.891015\n201353439  0.516800  18.339752  0.222047  1.058806   2.203749  2190.473640\n195351745  0.494273  10.649977  0.159547  1.658713   1.662383   296.042409\n...             ...        ...       ...       ...        ...          ...\n195548469  0.565209  13.705121  0.979387  1.610267   0.829632   235.669373\n199261251  0.541866  17.327743  2.818700  1.091894   1.570599  3526.756712\n203031744  0.423597  31.610420  0.831335  1.052436   9.999728  3939.958716\n197736382  0.398256  23.128651  0.324886  1.175608   0.224476   294.334459\n202625693  0.543325  13.076111  6.257828  1.296686  13.279461  4450.820356\n\n[6545 rows x 6 columns]",
      "text/html": "<div>\n<style scoped>\n    .dataframe tbody tr th:only-of-type {\n        vertical-align: middle;\n    }\n\n    .dataframe tbody tr th {\n        vertical-align: top;\n    }\n\n    .dataframe thead th {\n        text-align: right;\n    }\n</style>\n<table border=\"1\" class=\"dataframe\">\n  <thead>\n    <tr style=\"text-align: right;\">\n      <th></th>\n      <th>X4</th>\n      <th>X11</th>\n      <th>X18</th>\n      <th>X50</th>\n      <th>X26</th>\n      <th>X3112</th>\n    </tr>\n    <tr>\n      <th>id</th>\n      <th></th>\n      <th></th>\n      <th></th>\n      <th></th>\n      <th></th>\n      <th></th>\n    </tr>\n  </thead>\n  <tbody>\n    <tr>\n      <th>201238668</th>\n      <td>0.623180</td>\n      <td>8.495170</td>\n      <td>0.623653</td>\n      <td>1.724899</td>\n      <td>0.881977</td>\n      <td>113.937322</td>\n    </tr>\n    <tr>\n      <th>202310319</th>\n      <td>0.560973</td>\n      <td>17.496680</td>\n      <td>0.413914</td>\n      <td>1.118965</td>\n      <td>0.248542</td>\n      <td>1098.588176</td>\n    </tr>\n    <tr>\n      <th>202604412</th>\n      <td>0.576572</td>\n      <td>17.708011</td>\n      <td>1.158529</td>\n      <td>1.390061</td>\n      <td>4.655469</td>\n      <td>880.891015</td>\n    </tr>\n    <tr>\n      <th>201353439</th>\n      <td>0.516800</td>\n      <td>18.339752</td>\n      <td>0.222047</td>\n      <td>1.058806</td>\n      <td>2.203749</td>\n      <td>2190.473640</td>\n    </tr>\n    <tr>\n      <th>195351745</th>\n      <td>0.494273</td>\n      <td>10.649977</td>\n      <td>0.159547</td>\n      <td>1.658713</td>\n      <td>1.662383</td>\n      <td>296.042409</td>\n    </tr>\n    <tr>\n      <th>...</th>\n      <td>...</td>\n      <td>...</td>\n      <td>...</td>\n      <td>...</td>\n      <td>...</td>\n      <td>...</td>\n    </tr>\n    <tr>\n      <th>195548469</th>\n      <td>0.565209</td>\n      <td>13.705121</td>\n      <td>0.979387</td>\n      <td>1.610267</td>\n      <td>0.829632</td>\n      <td>235.669373</td>\n    </tr>\n    <tr>\n      <th>199261251</th>\n      <td>0.541866</td>\n      <td>17.327743</td>\n      <td>2.818700</td>\n      <td>1.091894</td>\n      <td>1.570599</td>\n      <td>3526.756712</td>\n    </tr>\n    <tr>\n      <th>203031744</th>\n      <td>0.423597</td>\n      <td>31.610420</td>\n      <td>0.831335</td>\n      <td>1.052436</td>\n      <td>9.999728</td>\n      <td>3939.958716</td>\n    </tr>\n    <tr>\n      <th>197736382</th>\n      <td>0.398256</td>\n      <td>23.128651</td>\n      <td>0.324886</td>\n      <td>1.175608</td>\n      <td>0.224476</td>\n      <td>294.334459</td>\n    </tr>\n    <tr>\n      <th>202625693</th>\n      <td>0.543325</td>\n      <td>13.076111</td>\n      <td>6.257828</td>\n      <td>1.296686</td>\n      <td>13.279461</td>\n      <td>4450.820356</td>\n    </tr>\n  </tbody>\n</table>\n<p>6545 rows × 6 columns</p>\n</div>"
     },
     "execution_count": 14,
     "metadata": {},
     "output_type": "execute_result"
    }
   ],
   "source": [
    "df"
   ],
   "metadata": {
    "collapsed": false,
    "ExecuteTime": {
     "end_time": "2024-04-02T18:59:58.259494800Z",
     "start_time": "2024-04-02T18:59:58.255308Z"
    }
   },
   "id": "5ac44ce60339f8f1"
  },
  {
   "cell_type": "code",
   "execution_count": 15,
   "outputs": [],
   "source": [
    "df.to_csv('runs/effnet_extra/subs/final_sub.csv')"
   ],
   "metadata": {
    "collapsed": false,
    "ExecuteTime": {
     "end_time": "2024-04-02T19:00:00.314056300Z",
     "start_time": "2024-04-02T19:00:00.270752900Z"
    }
   },
   "id": "b783ca1f9f4ed203"
  },
  {
   "cell_type": "code",
   "execution_count": null,
   "outputs": [],
   "source": [],
   "metadata": {
    "collapsed": false
   },
   "id": "d98c4fdef78265ac"
  }
 ],
 "metadata": {
  "kernelspec": {
   "display_name": "Python 3",
   "language": "python",
   "name": "python3"
  },
  "language_info": {
   "codemirror_mode": {
    "name": "ipython",
    "version": 2
   },
   "file_extension": ".py",
   "mimetype": "text/x-python",
   "name": "python",
   "nbconvert_exporter": "python",
   "pygments_lexer": "ipython2",
   "version": "2.7.6"
  }
 },
 "nbformat": 4,
 "nbformat_minor": 5
}
