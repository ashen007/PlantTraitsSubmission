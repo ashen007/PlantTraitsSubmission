{
 "cells": [
  {
   "cell_type": "code",
   "execution_count": 1,
   "id": "initial_id",
   "metadata": {
    "collapsed": true,
    "ExecuteTime": {
     "end_time": "2024-04-21T16:20:15.553528700Z",
     "start_time": "2024-04-21T16:20:15.169085800Z"
    }
   },
   "outputs": [],
   "source": [
    "import numpy as np\n",
    "import pandas as pd"
   ]
  },
  {
   "cell_type": "code",
   "execution_count": 3,
   "outputs": [],
   "source": [
    "sub_1 = pd.read_csv('./learn/submission_convnext.csv')\n",
    "sub_2 = pd.read_csv('./learn/submission_seresnet.csv')\n",
    "sub_3 = pd.read_csv('./learn/submission_swin.csv')\n",
    "sub_4 = pd.read_csv('./learn/submission_convnext_with_sd.csv')\n",
    "sub_5 = pd.read_csv('./learn/submission_seresnet_with_sd.csv')\n",
    "sub_6 = pd.read_csv('./learn/submission_swin_with_sd.csv')"
   ],
   "metadata": {
    "collapsed": false,
    "ExecuteTime": {
     "end_time": "2024-04-21T16:21:05.209130500Z",
     "start_time": "2024-04-21T16:21:04.944483800Z"
    }
   },
   "id": "113ae8acd957f3df"
  },
  {
   "cell_type": "code",
   "execution_count": 4,
   "outputs": [
    {
     "data": {
      "text/plain": "          id        X4        X11       X18       X50       X26       X3112\n0  201238668  0.548943   9.374317  1.204991  1.504087  1.805247   289.25864\n1  202310319  0.568395  16.079735  0.328172  1.027176  0.018574   999.93040\n2  202604412  0.608680  17.688717  1.563019  1.214991  5.383033   892.94165\n3  201353439  0.460955  20.543142  0.263806  1.146570  0.911203  2061.40400\n4  195351745  0.474894  12.786066  0.199458  1.542448  0.648393   192.78943",
      "text/html": "<div>\n<style scoped>\n    .dataframe tbody tr th:only-of-type {\n        vertical-align: middle;\n    }\n\n    .dataframe tbody tr th {\n        vertical-align: top;\n    }\n\n    .dataframe thead th {\n        text-align: right;\n    }\n</style>\n<table border=\"1\" class=\"dataframe\">\n  <thead>\n    <tr style=\"text-align: right;\">\n      <th></th>\n      <th>id</th>\n      <th>X4</th>\n      <th>X11</th>\n      <th>X18</th>\n      <th>X50</th>\n      <th>X26</th>\n      <th>X3112</th>\n    </tr>\n  </thead>\n  <tbody>\n    <tr>\n      <th>0</th>\n      <td>201238668</td>\n      <td>0.548943</td>\n      <td>9.374317</td>\n      <td>1.204991</td>\n      <td>1.504087</td>\n      <td>1.805247</td>\n      <td>289.25864</td>\n    </tr>\n    <tr>\n      <th>1</th>\n      <td>202310319</td>\n      <td>0.568395</td>\n      <td>16.079735</td>\n      <td>0.328172</td>\n      <td>1.027176</td>\n      <td>0.018574</td>\n      <td>999.93040</td>\n    </tr>\n    <tr>\n      <th>2</th>\n      <td>202604412</td>\n      <td>0.608680</td>\n      <td>17.688717</td>\n      <td>1.563019</td>\n      <td>1.214991</td>\n      <td>5.383033</td>\n      <td>892.94165</td>\n    </tr>\n    <tr>\n      <th>3</th>\n      <td>201353439</td>\n      <td>0.460955</td>\n      <td>20.543142</td>\n      <td>0.263806</td>\n      <td>1.146570</td>\n      <td>0.911203</td>\n      <td>2061.40400</td>\n    </tr>\n    <tr>\n      <th>4</th>\n      <td>195351745</td>\n      <td>0.474894</td>\n      <td>12.786066</td>\n      <td>0.199458</td>\n      <td>1.542448</td>\n      <td>0.648393</td>\n      <td>192.78943</td>\n    </tr>\n  </tbody>\n</table>\n</div>"
     },
     "execution_count": 4,
     "metadata": {},
     "output_type": "execute_result"
    }
   ],
   "source": [
    "sub_1.head()"
   ],
   "metadata": {
    "collapsed": false,
    "ExecuteTime": {
     "end_time": "2024-04-21T16:21:23.325727800Z",
     "start_time": "2024-04-21T16:21:23.317837200Z"
    }
   },
   "id": "627f3ca2ece1c49a"
  },
  {
   "cell_type": "code",
   "execution_count": 5,
   "outputs": [
    {
     "data": {
      "text/plain": "          id        X4        X11       X18       X50        X26        X3112\n0  201238668  0.600732   8.253669  2.274210  1.668797   3.594363   340.358733\n1  202310319  0.467475  19.269520  0.334454  1.177178   0.275493   652.751326\n2  202604412  0.589942  12.230312  2.028695  1.521835  10.261478   448.521524\n3  201353439  0.547608  26.960489  0.328770  0.866243   1.984041  2155.471410\n4  195351745  0.473007  14.059853  0.206454  1.440998   0.939884   454.502431",
      "text/html": "<div>\n<style scoped>\n    .dataframe tbody tr th:only-of-type {\n        vertical-align: middle;\n    }\n\n    .dataframe tbody tr th {\n        vertical-align: top;\n    }\n\n    .dataframe thead th {\n        text-align: right;\n    }\n</style>\n<table border=\"1\" class=\"dataframe\">\n  <thead>\n    <tr style=\"text-align: right;\">\n      <th></th>\n      <th>id</th>\n      <th>X4</th>\n      <th>X11</th>\n      <th>X18</th>\n      <th>X50</th>\n      <th>X26</th>\n      <th>X3112</th>\n    </tr>\n  </thead>\n  <tbody>\n    <tr>\n      <th>0</th>\n      <td>201238668</td>\n      <td>0.600732</td>\n      <td>8.253669</td>\n      <td>2.274210</td>\n      <td>1.668797</td>\n      <td>3.594363</td>\n      <td>340.358733</td>\n    </tr>\n    <tr>\n      <th>1</th>\n      <td>202310319</td>\n      <td>0.467475</td>\n      <td>19.269520</td>\n      <td>0.334454</td>\n      <td>1.177178</td>\n      <td>0.275493</td>\n      <td>652.751326</td>\n    </tr>\n    <tr>\n      <th>2</th>\n      <td>202604412</td>\n      <td>0.589942</td>\n      <td>12.230312</td>\n      <td>2.028695</td>\n      <td>1.521835</td>\n      <td>10.261478</td>\n      <td>448.521524</td>\n    </tr>\n    <tr>\n      <th>3</th>\n      <td>201353439</td>\n      <td>0.547608</td>\n      <td>26.960489</td>\n      <td>0.328770</td>\n      <td>0.866243</td>\n      <td>1.984041</td>\n      <td>2155.471410</td>\n    </tr>\n    <tr>\n      <th>4</th>\n      <td>195351745</td>\n      <td>0.473007</td>\n      <td>14.059853</td>\n      <td>0.206454</td>\n      <td>1.440998</td>\n      <td>0.939884</td>\n      <td>454.502431</td>\n    </tr>\n  </tbody>\n</table>\n</div>"
     },
     "execution_count": 5,
     "metadata": {},
     "output_type": "execute_result"
    }
   ],
   "source": [
    "sub_2.head()"
   ],
   "metadata": {
    "collapsed": false,
    "ExecuteTime": {
     "end_time": "2024-04-21T16:21:36.207912400Z",
     "start_time": "2024-04-21T16:21:36.204317Z"
    }
   },
   "id": "92556fcba7d366af"
  },
  {
   "cell_type": "code",
   "execution_count": 6,
   "outputs": [
    {
     "data": {
      "text/plain": "          id        X4        X11       X18       X50        X26        X3112\n0  201238668  0.624119   8.665418  1.509857  1.865228   3.109482   297.298175\n1  202310319  0.399202  20.221238  0.370147  1.157226   0.449538   621.279175\n2  202604412  0.681828   8.475605  2.349462  2.063518  18.066993   223.592298\n3  201353439  0.502319  26.397087  0.216632  0.878398   0.666249  1046.501077\n4  195351745  0.475403  15.069086  0.206388  1.374217   0.635165   266.535556",
      "text/html": "<div>\n<style scoped>\n    .dataframe tbody tr th:only-of-type {\n        vertical-align: middle;\n    }\n\n    .dataframe tbody tr th {\n        vertical-align: top;\n    }\n\n    .dataframe thead th {\n        text-align: right;\n    }\n</style>\n<table border=\"1\" class=\"dataframe\">\n  <thead>\n    <tr style=\"text-align: right;\">\n      <th></th>\n      <th>id</th>\n      <th>X4</th>\n      <th>X11</th>\n      <th>X18</th>\n      <th>X50</th>\n      <th>X26</th>\n      <th>X3112</th>\n    </tr>\n  </thead>\n  <tbody>\n    <tr>\n      <th>0</th>\n      <td>201238668</td>\n      <td>0.624119</td>\n      <td>8.665418</td>\n      <td>1.509857</td>\n      <td>1.865228</td>\n      <td>3.109482</td>\n      <td>297.298175</td>\n    </tr>\n    <tr>\n      <th>1</th>\n      <td>202310319</td>\n      <td>0.399202</td>\n      <td>20.221238</td>\n      <td>0.370147</td>\n      <td>1.157226</td>\n      <td>0.449538</td>\n      <td>621.279175</td>\n    </tr>\n    <tr>\n      <th>2</th>\n      <td>202604412</td>\n      <td>0.681828</td>\n      <td>8.475605</td>\n      <td>2.349462</td>\n      <td>2.063518</td>\n      <td>18.066993</td>\n      <td>223.592298</td>\n    </tr>\n    <tr>\n      <th>3</th>\n      <td>201353439</td>\n      <td>0.502319</td>\n      <td>26.397087</td>\n      <td>0.216632</td>\n      <td>0.878398</td>\n      <td>0.666249</td>\n      <td>1046.501077</td>\n    </tr>\n    <tr>\n      <th>4</th>\n      <td>195351745</td>\n      <td>0.475403</td>\n      <td>15.069086</td>\n      <td>0.206388</td>\n      <td>1.374217</td>\n      <td>0.635165</td>\n      <td>266.535556</td>\n    </tr>\n  </tbody>\n</table>\n</div>"
     },
     "execution_count": 6,
     "metadata": {},
     "output_type": "execute_result"
    }
   ],
   "source": [
    "sub_3.head()"
   ],
   "metadata": {
    "collapsed": false,
    "ExecuteTime": {
     "end_time": "2024-04-21T16:21:45.664483100Z",
     "start_time": "2024-04-21T16:21:45.657425100Z"
    }
   },
   "id": "e0c3b8f11a978ad7"
  },
  {
   "cell_type": "code",
   "execution_count": 7,
   "outputs": [
    {
     "data": {
      "text/plain": "          id        X4        X11       X18       X50       X26        X3112\n0  201238668  0.570887   7.811230  1.476926  1.708191  0.571730   248.039212\n1  202310319  0.531884  17.366231  0.367708  1.229769  0.192582   794.473956\n2  202604412  0.679476  13.214280  2.224793  1.488199  7.932003   389.128145\n3  201353439  0.484935  20.263886  0.233032  1.164499  1.907275  2002.672950\n4  195351745  0.506883  10.448855  0.137308  1.660511  0.437967    79.488771",
      "text/html": "<div>\n<style scoped>\n    .dataframe tbody tr th:only-of-type {\n        vertical-align: middle;\n    }\n\n    .dataframe tbody tr th {\n        vertical-align: top;\n    }\n\n    .dataframe thead th {\n        text-align: right;\n    }\n</style>\n<table border=\"1\" class=\"dataframe\">\n  <thead>\n    <tr style=\"text-align: right;\">\n      <th></th>\n      <th>id</th>\n      <th>X4</th>\n      <th>X11</th>\n      <th>X18</th>\n      <th>X50</th>\n      <th>X26</th>\n      <th>X3112</th>\n    </tr>\n  </thead>\n  <tbody>\n    <tr>\n      <th>0</th>\n      <td>201238668</td>\n      <td>0.570887</td>\n      <td>7.811230</td>\n      <td>1.476926</td>\n      <td>1.708191</td>\n      <td>0.571730</td>\n      <td>248.039212</td>\n    </tr>\n    <tr>\n      <th>1</th>\n      <td>202310319</td>\n      <td>0.531884</td>\n      <td>17.366231</td>\n      <td>0.367708</td>\n      <td>1.229769</td>\n      <td>0.192582</td>\n      <td>794.473956</td>\n    </tr>\n    <tr>\n      <th>2</th>\n      <td>202604412</td>\n      <td>0.679476</td>\n      <td>13.214280</td>\n      <td>2.224793</td>\n      <td>1.488199</td>\n      <td>7.932003</td>\n      <td>389.128145</td>\n    </tr>\n    <tr>\n      <th>3</th>\n      <td>201353439</td>\n      <td>0.484935</td>\n      <td>20.263886</td>\n      <td>0.233032</td>\n      <td>1.164499</td>\n      <td>1.907275</td>\n      <td>2002.672950</td>\n    </tr>\n    <tr>\n      <th>4</th>\n      <td>195351745</td>\n      <td>0.506883</td>\n      <td>10.448855</td>\n      <td>0.137308</td>\n      <td>1.660511</td>\n      <td>0.437967</td>\n      <td>79.488771</td>\n    </tr>\n  </tbody>\n</table>\n</div>"
     },
     "execution_count": 7,
     "metadata": {},
     "output_type": "execute_result"
    }
   ],
   "source": [
    "sub_4.head()"
   ],
   "metadata": {
    "collapsed": false,
    "ExecuteTime": {
     "end_time": "2024-04-21T16:22:01.115158300Z",
     "start_time": "2024-04-21T16:22:01.108803300Z"
    }
   },
   "id": "d8e2e62603ce1e24"
  },
  {
   "cell_type": "code",
   "execution_count": 8,
   "outputs": [
    {
     "data": {
      "text/plain": "          id        X4        X11       X18       X50       X26        X3112\n0  201238668  0.529521   6.861178  1.713334  1.555535  1.470225   179.301165\n1  202310319  0.501647  16.240434  0.402055  1.216035  0.144476   754.825513\n2  202604412  0.560654  10.981959  2.711443  1.619443  9.213506   369.991863\n3  201353439  0.531585  18.692412  0.513002  1.267784  3.363382  1833.272050\n4  195351745  0.455964  15.664613  0.169568  1.339082  0.482541   197.480360",
      "text/html": "<div>\n<style scoped>\n    .dataframe tbody tr th:only-of-type {\n        vertical-align: middle;\n    }\n\n    .dataframe tbody tr th {\n        vertical-align: top;\n    }\n\n    .dataframe thead th {\n        text-align: right;\n    }\n</style>\n<table border=\"1\" class=\"dataframe\">\n  <thead>\n    <tr style=\"text-align: right;\">\n      <th></th>\n      <th>id</th>\n      <th>X4</th>\n      <th>X11</th>\n      <th>X18</th>\n      <th>X50</th>\n      <th>X26</th>\n      <th>X3112</th>\n    </tr>\n  </thead>\n  <tbody>\n    <tr>\n      <th>0</th>\n      <td>201238668</td>\n      <td>0.529521</td>\n      <td>6.861178</td>\n      <td>1.713334</td>\n      <td>1.555535</td>\n      <td>1.470225</td>\n      <td>179.301165</td>\n    </tr>\n    <tr>\n      <th>1</th>\n      <td>202310319</td>\n      <td>0.501647</td>\n      <td>16.240434</td>\n      <td>0.402055</td>\n      <td>1.216035</td>\n      <td>0.144476</td>\n      <td>754.825513</td>\n    </tr>\n    <tr>\n      <th>2</th>\n      <td>202604412</td>\n      <td>0.560654</td>\n      <td>10.981959</td>\n      <td>2.711443</td>\n      <td>1.619443</td>\n      <td>9.213506</td>\n      <td>369.991863</td>\n    </tr>\n    <tr>\n      <th>3</th>\n      <td>201353439</td>\n      <td>0.531585</td>\n      <td>18.692412</td>\n      <td>0.513002</td>\n      <td>1.267784</td>\n      <td>3.363382</td>\n      <td>1833.272050</td>\n    </tr>\n    <tr>\n      <th>4</th>\n      <td>195351745</td>\n      <td>0.455964</td>\n      <td>15.664613</td>\n      <td>0.169568</td>\n      <td>1.339082</td>\n      <td>0.482541</td>\n      <td>197.480360</td>\n    </tr>\n  </tbody>\n</table>\n</div>"
     },
     "execution_count": 8,
     "metadata": {},
     "output_type": "execute_result"
    }
   ],
   "source": [
    "sub_5.head()"
   ],
   "metadata": {
    "collapsed": false,
    "ExecuteTime": {
     "end_time": "2024-04-21T16:22:13.588639300Z",
     "start_time": "2024-04-21T16:22:13.582099100Z"
    }
   },
   "id": "a31800b371bb7014"
  },
  {
   "cell_type": "code",
   "execution_count": 9,
   "outputs": [
    {
     "data": {
      "text/plain": "          id        X4        X11       X18       X50        X26        X3112\n0  201238668  0.601134   8.235805  1.363930  1.646113   0.695889   165.269870\n1  202310319  0.423352  19.776700  0.331293  1.149481   0.200093   744.232011\n2  202604412  0.711158   7.659737  2.209927  2.523614  21.117102   132.006009\n3  201353439  0.549057  22.681128  0.308525  0.889344   1.776022  1900.598006\n4  195351745  0.472471  12.713201  0.296089  1.383192   0.630437   389.689338",
      "text/html": "<div>\n<style scoped>\n    .dataframe tbody tr th:only-of-type {\n        vertical-align: middle;\n    }\n\n    .dataframe tbody tr th {\n        vertical-align: top;\n    }\n\n    .dataframe thead th {\n        text-align: right;\n    }\n</style>\n<table border=\"1\" class=\"dataframe\">\n  <thead>\n    <tr style=\"text-align: right;\">\n      <th></th>\n      <th>id</th>\n      <th>X4</th>\n      <th>X11</th>\n      <th>X18</th>\n      <th>X50</th>\n      <th>X26</th>\n      <th>X3112</th>\n    </tr>\n  </thead>\n  <tbody>\n    <tr>\n      <th>0</th>\n      <td>201238668</td>\n      <td>0.601134</td>\n      <td>8.235805</td>\n      <td>1.363930</td>\n      <td>1.646113</td>\n      <td>0.695889</td>\n      <td>165.269870</td>\n    </tr>\n    <tr>\n      <th>1</th>\n      <td>202310319</td>\n      <td>0.423352</td>\n      <td>19.776700</td>\n      <td>0.331293</td>\n      <td>1.149481</td>\n      <td>0.200093</td>\n      <td>744.232011</td>\n    </tr>\n    <tr>\n      <th>2</th>\n      <td>202604412</td>\n      <td>0.711158</td>\n      <td>7.659737</td>\n      <td>2.209927</td>\n      <td>2.523614</td>\n      <td>21.117102</td>\n      <td>132.006009</td>\n    </tr>\n    <tr>\n      <th>3</th>\n      <td>201353439</td>\n      <td>0.549057</td>\n      <td>22.681128</td>\n      <td>0.308525</td>\n      <td>0.889344</td>\n      <td>1.776022</td>\n      <td>1900.598006</td>\n    </tr>\n    <tr>\n      <th>4</th>\n      <td>195351745</td>\n      <td>0.472471</td>\n      <td>12.713201</td>\n      <td>0.296089</td>\n      <td>1.383192</td>\n      <td>0.630437</td>\n      <td>389.689338</td>\n    </tr>\n  </tbody>\n</table>\n</div>"
     },
     "execution_count": 9,
     "metadata": {},
     "output_type": "execute_result"
    }
   ],
   "source": [
    "sub_6.head()"
   ],
   "metadata": {
    "collapsed": false,
    "ExecuteTime": {
     "end_time": "2024-04-21T16:22:26.637383800Z",
     "start_time": "2024-04-21T16:22:26.625894200Z"
    }
   },
   "id": "898ca91b715e1e01"
  },
  {
   "cell_type": "code",
   "execution_count": 10,
   "outputs": [],
   "source": [
    "avg_ = np.asarray([sub_1.iloc[:, 1:],\n",
    "                   sub_2.iloc[:, 1:],\n",
    "                   sub_3.iloc[:, 1:],\n",
    "                   sub_4.iloc[:, 1:],\n",
    "                   sub_5.iloc[:, 1:],\n",
    "                   sub_6.iloc[:, 1:],\n",
    "                   ]).mean(axis=0)"
   ],
   "metadata": {
    "collapsed": false,
    "ExecuteTime": {
     "end_time": "2024-04-21T16:23:23.168671600Z",
     "start_time": "2024-04-21T16:23:23.164988100Z"
    }
   },
   "id": "b7ee7fb2f45d5829"
  },
  {
   "cell_type": "code",
   "execution_count": 11,
   "outputs": [
    {
     "data": {
      "text/plain": "array([[5.79222735e-01, 8.20026961e+00, 1.59054149e+00, 1.65799170e+00,\n        1.87448931e+00, 2.53254299e+02],\n       [4.81992365e-01, 1.81589764e+01, 3.55638265e-01, 1.15947790e+00,\n        2.13459371e-01, 7.61248730e+02],\n       [6.38622755e-01, 1.17084351e+01, 2.18122326e+00, 1.73860014e+00,\n        1.19956858e+01, 4.09363582e+02],\n       ...,\n       [4.44814500e-01, 2.44357208e+01, 1.09329772e+00, 1.25902773e+00,\n        1.17232535e+01, 4.92094049e+03],\n       [4.50567305e-01, 1.62038938e+01, 3.31006767e-01, 1.48240048e+00,\n        3.41172429e-01, 3.04944222e+02],\n       [6.32830410e-01, 1.39052474e+01, 1.15584243e+01, 1.36855354e+00,\n        2.90004939e+02, 3.83258450e+03]])"
     },
     "execution_count": 11,
     "metadata": {},
     "output_type": "execute_result"
    }
   ],
   "source": [
    "avg_"
   ],
   "metadata": {
    "collapsed": false,
    "ExecuteTime": {
     "end_time": "2024-04-21T16:23:29.907951Z",
     "start_time": "2024-04-21T16:23:29.886440900Z"
    }
   },
   "id": "ee7efba6ccb7efcf"
  },
  {
   "cell_type": "code",
   "execution_count": 12,
   "outputs": [],
   "source": [
    "sub_1.iloc[:, 1:] = avg_"
   ],
   "metadata": {
    "collapsed": false,
    "ExecuteTime": {
     "end_time": "2024-04-21T16:23:44.323344600Z",
     "start_time": "2024-04-21T16:23:44.317166200Z"
    }
   },
   "id": "33b8811702a18f6b"
  },
  {
   "cell_type": "code",
   "execution_count": 13,
   "outputs": [],
   "source": [
    "sub_1.to_csv('./ens_submission_2.csv', index=False)"
   ],
   "metadata": {
    "collapsed": false,
    "ExecuteTime": {
     "end_time": "2024-04-21T16:23:59.816207800Z",
     "start_time": "2024-04-21T16:23:59.770616600Z"
    }
   },
   "id": "d41bab63e8181648"
  }
 ],
 "metadata": {
  "kernelspec": {
   "display_name": "Python 3",
   "language": "python",
   "name": "python3"
  },
  "language_info": {
   "codemirror_mode": {
    "name": "ipython",
    "version": 2
   },
   "file_extension": ".py",
   "mimetype": "text/x-python",
   "name": "python",
   "nbconvert_exporter": "python",
   "pygments_lexer": "ipython2",
   "version": "2.7.6"
  }
 },
 "nbformat": 4,
 "nbformat_minor": 5
}
