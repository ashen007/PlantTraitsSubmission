{
 "cells": [
  {
   "cell_type": "code",
   "execution_count": 1,
   "id": "initial_id",
   "metadata": {
    "collapsed": true,
    "ExecuteTime": {
     "end_time": "2024-04-25T03:19:28.174042400Z",
     "start_time": "2024-04-25T03:19:27.803507600Z"
    }
   },
   "outputs": [],
   "source": [
    "import numpy as np\n",
    "import pandas as pd"
   ]
  },
  {
   "cell_type": "code",
   "execution_count": 2,
   "outputs": [],
   "source": [
    "sub_1 = pd.read_csv('./submissions/submission_convnext_512.csv')\n",
    "sub_2 = pd.read_csv('./submissions/submission_convnext_with_sd.csv')\n",
    "sub_3 = pd.read_csv('./submissions/submission_convnext_with_box.csv')\n",
    "sub_4 = pd.read_csv('./submissions/submission_swin.csv')\n",
    "sub_5 = pd.read_csv('./submissions/submission_swin_with_sd.csv')\n",
    "# sub_6 = pd.read_csv('./submissions/submission_swin_with_box.csv')\n",
    "# sub_7 = pd.read_csv('./submissions/submission_seresnet.csv')\n",
    "# sub_8 = pd.read_csv('./submissions/submission_seresnet_with_sd.csv')"
   ],
   "metadata": {
    "collapsed": false,
    "ExecuteTime": {
     "end_time": "2024-04-25T03:19:30.451496900Z",
     "start_time": "2024-04-25T03:19:30.189070Z"
    }
   },
   "id": "113ae8acd957f3df"
  },
  {
   "cell_type": "code",
   "execution_count": 3,
   "outputs": [
    {
     "data": {
      "text/plain": "          id        X4        X11       X18       X50       X26        X3112\n0  201238668  0.517404   7.266294  3.001681  1.726251  1.562229   471.884624\n1  202310319  0.545889  16.717021  0.422217  1.222363  0.175513   794.979968\n2  202604412  0.618726  15.505129  2.106491  1.332111  8.648777   696.567810\n3  201353439  0.521807  20.979442  0.293652  1.167396  1.472599  1886.882666\n4  195351745  0.480565  10.645594  0.109779  1.732458  0.512781   119.194252",
      "text/html": "<div>\n<style scoped>\n    .dataframe tbody tr th:only-of-type {\n        vertical-align: middle;\n    }\n\n    .dataframe tbody tr th {\n        vertical-align: top;\n    }\n\n    .dataframe thead th {\n        text-align: right;\n    }\n</style>\n<table border=\"1\" class=\"dataframe\">\n  <thead>\n    <tr style=\"text-align: right;\">\n      <th></th>\n      <th>id</th>\n      <th>X4</th>\n      <th>X11</th>\n      <th>X18</th>\n      <th>X50</th>\n      <th>X26</th>\n      <th>X3112</th>\n    </tr>\n  </thead>\n  <tbody>\n    <tr>\n      <th>0</th>\n      <td>201238668</td>\n      <td>0.517404</td>\n      <td>7.266294</td>\n      <td>3.001681</td>\n      <td>1.726251</td>\n      <td>1.562229</td>\n      <td>471.884624</td>\n    </tr>\n    <tr>\n      <th>1</th>\n      <td>202310319</td>\n      <td>0.545889</td>\n      <td>16.717021</td>\n      <td>0.422217</td>\n      <td>1.222363</td>\n      <td>0.175513</td>\n      <td>794.979968</td>\n    </tr>\n    <tr>\n      <th>2</th>\n      <td>202604412</td>\n      <td>0.618726</td>\n      <td>15.505129</td>\n      <td>2.106491</td>\n      <td>1.332111</td>\n      <td>8.648777</td>\n      <td>696.567810</td>\n    </tr>\n    <tr>\n      <th>3</th>\n      <td>201353439</td>\n      <td>0.521807</td>\n      <td>20.979442</td>\n      <td>0.293652</td>\n      <td>1.167396</td>\n      <td>1.472599</td>\n      <td>1886.882666</td>\n    </tr>\n    <tr>\n      <th>4</th>\n      <td>195351745</td>\n      <td>0.480565</td>\n      <td>10.645594</td>\n      <td>0.109779</td>\n      <td>1.732458</td>\n      <td>0.512781</td>\n      <td>119.194252</td>\n    </tr>\n  </tbody>\n</table>\n</div>"
     },
     "execution_count": 3,
     "metadata": {},
     "output_type": "execute_result"
    }
   ],
   "source": [
    "sub_1.head()"
   ],
   "metadata": {
    "collapsed": false,
    "ExecuteTime": {
     "end_time": "2024-04-25T03:19:31.489778300Z",
     "start_time": "2024-04-25T03:19:31.482003900Z"
    }
   },
   "id": "627f3ca2ece1c49a"
  },
  {
   "cell_type": "code",
   "execution_count": 4,
   "outputs": [
    {
     "data": {
      "text/plain": "          id        X4        X11       X18       X50       X26        X3112\n0  201238668  0.573842   6.740852  2.193655  1.891290  0.796666   507.751945\n1  202310319  0.551993  15.950540  0.412217  1.202255  0.145133   878.334921\n2  202604412  0.634466  17.231344  2.277311  1.166581  4.300880   673.560153\n3  201353439  0.549874  22.689015  0.253308  1.063471  2.309494  1770.344724\n4  195351745  0.505732  12.551690  0.105137  1.658405  0.400748   116.763942",
      "text/html": "<div>\n<style scoped>\n    .dataframe tbody tr th:only-of-type {\n        vertical-align: middle;\n    }\n\n    .dataframe tbody tr th {\n        vertical-align: top;\n    }\n\n    .dataframe thead th {\n        text-align: right;\n    }\n</style>\n<table border=\"1\" class=\"dataframe\">\n  <thead>\n    <tr style=\"text-align: right;\">\n      <th></th>\n      <th>id</th>\n      <th>X4</th>\n      <th>X11</th>\n      <th>X18</th>\n      <th>X50</th>\n      <th>X26</th>\n      <th>X3112</th>\n    </tr>\n  </thead>\n  <tbody>\n    <tr>\n      <th>0</th>\n      <td>201238668</td>\n      <td>0.573842</td>\n      <td>6.740852</td>\n      <td>2.193655</td>\n      <td>1.891290</td>\n      <td>0.796666</td>\n      <td>507.751945</td>\n    </tr>\n    <tr>\n      <th>1</th>\n      <td>202310319</td>\n      <td>0.551993</td>\n      <td>15.950540</td>\n      <td>0.412217</td>\n      <td>1.202255</td>\n      <td>0.145133</td>\n      <td>878.334921</td>\n    </tr>\n    <tr>\n      <th>2</th>\n      <td>202604412</td>\n      <td>0.634466</td>\n      <td>17.231344</td>\n      <td>2.277311</td>\n      <td>1.166581</td>\n      <td>4.300880</td>\n      <td>673.560153</td>\n    </tr>\n    <tr>\n      <th>3</th>\n      <td>201353439</td>\n      <td>0.549874</td>\n      <td>22.689015</td>\n      <td>0.253308</td>\n      <td>1.063471</td>\n      <td>2.309494</td>\n      <td>1770.344724</td>\n    </tr>\n    <tr>\n      <th>4</th>\n      <td>195351745</td>\n      <td>0.505732</td>\n      <td>12.551690</td>\n      <td>0.105137</td>\n      <td>1.658405</td>\n      <td>0.400748</td>\n      <td>116.763942</td>\n    </tr>\n  </tbody>\n</table>\n</div>"
     },
     "execution_count": 4,
     "metadata": {},
     "output_type": "execute_result"
    }
   ],
   "source": [
    "sub_2.head()"
   ],
   "metadata": {
    "collapsed": false,
    "ExecuteTime": {
     "end_time": "2024-04-25T03:19:32.478383800Z",
     "start_time": "2024-04-25T03:19:32.467327400Z"
    }
   },
   "id": "92556fcba7d366af"
  },
  {
   "cell_type": "code",
   "execution_count": 5,
   "outputs": [
    {
     "data": {
      "text/plain": "          id        X4        X11       X18       X50       X26        X3112\n0  201238668  0.561762   8.713326  1.214809  1.619202  1.252392   258.760448\n1  202310319  0.556848  17.165997  0.426573  1.152232  0.143337   879.384192\n2  202604412  0.626645  13.927948  1.607556  1.350781  7.246174   376.670793\n3  201353439  0.515847  20.086560  0.235204  1.056056  1.638025  1712.708928\n4  195351745  0.456766  13.091640  0.191370  1.415098  0.561155   260.850891",
      "text/html": "<div>\n<style scoped>\n    .dataframe tbody tr th:only-of-type {\n        vertical-align: middle;\n    }\n\n    .dataframe tbody tr th {\n        vertical-align: top;\n    }\n\n    .dataframe thead th {\n        text-align: right;\n    }\n</style>\n<table border=\"1\" class=\"dataframe\">\n  <thead>\n    <tr style=\"text-align: right;\">\n      <th></th>\n      <th>id</th>\n      <th>X4</th>\n      <th>X11</th>\n      <th>X18</th>\n      <th>X50</th>\n      <th>X26</th>\n      <th>X3112</th>\n    </tr>\n  </thead>\n  <tbody>\n    <tr>\n      <th>0</th>\n      <td>201238668</td>\n      <td>0.561762</td>\n      <td>8.713326</td>\n      <td>1.214809</td>\n      <td>1.619202</td>\n      <td>1.252392</td>\n      <td>258.760448</td>\n    </tr>\n    <tr>\n      <th>1</th>\n      <td>202310319</td>\n      <td>0.556848</td>\n      <td>17.165997</td>\n      <td>0.426573</td>\n      <td>1.152232</td>\n      <td>0.143337</td>\n      <td>879.384192</td>\n    </tr>\n    <tr>\n      <th>2</th>\n      <td>202604412</td>\n      <td>0.626645</td>\n      <td>13.927948</td>\n      <td>1.607556</td>\n      <td>1.350781</td>\n      <td>7.246174</td>\n      <td>376.670793</td>\n    </tr>\n    <tr>\n      <th>3</th>\n      <td>201353439</td>\n      <td>0.515847</td>\n      <td>20.086560</td>\n      <td>0.235204</td>\n      <td>1.056056</td>\n      <td>1.638025</td>\n      <td>1712.708928</td>\n    </tr>\n    <tr>\n      <th>4</th>\n      <td>195351745</td>\n      <td>0.456766</td>\n      <td>13.091640</td>\n      <td>0.191370</td>\n      <td>1.415098</td>\n      <td>0.561155</td>\n      <td>260.850891</td>\n    </tr>\n  </tbody>\n</table>\n</div>"
     },
     "execution_count": 5,
     "metadata": {},
     "output_type": "execute_result"
    }
   ],
   "source": [
    "sub_3.head()"
   ],
   "metadata": {
    "collapsed": false,
    "ExecuteTime": {
     "end_time": "2024-04-25T03:19:33.501966300Z",
     "start_time": "2024-04-25T03:19:33.490268600Z"
    }
   },
   "id": "e0c3b8f11a978ad7"
  },
  {
   "cell_type": "code",
   "execution_count": 6,
   "outputs": [
    {
     "data": {
      "text/plain": "          id        X4        X11       X18       X50        X26        X3112\n0  201238668  0.624119   8.665418  1.509857  1.865228   3.109482   297.298175\n1  202310319  0.399202  20.221238  0.370147  1.157226   0.449538   621.279175\n2  202604412  0.681828   8.475605  2.349462  2.063518  18.066993   223.592298\n3  201353439  0.502319  26.397087  0.216632  0.878398   0.666249  1046.501077\n4  195351745  0.475403  15.069086  0.206388  1.374217   0.635165   266.535556",
      "text/html": "<div>\n<style scoped>\n    .dataframe tbody tr th:only-of-type {\n        vertical-align: middle;\n    }\n\n    .dataframe tbody tr th {\n        vertical-align: top;\n    }\n\n    .dataframe thead th {\n        text-align: right;\n    }\n</style>\n<table border=\"1\" class=\"dataframe\">\n  <thead>\n    <tr style=\"text-align: right;\">\n      <th></th>\n      <th>id</th>\n      <th>X4</th>\n      <th>X11</th>\n      <th>X18</th>\n      <th>X50</th>\n      <th>X26</th>\n      <th>X3112</th>\n    </tr>\n  </thead>\n  <tbody>\n    <tr>\n      <th>0</th>\n      <td>201238668</td>\n      <td>0.624119</td>\n      <td>8.665418</td>\n      <td>1.509857</td>\n      <td>1.865228</td>\n      <td>3.109482</td>\n      <td>297.298175</td>\n    </tr>\n    <tr>\n      <th>1</th>\n      <td>202310319</td>\n      <td>0.399202</td>\n      <td>20.221238</td>\n      <td>0.370147</td>\n      <td>1.157226</td>\n      <td>0.449538</td>\n      <td>621.279175</td>\n    </tr>\n    <tr>\n      <th>2</th>\n      <td>202604412</td>\n      <td>0.681828</td>\n      <td>8.475605</td>\n      <td>2.349462</td>\n      <td>2.063518</td>\n      <td>18.066993</td>\n      <td>223.592298</td>\n    </tr>\n    <tr>\n      <th>3</th>\n      <td>201353439</td>\n      <td>0.502319</td>\n      <td>26.397087</td>\n      <td>0.216632</td>\n      <td>0.878398</td>\n      <td>0.666249</td>\n      <td>1046.501077</td>\n    </tr>\n    <tr>\n      <th>4</th>\n      <td>195351745</td>\n      <td>0.475403</td>\n      <td>15.069086</td>\n      <td>0.206388</td>\n      <td>1.374217</td>\n      <td>0.635165</td>\n      <td>266.535556</td>\n    </tr>\n  </tbody>\n</table>\n</div>"
     },
     "execution_count": 6,
     "metadata": {},
     "output_type": "execute_result"
    }
   ],
   "source": [
    "sub_4.head()"
   ],
   "metadata": {
    "collapsed": false,
    "ExecuteTime": {
     "end_time": "2024-04-25T03:19:34.310450100Z",
     "start_time": "2024-04-25T03:19:34.298140200Z"
    }
   },
   "id": "d8e2e62603ce1e24"
  },
  {
   "cell_type": "code",
   "execution_count": 7,
   "outputs": [
    {
     "data": {
      "text/plain": "          id        X4        X11       X18       X50        X26        X3112\n0  201238668  0.601134   8.235805  1.363930  1.646113   0.695889   165.269870\n1  202310319  0.423352  19.776700  0.331293  1.149481   0.200093   744.232011\n2  202604412  0.711158   7.659737  2.209927  2.523614  21.117102   132.006009\n3  201353439  0.549057  22.681128  0.308525  0.889344   1.776022  1900.598006\n4  195351745  0.472471  12.713201  0.296089  1.383192   0.630437   389.689338",
      "text/html": "<div>\n<style scoped>\n    .dataframe tbody tr th:only-of-type {\n        vertical-align: middle;\n    }\n\n    .dataframe tbody tr th {\n        vertical-align: top;\n    }\n\n    .dataframe thead th {\n        text-align: right;\n    }\n</style>\n<table border=\"1\" class=\"dataframe\">\n  <thead>\n    <tr style=\"text-align: right;\">\n      <th></th>\n      <th>id</th>\n      <th>X4</th>\n      <th>X11</th>\n      <th>X18</th>\n      <th>X50</th>\n      <th>X26</th>\n      <th>X3112</th>\n    </tr>\n  </thead>\n  <tbody>\n    <tr>\n      <th>0</th>\n      <td>201238668</td>\n      <td>0.601134</td>\n      <td>8.235805</td>\n      <td>1.363930</td>\n      <td>1.646113</td>\n      <td>0.695889</td>\n      <td>165.269870</td>\n    </tr>\n    <tr>\n      <th>1</th>\n      <td>202310319</td>\n      <td>0.423352</td>\n      <td>19.776700</td>\n      <td>0.331293</td>\n      <td>1.149481</td>\n      <td>0.200093</td>\n      <td>744.232011</td>\n    </tr>\n    <tr>\n      <th>2</th>\n      <td>202604412</td>\n      <td>0.711158</td>\n      <td>7.659737</td>\n      <td>2.209927</td>\n      <td>2.523614</td>\n      <td>21.117102</td>\n      <td>132.006009</td>\n    </tr>\n    <tr>\n      <th>3</th>\n      <td>201353439</td>\n      <td>0.549057</td>\n      <td>22.681128</td>\n      <td>0.308525</td>\n      <td>0.889344</td>\n      <td>1.776022</td>\n      <td>1900.598006</td>\n    </tr>\n    <tr>\n      <th>4</th>\n      <td>195351745</td>\n      <td>0.472471</td>\n      <td>12.713201</td>\n      <td>0.296089</td>\n      <td>1.383192</td>\n      <td>0.630437</td>\n      <td>389.689338</td>\n    </tr>\n  </tbody>\n</table>\n</div>"
     },
     "execution_count": 7,
     "metadata": {},
     "output_type": "execute_result"
    }
   ],
   "source": [
    "sub_5.head()"
   ],
   "metadata": {
    "collapsed": false,
    "ExecuteTime": {
     "end_time": "2024-04-25T03:19:34.886396700Z",
     "start_time": "2024-04-25T03:19:34.869021300Z"
    }
   },
   "id": "a31800b371bb7014"
  },
  {
   "cell_type": "code",
   "execution_count": 76,
   "outputs": [
    {
     "data": {
      "text/plain": "array([[5.81368982e-01, 8.56001940e+00, 1.35410272e+00, 1.66856407e+00,\n        1.48694815e+00, 2.51725269e+02],\n       [4.95936010e-01, 1.81219803e+01, 3.64778784e-01, 1.14317705e+00,\n        2.00824781e-01, 8.07859947e+02],\n       [6.61557192e-01, 1.21932575e+01, 1.99095150e+00, 1.72822055e+00,\n        1.19490610e+01, 4.02867779e+02],\n       ...,\n       [4.49554226e-01, 2.35913526e+01, 1.28094838e+00, 1.32480173e+00,\n        1.23581265e+01, 4.68065534e+03],\n       [4.46140050e-01, 1.63011743e+01, 3.58598100e-01, 1.45277173e+00,\n        3.62891078e-01, 3.37662176e+02],\n       [6.07494640e-01, 1.40285829e+01, 1.17640938e+01, 1.40208123e+00,\n        2.79881117e+02, 4.46703043e+03]])"
     },
     "execution_count": 76,
     "metadata": {},
     "output_type": "execute_result"
    }
   ],
   "source": [
    "# avg_ = np.asarray([sub_1.iloc[:, 1:],\n",
    "#                    sub_2.iloc[:, 1:],\n",
    "#                    sub_3.iloc[:, 1:],\n",
    "#                    sub_4.iloc[:, 1:],\n",
    "#                    sub_5.iloc[:, 1:],\n",
    "#                    # sub_6.iloc[:, 1:],\n",
    "#                    # sub_7.iloc[:, 1:],\n",
    "#                    # sub_8.iloc[:, 1:],\n",
    "#                    ]).mean(axis=0)\n",
    "# \n",
    "# avg_"
   ],
   "metadata": {
    "collapsed": false,
    "ExecuteTime": {
     "end_time": "2024-04-23T05:01:09.068501200Z",
     "start_time": "2024-04-23T05:01:09.005911300Z"
    }
   },
   "id": "b7ee7fb2f45d5829"
  },
  {
   "cell_type": "code",
   "execution_count": 8,
   "outputs": [
    {
     "data": {
      "text/plain": "            X4        X11        X18       X50         X26        X3112\n0     0.564112   7.520880   2.174175  1.780911    1.376799   406.343234\n1     0.516512  17.293428   0.402482  1.192028    0.200293   803.597696\n2     0.643240  14.157493   2.157641  1.503846    9.626116   533.166890\n3     0.531218  22.362888   0.265713  1.052772    1.702237  1722.101473\n4     0.485181  12.340762   0.149413  1.590553    0.508379   181.442440\n...        ...        ...        ...       ...         ...          ...\n6540  0.541632  10.933428   1.028773  1.650994    2.775025   407.908192\n6541  0.496620  21.249080   3.581467  1.047494    3.008990  5518.332634\n6542  0.453944  25.908074   0.946393  1.396830   11.503567  4163.729237\n6543  0.441175  17.866027   0.421920  1.411063    0.394012   553.989070\n6544  0.616761  13.446977  10.812054  1.477825  330.325666  3989.742310\n\n[6545 rows x 6 columns]",
      "text/html": "<div>\n<style scoped>\n    .dataframe tbody tr th:only-of-type {\n        vertical-align: middle;\n    }\n\n    .dataframe tbody tr th {\n        vertical-align: top;\n    }\n\n    .dataframe thead th {\n        text-align: right;\n    }\n</style>\n<table border=\"1\" class=\"dataframe\">\n  <thead>\n    <tr style=\"text-align: right;\">\n      <th></th>\n      <th>X4</th>\n      <th>X11</th>\n      <th>X18</th>\n      <th>X50</th>\n      <th>X26</th>\n      <th>X3112</th>\n    </tr>\n  </thead>\n  <tbody>\n    <tr>\n      <th>0</th>\n      <td>0.564112</td>\n      <td>7.520880</td>\n      <td>2.174175</td>\n      <td>1.780911</td>\n      <td>1.376799</td>\n      <td>406.343234</td>\n    </tr>\n    <tr>\n      <th>1</th>\n      <td>0.516512</td>\n      <td>17.293428</td>\n      <td>0.402482</td>\n      <td>1.192028</td>\n      <td>0.200293</td>\n      <td>803.597696</td>\n    </tr>\n    <tr>\n      <th>2</th>\n      <td>0.643240</td>\n      <td>14.157493</td>\n      <td>2.157641</td>\n      <td>1.503846</td>\n      <td>9.626116</td>\n      <td>533.166890</td>\n    </tr>\n    <tr>\n      <th>3</th>\n      <td>0.531218</td>\n      <td>22.362888</td>\n      <td>0.265713</td>\n      <td>1.052772</td>\n      <td>1.702237</td>\n      <td>1722.101473</td>\n    </tr>\n    <tr>\n      <th>4</th>\n      <td>0.485181</td>\n      <td>12.340762</td>\n      <td>0.149413</td>\n      <td>1.590553</td>\n      <td>0.508379</td>\n      <td>181.442440</td>\n    </tr>\n    <tr>\n      <th>...</th>\n      <td>...</td>\n      <td>...</td>\n      <td>...</td>\n      <td>...</td>\n      <td>...</td>\n      <td>...</td>\n    </tr>\n    <tr>\n      <th>6540</th>\n      <td>0.541632</td>\n      <td>10.933428</td>\n      <td>1.028773</td>\n      <td>1.650994</td>\n      <td>2.775025</td>\n      <td>407.908192</td>\n    </tr>\n    <tr>\n      <th>6541</th>\n      <td>0.496620</td>\n      <td>21.249080</td>\n      <td>3.581467</td>\n      <td>1.047494</td>\n      <td>3.008990</td>\n      <td>5518.332634</td>\n    </tr>\n    <tr>\n      <th>6542</th>\n      <td>0.453944</td>\n      <td>25.908074</td>\n      <td>0.946393</td>\n      <td>1.396830</td>\n      <td>11.503567</td>\n      <td>4163.729237</td>\n    </tr>\n    <tr>\n      <th>6543</th>\n      <td>0.441175</td>\n      <td>17.866027</td>\n      <td>0.421920</td>\n      <td>1.411063</td>\n      <td>0.394012</td>\n      <td>553.989070</td>\n    </tr>\n    <tr>\n      <th>6544</th>\n      <td>0.616761</td>\n      <td>13.446977</td>\n      <td>10.812054</td>\n      <td>1.477825</td>\n      <td>330.325666</td>\n      <td>3989.742310</td>\n    </tr>\n  </tbody>\n</table>\n<p>6545 rows × 6 columns</p>\n</div>"
     },
     "execution_count": 8,
     "metadata": {},
     "output_type": "execute_result"
    }
   ],
   "source": [
    "blend = (0.32 * sub_1.iloc[:, 1:] +\n",
    "         0.34 * sub_2.iloc[:, 1:] +\n",
    "         0.1 * sub_3.iloc[:, 1:] +\n",
    "         0.13 * sub_4.iloc[:, 1:] +\n",
    "         0.11 * sub_5.iloc[:, 1:])\n",
    "\n",
    "blend"
   ],
   "metadata": {
    "collapsed": false,
    "ExecuteTime": {
     "end_time": "2024-04-25T03:19:52.758855700Z",
     "start_time": "2024-04-25T03:19:52.742466800Z"
    }
   },
   "id": "9407173229d1b50a"
  },
  {
   "cell_type": "code",
   "execution_count": 9,
   "outputs": [],
   "source": [
    "sub_1.iloc[:, 1:] = blend#avg_"
   ],
   "metadata": {
    "collapsed": false,
    "ExecuteTime": {
     "end_time": "2024-04-25T03:19:57.566714400Z",
     "start_time": "2024-04-25T03:19:57.559235200Z"
    }
   },
   "id": "33b8811702a18f6b"
  },
  {
   "cell_type": "code",
   "execution_count": 10,
   "outputs": [],
   "source": [
    "sub_1.to_csv('./submissions/ens_submission_4.csv', index=False)"
   ],
   "metadata": {
    "collapsed": false,
    "ExecuteTime": {
     "end_time": "2024-04-25T03:20:03.257119Z",
     "start_time": "2024-04-25T03:20:03.213273900Z"
    }
   },
   "id": "d41bab63e8181648"
  },
  {
   "cell_type": "code",
   "execution_count": 79,
   "outputs": [],
   "source": [],
   "metadata": {
    "collapsed": false,
    "ExecuteTime": {
     "end_time": "2024-04-23T05:01:09.220921400Z",
     "start_time": "2024-04-23T05:01:09.074757900Z"
    }
   },
   "id": "724ef17a6a9fca5a"
  }
 ],
 "metadata": {
  "kernelspec": {
   "display_name": "Python 3",
   "language": "python",
   "name": "python3"
  },
  "language_info": {
   "codemirror_mode": {
    "name": "ipython",
    "version": 2
   },
   "file_extension": ".py",
   "mimetype": "text/x-python",
   "name": "python",
   "nbconvert_exporter": "python",
   "pygments_lexer": "ipython2",
   "version": "2.7.6"
  }
 },
 "nbformat": 4,
 "nbformat_minor": 5
}
