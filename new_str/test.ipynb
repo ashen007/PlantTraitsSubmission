{
 "cells": [
  {
   "cell_type": "code",
   "execution_count": 1,
   "outputs": [],
   "source": [
    "import torch\n",
    "import cv2\n",
    "import numpy as np\n",
    "import pandas as pd\n",
    "import joblib\n",
    "import imageio.v3 as imageio\n",
    "\n",
    "from torch import nn\n",
    "from tqdm import tqdm\n",
    "from move import move_to\n",
    "from torchmetrics.regression import R2Score, MeanAbsoluteError\n",
    "from train import Compile\n",
    "from sklearn.model_selection import KFold\n",
    "from torch.utils.data import DataLoader, Dataset\n",
    "from dataloader.transformers import TRANSFORMER, TEST_TRANSFORMER\n",
    "from models.effnet import CustomEffnet"
   ],
   "metadata": {
    "collapsed": false,
    "ExecuteTime": {
     "end_time": "2024-04-06T17:37:31.736455800Z",
     "start_time": "2024-04-06T17:37:27.286818Z"
    }
   },
   "id": "a5c91cbe8dc4819c"
  },
  {
   "cell_type": "code",
   "execution_count": 2,
   "outputs": [],
   "source": [
    "class TestDataset(Dataset):\n",
    "    def __init__(self, X_jpeg_bytes, x_features, y):\n",
    "        self.X_jpeg_bytes = X_jpeg_bytes\n",
    "        self.y = y\n",
    "        self.transforms = TEST_TRANSFORMER\n",
    "        self.xs_cols = x_features.columns\n",
    "        self.boxes = pd.read_csv('../data/2024/boxes_test.csv', index_col='id')\n",
    "\n",
    "        self.boxes['box'] = self.boxes['box'].apply(\n",
    "            lambda x: np.fromstring(x.replace('\\n', '').replace('[', '').replace(']', '').replace('  ', ' '), sep=' ')\n",
    "        )\n",
    "\n",
    "    def __len__(self):\n",
    "        return len(self.X_jpeg_bytes)\n",
    "\n",
    "    def __getitem__(self, index):\n",
    "        try:\n",
    "            box = self.boxes.loc[self.y[index], 'box']\n",
    "            X_sample = self.transforms(\n",
    "                image=imageio.imread(self.X_jpeg_bytes[index])[int(box[1]):int(box[3]), int(box[0]):int(box[2])])[\n",
    "                'image']\n",
    "        except:\n",
    "            X_sample = self.transforms(\n",
    "                image=imageio.imread(self.X_jpeg_bytes[index]))['image']\n",
    "\n",
    "        y_sample = self.y[index]\n",
    "\n",
    "        return move_to(X_sample, 'cuda').unsqueeze(0), y_sample"
   ],
   "metadata": {
    "collapsed": false,
    "ExecuteTime": {
     "end_time": "2024-04-06T17:37:31.744994500Z",
     "start_time": "2024-04-06T17:37:31.737994Z"
    }
   },
   "id": "695da78dcdb00916"
  },
  {
   "cell_type": "code",
   "execution_count": 3,
   "outputs": [],
   "source": [
    "def predict_test(checkpoint):\n",
    "    tar_features = ['X4_mean', 'X11_mean', 'X18_mean', 'X50_mean', 'X26_mean', 'X3112_mean']\n",
    "    log_features = ['X11_mean', 'X18_mean', 'X50_mean', 'X26_mean', 'X3112_mean']\n",
    "\n",
    "    # load model\n",
    "    model = CustomEffnet()\n",
    "    state = torch.load(checkpoint)\n",
    "    model.load_state_dict(state['model_state_dict'])\n",
    "\n",
    "    df = pd.read_pickle('../data/2024/processed/test.pkl')\n",
    "    pipe = joblib.load('../data/2024/processed/scaler.joblib')\n",
    "    test_dataset = TestDataset(df['jpeg_bytes'].values, df, df['id'].values)\n",
    "    preds = []\n",
    "\n",
    "    model.eval()\n",
    "    model.cuda()\n",
    "\n",
    "    for x, idx in tqdm(test_dataset):\n",
    "        with torch.no_grad():\n",
    "            y = model(x).detach().cpu().numpy()\n",
    "\n",
    "        logits = pipe.inverse_transform(y).squeeze()\n",
    "        logits = logits[:6]\n",
    "\n",
    "        row = {'id': idx}\n",
    "\n",
    "        for k, v in zip(tar_features, logits):\n",
    "\n",
    "            if k in log_features:\n",
    "                row[k.replace('_mean', '')] = 10 ** v\n",
    "\n",
    "            else:\n",
    "                row[k.replace('_mean', '')] = v\n",
    "\n",
    "        preds.append(row)\n",
    "\n",
    "    preds = pd.DataFrame(preds)\n",
    "\n",
    "    return preds"
   ],
   "metadata": {
    "collapsed": false,
    "ExecuteTime": {
     "end_time": "2024-04-06T17:37:31.756189100Z",
     "start_time": "2024-04-06T17:37:31.743933600Z"
    }
   },
   "id": "6cc99af5f864c631"
  },
  {
   "cell_type": "code",
   "execution_count": null,
   "outputs": [],
   "source": [
    "SEED = 2024\n",
    "folds = KFold(n_splits=5, shuffle=True, random_state=SEED)\n",
    "data = pd.read_csv('../data/2024/processed/train.csv')\n",
    "test_preds = []\n",
    "\n",
    "\n",
    "class PlantDataset(Dataset):\n",
    "\n",
    "    def __init__(self, df, transformer=None):\n",
    "        self.df = df\n",
    "        self.columns = ['X4_mean', 'X11_mean', 'X18_mean', 'X50_mean', 'X26_mean', 'X3112_mean']\n",
    "        self.dir = '../data/2024/train_images/'\n",
    "        self.df['box'] = self.df['box'].apply(lambda x: np.fromstring(x.replace('\\n', '')\n",
    "                                                                      .replace('[', '')\n",
    "                                                                      .replace(']', '')\n",
    "                                                                      .replace('  ', ' '), sep=' '))\n",
    "        self.boxes = self.df.pop('box')\n",
    "        self.transform = transformer\n",
    "\n",
    "    def __len__(self):\n",
    "        return len(self.df)\n",
    "\n",
    "    def __getitem__(self, idx):\n",
    "        if idx >= len(self): raise IndexError\n",
    "\n",
    "        img_id = self.df.loc[idx, 'id']\n",
    "        y = torch.tensor(self.df.loc[idx, self.columns].values, dtype=torch.float32)\n",
    "\n",
    "        img = cv2.imread(f'{self.dir}/{img_id}.jpeg')\n",
    "        img = cv2.cvtColor(img, cv2.COLOR_BGR2RGB)\n",
    "\n",
    "        box = self.boxes.loc[idx]\n",
    "        img = img[int(box[1]):int(box[3]), int(box[0]):int(box[2])]\n",
    "\n",
    "        if self.transform is not None:\n",
    "            augmented = self.transform(image=img)\n",
    "            img = augmented['image']\n",
    "\n",
    "        return img, y"
   ],
   "metadata": {
    "collapsed": false
   },
   "id": "11d37220ea2e39cc"
  },
  {
   "cell_type": "code",
   "execution_count": 4,
   "outputs": [
    {
     "name": "stderr",
     "output_type": "stream",
     "text": [
      "100%|██████████| 8655/8655 [03:22<00:00, 42.71it/s]\n",
      "100%|██████████| 6545/6545 [02:34<00:00, 42.38it/s]\n"
     ]
    }
   ],
   "source": [
    "for _ in range(3):\n",
    "    for f_id, (t_idx, v_idx) in enumerate(folds.split(data)):\n",
    "        train_data = data.iloc[t_idx, :].reset_index(drop=True)\n",
    "        val_data = data.iloc[v_idx, :].reset_index(drop=True)\n",
    "        pred_val_fold = []\n",
    "\n",
    "        train_dataset = PlantDataset(train_data, TRANSFORMER)\n",
    "        valid_dataset = PlantDataset(val_data, TEST_TRANSFORMER)\n",
    "\n",
    "        train_dataloader = DataLoader(train_dataset, 14, shuffle=True, drop_last=True)\n",
    "        val_dataloader = DataLoader(valid_dataset, 14, shuffle=False, drop_last=False)\n",
    "\n",
    "        model = CustomEffnet()\n",
    "        # state = torch.load(f'./best_checkpoint_f_{f_id}.pth')\n",
    "        # model.load_state_dict(state['model_state_dict'])\n",
    "        # model.cuda()\n",
    "\n",
    "        complied = Compile(model,\n",
    "                           nn.MSELoss,\n",
    "                           torch.optim.AdamW,\n",
    "                           1e-5,\n",
    "                           1e-4,\n",
    "                           10,\n",
    "                           14,\n",
    "                           train_loader=train_dataloader,\n",
    "                           save_to=f'best_checkpoint_f_{f_id}.pth',\n",
    "                           val_loader=val_dataloader,\n",
    "                           metrics={'r2': R2Score(6).cuda(),\n",
    "                                    'mae': MeanAbsoluteError().cuda()})\n",
    "\n",
    "        complied.fit()\n",
    "        model.eval()\n",
    "\n",
    "        for x, _ in tqdm(valid_dataset):\n",
    "            with torch.no_grad():\n",
    "                y = model(x.cuda().unsqueeze(0)).detach().cpu().numpy()\n",
    "\n",
    "            pred_val_fold.append(y.squeeze(0))\n",
    "\n",
    "        data.iloc[data[data['id'].isin(val_data['id'])].index, 1:-1] = 0.7 * val_data.iloc[:, 1:] + 0.3 * np.asarray(\n",
    "            pred_val_fold)\n",
    "\n",
    "        predicted_test = predict_test(f'./best_checkpoint_f_{f_id}.pth')"
   ],
   "metadata": {
    "collapsed": false,
    "ExecuteTime": {
     "end_time": "2024-04-06T17:43:31.980589200Z",
     "start_time": "2024-04-06T17:37:31.754559800Z"
    }
   },
   "id": "4b847a50c34d51a6"
  },
  {
   "cell_type": "code",
   "execution_count": 5,
   "outputs": [
    {
     "data": {
      "text/plain": "             id        X4        X11       X18       X50       X26  \\\n0     201238668  0.506703  12.684425  0.830860  1.506088  2.338350   \n1     202310319  0.450098  17.277229  0.367876  1.488224  0.959753   \n2     202604412  0.623843  10.397853  1.436415  2.171376  4.843397   \n3     201353439  0.461603  16.264346  0.423372  1.207422  0.435874   \n4     195351745  0.479500  12.647679  0.181226  1.541777  0.510777   \n...         ...       ...        ...       ...       ...       ...   \n6540  195548469  0.517062  10.396581  0.596170  1.796500  1.858637   \n6541  199261251  0.675147  13.105791  4.437296  1.500954  7.251051   \n6542  203031744  0.501308  14.724135  0.689901  1.420328  2.059553   \n6543  197736382  0.397435  21.128257  0.383783  1.299778  0.554640   \n6544  202625693  0.580530  14.811738  1.695022  1.657284  6.030012   \n\n            X3112  \n0      359.560772  \n1      464.126863  \n2      382.602407  \n3      394.140362  \n4      144.144784  \n...           ...  \n6540   196.254767  \n6541  1985.673451  \n6542   588.073152  \n6543   300.732035  \n6544  1861.889772  \n\n[6545 rows x 7 columns]",
      "text/html": "<div>\n<style scoped>\n    .dataframe tbody tr th:only-of-type {\n        vertical-align: middle;\n    }\n\n    .dataframe tbody tr th {\n        vertical-align: top;\n    }\n\n    .dataframe thead th {\n        text-align: right;\n    }\n</style>\n<table border=\"1\" class=\"dataframe\">\n  <thead>\n    <tr style=\"text-align: right;\">\n      <th></th>\n      <th>id</th>\n      <th>X4</th>\n      <th>X11</th>\n      <th>X18</th>\n      <th>X50</th>\n      <th>X26</th>\n      <th>X3112</th>\n    </tr>\n  </thead>\n  <tbody>\n    <tr>\n      <th>0</th>\n      <td>201238668</td>\n      <td>0.506703</td>\n      <td>12.684425</td>\n      <td>0.830860</td>\n      <td>1.506088</td>\n      <td>2.338350</td>\n      <td>359.560772</td>\n    </tr>\n    <tr>\n      <th>1</th>\n      <td>202310319</td>\n      <td>0.450098</td>\n      <td>17.277229</td>\n      <td>0.367876</td>\n      <td>1.488224</td>\n      <td>0.959753</td>\n      <td>464.126863</td>\n    </tr>\n    <tr>\n      <th>2</th>\n      <td>202604412</td>\n      <td>0.623843</td>\n      <td>10.397853</td>\n      <td>1.436415</td>\n      <td>2.171376</td>\n      <td>4.843397</td>\n      <td>382.602407</td>\n    </tr>\n    <tr>\n      <th>3</th>\n      <td>201353439</td>\n      <td>0.461603</td>\n      <td>16.264346</td>\n      <td>0.423372</td>\n      <td>1.207422</td>\n      <td>0.435874</td>\n      <td>394.140362</td>\n    </tr>\n    <tr>\n      <th>4</th>\n      <td>195351745</td>\n      <td>0.479500</td>\n      <td>12.647679</td>\n      <td>0.181226</td>\n      <td>1.541777</td>\n      <td>0.510777</td>\n      <td>144.144784</td>\n    </tr>\n    <tr>\n      <th>...</th>\n      <td>...</td>\n      <td>...</td>\n      <td>...</td>\n      <td>...</td>\n      <td>...</td>\n      <td>...</td>\n      <td>...</td>\n    </tr>\n    <tr>\n      <th>6540</th>\n      <td>195548469</td>\n      <td>0.517062</td>\n      <td>10.396581</td>\n      <td>0.596170</td>\n      <td>1.796500</td>\n      <td>1.858637</td>\n      <td>196.254767</td>\n    </tr>\n    <tr>\n      <th>6541</th>\n      <td>199261251</td>\n      <td>0.675147</td>\n      <td>13.105791</td>\n      <td>4.437296</td>\n      <td>1.500954</td>\n      <td>7.251051</td>\n      <td>1985.673451</td>\n    </tr>\n    <tr>\n      <th>6542</th>\n      <td>203031744</td>\n      <td>0.501308</td>\n      <td>14.724135</td>\n      <td>0.689901</td>\n      <td>1.420328</td>\n      <td>2.059553</td>\n      <td>588.073152</td>\n    </tr>\n    <tr>\n      <th>6543</th>\n      <td>197736382</td>\n      <td>0.397435</td>\n      <td>21.128257</td>\n      <td>0.383783</td>\n      <td>1.299778</td>\n      <td>0.554640</td>\n      <td>300.732035</td>\n    </tr>\n    <tr>\n      <th>6544</th>\n      <td>202625693</td>\n      <td>0.580530</td>\n      <td>14.811738</td>\n      <td>1.695022</td>\n      <td>1.657284</td>\n      <td>6.030012</td>\n      <td>1861.889772</td>\n    </tr>\n  </tbody>\n</table>\n<p>6545 rows × 7 columns</p>\n</div>"
     },
     "execution_count": 5,
     "metadata": {},
     "output_type": "execute_result"
    }
   ],
   "source": [
    "predicted_test"
   ],
   "metadata": {
    "collapsed": false,
    "ExecuteTime": {
     "end_time": "2024-04-06T17:43:31.992376100Z",
     "start_time": "2024-04-06T17:43:31.977879Z"
    }
   },
   "id": "41a2383f25846fca"
  }
 ],
 "metadata": {
  "kernelspec": {
   "display_name": "Python 3",
   "language": "python",
   "name": "python3"
  },
  "language_info": {
   "codemirror_mode": {
    "name": "ipython",
    "version": 2
   },
   "file_extension": ".py",
   "mimetype": "text/x-python",
   "name": "python",
   "nbconvert_exporter": "python",
   "pygments_lexer": "ipython2",
   "version": "2.7.6"
  }
 },
 "nbformat": 4,
 "nbformat_minor": 5
}
