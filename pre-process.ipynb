{
 "cells": [
  {
   "cell_type": "code",
   "execution_count": 1,
   "id": "initial_id",
   "metadata": {
    "collapsed": true,
    "ExecuteTime": {
     "end_time": "2024-03-02T07:37:08.487765800Z",
     "start_time": "2024-03-02T07:37:07.735341Z"
    }
   },
   "outputs": [],
   "source": [
    "import numpy as np\n",
    "import pandas as pd\n",
    "from joblib import dump\n",
    "from sklearn.preprocessing import StandardScaler"
   ]
  },
  {
   "cell_type": "code",
   "execution_count": 5,
   "outputs": [],
   "source": [
    "tar_features = ['X4_mean', 'X11_mean', 'X18_mean', 'X50_mean', 'X26_mean', 'X3112_mean']\n",
    "tar_sd_features = ['X4_sd', 'X11_sd', 'X18_sd', 'X50_sd', 'X26_sd', 'X3112_sd']\n",
    "log_features = ['X11_mean', 'X18_mean', 'X50_mean', 'X26_mean', 'X3112_mean']"
   ],
   "metadata": {
    "collapsed": false,
    "ExecuteTime": {
     "end_time": "2024-03-02T07:40:11.457793700Z",
     "start_time": "2024-03-02T07:40:11.455661Z"
    }
   },
   "id": "b04a33924afa3729"
  },
  {
   "cell_type": "code",
   "execution_count": 4,
   "outputs": [],
   "source": [
    "train = pd.read_csv('./data/train.csv', index_col='id').fillna(0)\n",
    "train = train + 1e-5"
   ],
   "metadata": {
    "collapsed": false,
    "ExecuteTime": {
     "end_time": "2024-03-02T07:37:20.910261200Z",
     "start_time": "2024-03-02T07:37:20.156364800Z"
    }
   },
   "id": "43bd8604e725b5c4"
  },
  {
   "cell_type": "code",
   "execution_count": 4,
   "outputs": [
    {
     "data": {
      "text/plain": "['WORLDCLIM_BIO1_annual_mean_temperature',\n 'WORLDCLIM_BIO12_annual_precipitation',\n 'WORLDCLIM_BIO13.BIO14_delta_precipitation_of_wettest_and_dryest_month',\n 'WORLDCLIM_BIO15_precipitation_seasonality',\n 'WORLDCLIM_BIO4_temperature_seasonality',\n 'WORLDCLIM_BIO7_temperature_annual_range',\n 'SOIL_bdod_0.5cm_mean_0.01_deg',\n 'SOIL_bdod_100.200cm_mean_0.01_deg',\n 'SOIL_bdod_15.30cm_mean_0.01_deg',\n 'SOIL_bdod_30.60cm_mean_0.01_deg',\n 'SOIL_bdod_5.15cm_mean_0.01_deg',\n 'SOIL_bdod_60.100cm_mean_0.01_deg',\n 'SOIL_cec_0.5cm_mean_0.01_deg',\n 'SOIL_cec_100.200cm_mean_0.01_deg',\n 'SOIL_cec_15.30cm_mean_0.01_deg',\n 'SOIL_cec_30.60cm_mean_0.01_deg',\n 'SOIL_cec_5.15cm_mean_0.01_deg',\n 'SOIL_cec_60.100cm_mean_0.01_deg',\n 'SOIL_cfvo_0.5cm_mean_0.01_deg',\n 'SOIL_cfvo_100.200cm_mean_0.01_deg',\n 'SOIL_cfvo_15.30cm_mean_0.01_deg',\n 'SOIL_cfvo_30.60cm_mean_0.01_deg',\n 'SOIL_cfvo_5.15cm_mean_0.01_deg',\n 'SOIL_cfvo_60.100cm_mean_0.01_deg',\n 'SOIL_clay_0.5cm_mean_0.01_deg',\n 'SOIL_clay_100.200cm_mean_0.01_deg',\n 'SOIL_clay_15.30cm_mean_0.01_deg',\n 'SOIL_clay_30.60cm_mean_0.01_deg',\n 'SOIL_clay_5.15cm_mean_0.01_deg',\n 'SOIL_clay_60.100cm_mean_0.01_deg',\n 'SOIL_nitrogen_0.5cm_mean_0.01_deg',\n 'SOIL_nitrogen_100.200cm_mean_0.01_deg',\n 'SOIL_nitrogen_15.30cm_mean_0.01_deg',\n 'SOIL_nitrogen_30.60cm_mean_0.01_deg',\n 'SOIL_nitrogen_5.15cm_mean_0.01_deg',\n 'SOIL_nitrogen_60.100cm_mean_0.01_deg',\n 'SOIL_ocd_0.5cm_mean_0.01_deg',\n 'SOIL_ocd_100.200cm_mean_0.01_deg',\n 'SOIL_ocd_15.30cm_mean_0.01_deg',\n 'SOIL_ocd_30.60cm_mean_0.01_deg',\n 'SOIL_ocd_5.15cm_mean_0.01_deg',\n 'SOIL_ocd_60.100cm_mean_0.01_deg',\n 'SOIL_ocs_0.30cm_mean_0.01_deg',\n 'SOIL_phh2o_0.5cm_mean_0.01_deg',\n 'SOIL_phh2o_100.200cm_mean_0.01_deg',\n 'SOIL_phh2o_15.30cm_mean_0.01_deg',\n 'SOIL_phh2o_30.60cm_mean_0.01_deg',\n 'SOIL_phh2o_5.15cm_mean_0.01_deg',\n 'SOIL_phh2o_60.100cm_mean_0.01_deg',\n 'SOIL_sand_0.5cm_mean_0.01_deg',\n 'SOIL_sand_100.200cm_mean_0.01_deg',\n 'SOIL_sand_15.30cm_mean_0.01_deg',\n 'SOIL_sand_30.60cm_mean_0.01_deg',\n 'SOIL_sand_5.15cm_mean_0.01_deg',\n 'SOIL_sand_60.100cm_mean_0.01_deg',\n 'SOIL_silt_0.5cm_mean_0.01_deg',\n 'SOIL_silt_100.200cm_mean_0.01_deg',\n 'SOIL_silt_15.30cm_mean_0.01_deg',\n 'SOIL_silt_30.60cm_mean_0.01_deg',\n 'SOIL_silt_5.15cm_mean_0.01_deg',\n 'SOIL_silt_60.100cm_mean_0.01_deg',\n 'SOIL_soc_0.5cm_mean_0.01_deg',\n 'SOIL_soc_100.200cm_mean_0.01_deg',\n 'SOIL_soc_15.30cm_mean_0.01_deg',\n 'SOIL_soc_30.60cm_mean_0.01_deg',\n 'SOIL_soc_5.15cm_mean_0.01_deg',\n 'SOIL_soc_60.100cm_mean_0.01_deg',\n 'MODIS_2000.2020_monthly_mean_surface_reflectance_band_01_._month_m1',\n 'MODIS_2000.2020_monthly_mean_surface_reflectance_band_02_._month_m1',\n 'MODIS_2000.2020_monthly_mean_surface_reflectance_band_03_._month_m1',\n 'MODIS_2000.2020_monthly_mean_surface_reflectance_band_04_._month_m1',\n 'MODIS_2000.2020_monthly_mean_surface_reflectance_band_05_._month_m1',\n 'MODIS_2000.2020_monthly_mean_surface_reflectance_band_01_._month_m10',\n 'MODIS_2000.2020_monthly_mean_surface_reflectance_band_02_._month_m10',\n 'MODIS_2000.2020_monthly_mean_surface_reflectance_band_03_._month_m10',\n 'MODIS_2000.2020_monthly_mean_surface_reflectance_band_04_._month_m10',\n 'MODIS_2000.2020_monthly_mean_surface_reflectance_band_05_._month_m10',\n 'MODIS_2000.2020_monthly_mean_surface_reflectance_band_01_._month_m11',\n 'MODIS_2000.2020_monthly_mean_surface_reflectance_band_02_._month_m11',\n 'MODIS_2000.2020_monthly_mean_surface_reflectance_band_03_._month_m11',\n 'MODIS_2000.2020_monthly_mean_surface_reflectance_band_04_._month_m11',\n 'MODIS_2000.2020_monthly_mean_surface_reflectance_band_05_._month_m11',\n 'MODIS_2000.2020_monthly_mean_surface_reflectance_band_01_._month_m12',\n 'MODIS_2000.2020_monthly_mean_surface_reflectance_band_02_._month_m12',\n 'MODIS_2000.2020_monthly_mean_surface_reflectance_band_03_._month_m12',\n 'MODIS_2000.2020_monthly_mean_surface_reflectance_band_04_._month_m12',\n 'MODIS_2000.2020_monthly_mean_surface_reflectance_band_05_._month_m12',\n 'MODIS_2000.2020_monthly_mean_surface_reflectance_band_01_._month_m2',\n 'MODIS_2000.2020_monthly_mean_surface_reflectance_band_02_._month_m2',\n 'MODIS_2000.2020_monthly_mean_surface_reflectance_band_03_._month_m2',\n 'MODIS_2000.2020_monthly_mean_surface_reflectance_band_04_._month_m2',\n 'MODIS_2000.2020_monthly_mean_surface_reflectance_band_05_._month_m2',\n 'MODIS_2000.2020_monthly_mean_surface_reflectance_band_01_._month_m3',\n 'MODIS_2000.2020_monthly_mean_surface_reflectance_band_02_._month_m3',\n 'MODIS_2000.2020_monthly_mean_surface_reflectance_band_03_._month_m3',\n 'MODIS_2000.2020_monthly_mean_surface_reflectance_band_04_._month_m3',\n 'MODIS_2000.2020_monthly_mean_surface_reflectance_band_05_._month_m3',\n 'MODIS_2000.2020_monthly_mean_surface_reflectance_band_01_._month_m4',\n 'MODIS_2000.2020_monthly_mean_surface_reflectance_band_02_._month_m4',\n 'MODIS_2000.2020_monthly_mean_surface_reflectance_band_03_._month_m4',\n 'MODIS_2000.2020_monthly_mean_surface_reflectance_band_04_._month_m4',\n 'MODIS_2000.2020_monthly_mean_surface_reflectance_band_05_._month_m4',\n 'MODIS_2000.2020_monthly_mean_surface_reflectance_band_01_._month_m5',\n 'MODIS_2000.2020_monthly_mean_surface_reflectance_band_02_._month_m5',\n 'MODIS_2000.2020_monthly_mean_surface_reflectance_band_03_._month_m5',\n 'MODIS_2000.2020_monthly_mean_surface_reflectance_band_04_._month_m5',\n 'MODIS_2000.2020_monthly_mean_surface_reflectance_band_05_._month_m5',\n 'MODIS_2000.2020_monthly_mean_surface_reflectance_band_01_._month_m6',\n 'MODIS_2000.2020_monthly_mean_surface_reflectance_band_02_._month_m6',\n 'MODIS_2000.2020_monthly_mean_surface_reflectance_band_03_._month_m6',\n 'MODIS_2000.2020_monthly_mean_surface_reflectance_band_04_._month_m6',\n 'MODIS_2000.2020_monthly_mean_surface_reflectance_band_05_._month_m6',\n 'MODIS_2000.2020_monthly_mean_surface_reflectance_band_01_._month_m7',\n 'MODIS_2000.2020_monthly_mean_surface_reflectance_band_02_._month_m7',\n 'MODIS_2000.2020_monthly_mean_surface_reflectance_band_03_._month_m7',\n 'MODIS_2000.2020_monthly_mean_surface_reflectance_band_04_._month_m7',\n 'MODIS_2000.2020_monthly_mean_surface_reflectance_band_05_._month_m7',\n 'MODIS_2000.2020_monthly_mean_surface_reflectance_band_01_._month_m8',\n 'MODIS_2000.2020_monthly_mean_surface_reflectance_band_02_._month_m8',\n 'MODIS_2000.2020_monthly_mean_surface_reflectance_band_03_._month_m8',\n 'MODIS_2000.2020_monthly_mean_surface_reflectance_band_04_._month_m8',\n 'MODIS_2000.2020_monthly_mean_surface_reflectance_band_05_._month_m8',\n 'MODIS_2000.2020_monthly_mean_surface_reflectance_band_01_._month_m9',\n 'MODIS_2000.2020_monthly_mean_surface_reflectance_band_02_._month_m9',\n 'MODIS_2000.2020_monthly_mean_surface_reflectance_band_03_._month_m9',\n 'MODIS_2000.2020_monthly_mean_surface_reflectance_band_04_._month_m9',\n 'MODIS_2000.2020_monthly_mean_surface_reflectance_band_05_._month_m9',\n 'VOD_C_2002_2018_multiyear_mean_m01',\n 'VOD_C_2002_2018_multiyear_mean_m02',\n 'VOD_C_2002_2018_multiyear_mean_m03',\n 'VOD_C_2002_2018_multiyear_mean_m04',\n 'VOD_C_2002_2018_multiyear_mean_m05',\n 'VOD_C_2002_2018_multiyear_mean_m06',\n 'VOD_C_2002_2018_multiyear_mean_m07',\n 'VOD_C_2002_2018_multiyear_mean_m08',\n 'VOD_C_2002_2018_multiyear_mean_m09',\n 'VOD_C_2002_2018_multiyear_mean_m10',\n 'VOD_C_2002_2018_multiyear_mean_m11',\n 'VOD_C_2002_2018_multiyear_mean_m12',\n 'VOD_Ku_1987_2017_multiyear_mean_m01',\n 'VOD_Ku_1987_2017_multiyear_mean_m02',\n 'VOD_Ku_1987_2017_multiyear_mean_m03',\n 'VOD_Ku_1987_2017_multiyear_mean_m04',\n 'VOD_Ku_1987_2017_multiyear_mean_m05',\n 'VOD_Ku_1987_2017_multiyear_mean_m06',\n 'VOD_Ku_1987_2017_multiyear_mean_m07',\n 'VOD_Ku_1987_2017_multiyear_mean_m08',\n 'VOD_Ku_1987_2017_multiyear_mean_m09',\n 'VOD_Ku_1987_2017_multiyear_mean_m10',\n 'VOD_Ku_1987_2017_multiyear_mean_m11',\n 'VOD_Ku_1987_2017_multiyear_mean_m12',\n 'VOD_X_1997_2018_multiyear_mean_m01',\n 'VOD_X_1997_2018_multiyear_mean_m02',\n 'VOD_X_1997_2018_multiyear_mean_m03',\n 'VOD_X_1997_2018_multiyear_mean_m04',\n 'VOD_X_1997_2018_multiyear_mean_m05',\n 'VOD_X_1997_2018_multiyear_mean_m06',\n 'VOD_X_1997_2018_multiyear_mean_m07',\n 'VOD_X_1997_2018_multiyear_mean_m08',\n 'VOD_X_1997_2018_multiyear_mean_m09',\n 'VOD_X_1997_2018_multiyear_mean_m10',\n 'VOD_X_1997_2018_multiyear_mean_m11',\n 'VOD_X_1997_2018_multiyear_mean_m12']"
     },
     "execution_count": 4,
     "metadata": {},
     "output_type": "execute_result"
    }
   ],
   "source": [
    "x_feature = train.columns[:-12]\n",
    "list(x_feature)"
   ],
   "metadata": {
    "collapsed": false,
    "ExecuteTime": {
     "end_time": "2024-03-01T15:48:37.210276400Z",
     "start_time": "2024-03-01T15:48:37.198414400Z"
    }
   },
   "id": "cee3ea4a40b0913b"
  },
  {
   "cell_type": "code",
   "execution_count": 14,
   "outputs": [
    {
     "data": {
      "text/plain": "id\n192027691    11.929230\n195542235    15.759774\n196639184     5.291263\n195728812     9.097583\n195251545    14.457712\n               ...    \n190558785    11.572787\n194523231     6.117681\n195888987     5.533388\n135487319     7.024228\n146608105    13.169106\nLength: 55489, dtype: float64"
     },
     "execution_count": 14,
     "metadata": {},
     "output_type": "execute_result"
    }
   ],
   "source": [
    "train['X11_mean'] + train['X11_sd'] * np.random.normal(0, 0.1, len(train))"
   ],
   "metadata": {
    "collapsed": false,
    "ExecuteTime": {
     "end_time": "2024-03-02T09:16:38.018530600Z",
     "start_time": "2024-03-02T09:16:38.013373800Z"
    }
   },
   "id": "9db5b0685912b672"
  },
  {
   "cell_type": "code",
   "execution_count": 15,
   "outputs": [
    {
     "name": "stdout",
     "output_type": "stream",
     "text": [
      "X4_mean X4_sd\n",
      "X11_mean X11_sd\n",
      "X18_mean X18_sd\n",
      "X50_mean X50_sd\n",
      "X26_mean X26_sd\n",
      "X3112_mean X3112_sd\n"
     ]
    }
   ],
   "source": [
    "for mean, sd in zip(tar_features, tar_sd_features):\n",
    "    print(mean, sd)\n",
    "    train[mean] = train[mean] + train[sd] * np.random.normal(0, 0.1, len(train))"
   ],
   "metadata": {
    "collapsed": false,
    "ExecuteTime": {
     "end_time": "2024-03-02T09:21:16.612040300Z",
     "start_time": "2024-03-02T09:21:16.585798400Z"
    }
   },
   "id": "dc655dbff3a479f8"
  },
  {
   "cell_type": "code",
   "execution_count": 17,
   "outputs": [
    {
     "data": {
      "text/plain": "            X4_mean   X11_mean  X18_mean  X50_mean    X26_mean   X3112_mean\nid                                                                         \n192027691  0.400071  11.887680  0.115138  1.873856    1.230122    48.097164\n195542235  0.479893  15.767041  0.389362  1.352385    0.644923   572.837821\n196639184  0.796927   5.291262  8.552917  2.343163    0.395249  1130.096740\n195728812  0.526728   9.532661  1.100133  1.187957    0.153521  1042.075608\n195251545  0.411670  14.596682  0.659322  2.243411   10.920314  2392.235761\n...             ...        ...       ...       ...         ...          ...\n190558785  0.337252  11.572789  0.233701  1.608350    1.783202   969.547842\n194523231  0.423531   6.147388  1.007841  2.412141   13.455754  1617.548862\n195888987  0.641634   5.513693  2.743660  2.729061   10.255837   606.133478\n135487319  0.774651   7.024228  4.429667  3.251750    9.372180   244.387180\n146608105  0.551820  13.180716  5.824633  1.523934  155.238270  3750.017322\n\n[55489 rows x 6 columns]",
      "text/html": "<div>\n<style scoped>\n    .dataframe tbody tr th:only-of-type {\n        vertical-align: middle;\n    }\n\n    .dataframe tbody tr th {\n        vertical-align: top;\n    }\n\n    .dataframe thead th {\n        text-align: right;\n    }\n</style>\n<table border=\"1\" class=\"dataframe\">\n  <thead>\n    <tr style=\"text-align: right;\">\n      <th></th>\n      <th>X4_mean</th>\n      <th>X11_mean</th>\n      <th>X18_mean</th>\n      <th>X50_mean</th>\n      <th>X26_mean</th>\n      <th>X3112_mean</th>\n    </tr>\n    <tr>\n      <th>id</th>\n      <th></th>\n      <th></th>\n      <th></th>\n      <th></th>\n      <th></th>\n      <th></th>\n    </tr>\n  </thead>\n  <tbody>\n    <tr>\n      <th>192027691</th>\n      <td>0.400071</td>\n      <td>11.887680</td>\n      <td>0.115138</td>\n      <td>1.873856</td>\n      <td>1.230122</td>\n      <td>48.097164</td>\n    </tr>\n    <tr>\n      <th>195542235</th>\n      <td>0.479893</td>\n      <td>15.767041</td>\n      <td>0.389362</td>\n      <td>1.352385</td>\n      <td>0.644923</td>\n      <td>572.837821</td>\n    </tr>\n    <tr>\n      <th>196639184</th>\n      <td>0.796927</td>\n      <td>5.291262</td>\n      <td>8.552917</td>\n      <td>2.343163</td>\n      <td>0.395249</td>\n      <td>1130.096740</td>\n    </tr>\n    <tr>\n      <th>195728812</th>\n      <td>0.526728</td>\n      <td>9.532661</td>\n      <td>1.100133</td>\n      <td>1.187957</td>\n      <td>0.153521</td>\n      <td>1042.075608</td>\n    </tr>\n    <tr>\n      <th>195251545</th>\n      <td>0.411670</td>\n      <td>14.596682</td>\n      <td>0.659322</td>\n      <td>2.243411</td>\n      <td>10.920314</td>\n      <td>2392.235761</td>\n    </tr>\n    <tr>\n      <th>...</th>\n      <td>...</td>\n      <td>...</td>\n      <td>...</td>\n      <td>...</td>\n      <td>...</td>\n      <td>...</td>\n    </tr>\n    <tr>\n      <th>190558785</th>\n      <td>0.337252</td>\n      <td>11.572789</td>\n      <td>0.233701</td>\n      <td>1.608350</td>\n      <td>1.783202</td>\n      <td>969.547842</td>\n    </tr>\n    <tr>\n      <th>194523231</th>\n      <td>0.423531</td>\n      <td>6.147388</td>\n      <td>1.007841</td>\n      <td>2.412141</td>\n      <td>13.455754</td>\n      <td>1617.548862</td>\n    </tr>\n    <tr>\n      <th>195888987</th>\n      <td>0.641634</td>\n      <td>5.513693</td>\n      <td>2.743660</td>\n      <td>2.729061</td>\n      <td>10.255837</td>\n      <td>606.133478</td>\n    </tr>\n    <tr>\n      <th>135487319</th>\n      <td>0.774651</td>\n      <td>7.024228</td>\n      <td>4.429667</td>\n      <td>3.251750</td>\n      <td>9.372180</td>\n      <td>244.387180</td>\n    </tr>\n    <tr>\n      <th>146608105</th>\n      <td>0.551820</td>\n      <td>13.180716</td>\n      <td>5.824633</td>\n      <td>1.523934</td>\n      <td>155.238270</td>\n      <td>3750.017322</td>\n    </tr>\n  </tbody>\n</table>\n<p>55489 rows × 6 columns</p>\n</div>"
     },
     "execution_count": 17,
     "metadata": {},
     "output_type": "execute_result"
    }
   ],
   "source": [
    "train[tar_features]"
   ],
   "metadata": {
    "collapsed": false,
    "ExecuteTime": {
     "end_time": "2024-03-02T09:21:46.306011500Z",
     "start_time": "2024-03-02T09:21:46.288961500Z"
    }
   },
   "id": "31590373417bf82a"
  },
  {
   "cell_type": "code",
   "execution_count": 18,
   "outputs": [],
   "source": [
    "scaler = StandardScaler()\n",
    "y_train = np.zeros_like(train[tar_features], dtype=np.float32)\n",
    "\n",
    "for idx, (target, tar_sd) in enumerate(zip(tar_features, tar_sd_features)):\n",
    "    v = train[target].values\n",
    "\n",
    "    if target in log_features:\n",
    "        v = np.log10(v)\n",
    "\n",
    "    y_train[:, idx] = v\n",
    "\n",
    "y_train = scaler.fit_transform(y_train)"
   ],
   "metadata": {
    "collapsed": false,
    "ExecuteTime": {
     "end_time": "2024-03-02T09:23:14.620452300Z",
     "start_time": "2024-03-02T09:23:14.607404Z"
    }
   },
   "id": "e708e31a7f67604"
  },
  {
   "cell_type": "code",
   "execution_count": 19,
   "outputs": [
    {
     "data": {
      "text/plain": "            X4_mean  X11_mean  X18_mean  X50_mean  X26_mean  X3112_mean\nid                                                                     \n192027691 -0.700685 -0.259984 -1.317309  0.447518 -0.330649   -1.629578\n195542235 -0.244191  0.186301 -0.577431 -0.212735 -0.584730   -0.123722\n196639184  1.568909 -1.539090  1.298727  0.900003 -0.777380    0.289280\n195728812  0.023656 -0.608864  0.053322 -0.475183 -1.149479    0.239991\n195251545 -0.634354  0.064422 -0.257583  0.811929  0.528504    0.745117\n...             ...       ...       ...       ...       ...         ...\n190558785 -1.059944 -0.302407 -0.887421  0.138193 -0.184554    0.196141\n194523231 -0.566523 -1.302103  0.000113  0.958740  0.610655    0.507258\n195888987  0.680800 -1.474019  0.608278  1.208652  0.503803   -0.089380\n135487319  1.441513 -1.091399  0.899178  1.563420  0.468350   -0.641511\n146608105  0.167158 -0.096823  1.065430  0.029043  1.572915    1.018361\n\n[55489 rows x 6 columns]",
      "text/html": "<div>\n<style scoped>\n    .dataframe tbody tr th:only-of-type {\n        vertical-align: middle;\n    }\n\n    .dataframe tbody tr th {\n        vertical-align: top;\n    }\n\n    .dataframe thead th {\n        text-align: right;\n    }\n</style>\n<table border=\"1\" class=\"dataframe\">\n  <thead>\n    <tr style=\"text-align: right;\">\n      <th></th>\n      <th>X4_mean</th>\n      <th>X11_mean</th>\n      <th>X18_mean</th>\n      <th>X50_mean</th>\n      <th>X26_mean</th>\n      <th>X3112_mean</th>\n    </tr>\n    <tr>\n      <th>id</th>\n      <th></th>\n      <th></th>\n      <th></th>\n      <th></th>\n      <th></th>\n      <th></th>\n    </tr>\n  </thead>\n  <tbody>\n    <tr>\n      <th>192027691</th>\n      <td>-0.700685</td>\n      <td>-0.259984</td>\n      <td>-1.317309</td>\n      <td>0.447518</td>\n      <td>-0.330649</td>\n      <td>-1.629578</td>\n    </tr>\n    <tr>\n      <th>195542235</th>\n      <td>-0.244191</td>\n      <td>0.186301</td>\n      <td>-0.577431</td>\n      <td>-0.212735</td>\n      <td>-0.584730</td>\n      <td>-0.123722</td>\n    </tr>\n    <tr>\n      <th>196639184</th>\n      <td>1.568909</td>\n      <td>-1.539090</td>\n      <td>1.298727</td>\n      <td>0.900003</td>\n      <td>-0.777380</td>\n      <td>0.289280</td>\n    </tr>\n    <tr>\n      <th>195728812</th>\n      <td>0.023656</td>\n      <td>-0.608864</td>\n      <td>0.053322</td>\n      <td>-0.475183</td>\n      <td>-1.149479</td>\n      <td>0.239991</td>\n    </tr>\n    <tr>\n      <th>195251545</th>\n      <td>-0.634354</td>\n      <td>0.064422</td>\n      <td>-0.257583</td>\n      <td>0.811929</td>\n      <td>0.528504</td>\n      <td>0.745117</td>\n    </tr>\n    <tr>\n      <th>...</th>\n      <td>...</td>\n      <td>...</td>\n      <td>...</td>\n      <td>...</td>\n      <td>...</td>\n      <td>...</td>\n    </tr>\n    <tr>\n      <th>190558785</th>\n      <td>-1.059944</td>\n      <td>-0.302407</td>\n      <td>-0.887421</td>\n      <td>0.138193</td>\n      <td>-0.184554</td>\n      <td>0.196141</td>\n    </tr>\n    <tr>\n      <th>194523231</th>\n      <td>-0.566523</td>\n      <td>-1.302103</td>\n      <td>0.000113</td>\n      <td>0.958740</td>\n      <td>0.610655</td>\n      <td>0.507258</td>\n    </tr>\n    <tr>\n      <th>195888987</th>\n      <td>0.680800</td>\n      <td>-1.474019</td>\n      <td>0.608278</td>\n      <td>1.208652</td>\n      <td>0.503803</td>\n      <td>-0.089380</td>\n    </tr>\n    <tr>\n      <th>135487319</th>\n      <td>1.441513</td>\n      <td>-1.091399</td>\n      <td>0.899178</td>\n      <td>1.563420</td>\n      <td>0.468350</td>\n      <td>-0.641511</td>\n    </tr>\n    <tr>\n      <th>146608105</th>\n      <td>0.167158</td>\n      <td>-0.096823</td>\n      <td>1.065430</td>\n      <td>0.029043</td>\n      <td>1.572915</td>\n      <td>1.018361</td>\n    </tr>\n  </tbody>\n</table>\n<p>55489 rows × 6 columns</p>\n</div>"
     },
     "execution_count": 19,
     "metadata": {},
     "output_type": "execute_result"
    }
   ],
   "source": [
    "y_train = pd.DataFrame(y_train, columns=tar_features).set_index(train.index)\n",
    "y_train"
   ],
   "metadata": {
    "collapsed": false,
    "ExecuteTime": {
     "end_time": "2024-03-02T09:23:21.191801700Z",
     "start_time": "2024-03-02T09:23:21.162240800Z"
    }
   },
   "id": "10b51354e278f04f"
  },
  {
   "cell_type": "code",
   "execution_count": 20,
   "outputs": [
    {
     "data": {
      "text/plain": "['./data/processed/scaler.joblib']"
     },
     "execution_count": 20,
     "metadata": {},
     "output_type": "execute_result"
    }
   ],
   "source": [
    "y_train.to_csv('./data/processed/train.csv')\n",
    "dump(scaler, './data/processed/scaler.joblib')"
   ],
   "metadata": {
    "collapsed": false,
    "ExecuteTime": {
     "end_time": "2024-03-02T09:23:28.903803100Z",
     "start_time": "2024-03-02T09:23:28.636399900Z"
    }
   },
   "id": "9bb4d62e5fbfc784"
  },
  {
   "cell_type": "code",
   "execution_count": 4,
   "outputs": [],
   "source": [
    "test = pd.read_csv('./data/test.csv')\n",
    "test['file_path'] = test['id'].apply(lambda s: f'./data/test_images/{s}.jpeg')\n",
    "test['jpeg_bytes'] = test['file_path'].apply(lambda fp: open(fp, 'rb').read())\n",
    "test.to_pickle('./data/test.pkl')"
   ],
   "metadata": {
    "collapsed": false,
    "ExecuteTime": {
     "end_time": "2024-02-25T04:09:13.382203800Z",
     "start_time": "2024-02-25T04:06:23.751700600Z"
    }
   },
   "id": "51d4271b87957ca2"
  },
  {
   "cell_type": "code",
   "execution_count": 7,
   "outputs": [],
   "source": [
    "train_scaler = StandardScaler()\n",
    "x_train = np.zeros_like(train[x_feature], dtype=np.float32)\n",
    "\n",
    "for idx, target in enumerate(x_feature):\n",
    "    v = train[target].values\n",
    "\n",
    "    # if target in log_x_features:\n",
    "    #     v = np.log10(v)\n",
    "\n",
    "    x_train[:, idx] = v\n",
    "\n",
    "x_train = train_scaler.fit_transform(x_train)"
   ],
   "metadata": {
    "collapsed": false,
    "ExecuteTime": {
     "end_time": "2024-03-01T15:49:56.376907700Z",
     "start_time": "2024-03-01T15:49:56.178517400Z"
    }
   },
   "id": "75cb0bc5a4cb463f"
  },
  {
   "cell_type": "code",
   "execution_count": 10,
   "outputs": [],
   "source": [
    "x_train = pd.DataFrame(x_train, columns=x_feature).set_index(train.index)"
   ],
   "metadata": {
    "collapsed": false,
    "ExecuteTime": {
     "end_time": "2024-03-01T15:53:32.824019400Z",
     "start_time": "2024-03-01T15:53:32.787136500Z"
    }
   },
   "id": "b87f604ee3c81652"
  },
  {
   "cell_type": "code",
   "execution_count": 11,
   "outputs": [
    {
     "data": {
      "text/plain": "           WORLDCLIM_BIO1_annual_mean_temperature  \\\nid                                                  \n192027691                               -0.308725   \n195542235                                0.355134   \n196639184                               -0.042541   \n195728812                                0.541083   \n195251545                               -1.833272   \n...                                           ...   \n190558785                                0.645423   \n194523231                               -0.112469   \n195888987                                0.021632   \n135487319                                0.200102   \n146608105                                1.316263   \n\n           WORLDCLIM_BIO12_annual_precipitation  \\\nid                                                \n192027691                             -0.889802   \n195542235                             -1.259414   \n196639184                             -0.203696   \n195728812                              0.539962   \n195251545                             -0.687428   \n...                                         ...   \n190558785                             -1.058427   \n194523231                              0.508838   \n195888987                             -0.620095   \n135487319                              0.158816   \n146608105                              0.897477   \n\n           WORLDCLIM_BIO13.BIO14_delta_precipitation_of_wettest_and_dryest_month  \\\nid                                                                                 \n192027691                                          -0.554512                       \n195542235                                          -0.936992                       \n196639184                                          -0.648946                       \n195728812                                           0.182802                       \n195251545                                          -0.640040                       \n...                                                      ...                       \n190558785                                          -0.726033                       \n194523231                                           0.176645                       \n195888987                                          -0.212108                       \n135487319                                          -0.425108                       \n146608105                                           0.987163                       \n\n           WORLDCLIM_BIO15_precipitation_seasonality  \\\nid                                                     \n192027691                                   0.490021   \n195542235                                  -0.583946   \n196639184                                  -1.225982   \n195728812                                  -0.369732   \n195251545                                  -0.583637   \n...                                              ...   \n190558785                                   0.326497   \n194523231                                  -0.428751   \n195888987                                   1.026921   \n135487319                                  -1.067075   \n146608105                                  -0.169237   \n\n           WORLDCLIM_BIO4_temperature_seasonality  \\\nid                                                  \n192027691                                0.805016   \n195542235                                1.075379   \n196639184                               -0.412910   \n195728812                               -0.434778   \n195251545                                2.541932   \n...                                           ...   \n190558785                               -0.145290   \n194523231                                0.423243   \n195888987                               -0.036127   \n135487319                               -0.557545   \n146608105                               -1.407237   \n\n           WORLDCLIM_BIO7_temperature_annual_range  \\\nid                                                   \n192027691                                 0.879735   \n195542235                                 1.615380   \n196639184                                -0.264452   \n195728812                                -0.523488   \n195251545                                 2.258165   \n...                                            ...   \n190558785                                 0.276630   \n194523231                                 0.160330   \n195888987                                 0.180030   \n135487319                                -0.861202   \n146608105                                -1.292425   \n\n           SOIL_bdod_0.5cm_mean_0.01_deg  SOIL_bdod_100.200cm_mean_0.01_deg  \\\nid                                                                            \n192027691                       0.460272                           0.579818   \n195542235                       0.403478                           0.248144   \n196639184                      -0.562008                          -0.481537   \n195728812                       0.176305                          -0.614206   \n195251545                      -1.470702                           0.380814   \n...                                  ...                                ...   \n190558785                       0.062718                          -0.017194   \n194523231                       0.460272                           0.248144   \n195888987                       0.062718                           0.977825   \n135487319                      -0.448422                          -0.680541   \n146608105                       0.403478                          -0.348867   \n\n           SOIL_bdod_15.30cm_mean_0.01_deg  SOIL_bdod_30.60cm_mean_0.01_deg  \\\nid                                                                            \n192027691                         0.487341                         0.633997   \n195542235                         0.612104                         0.505870   \n196639184                        -0.573140                        -0.583211   \n195728812                        -0.198853                        -0.262893   \n195251545                        -0.510759                         0.185552   \n...                                    ...                              ...   \n190558785                         0.175435                         0.057425   \n194523231                         0.424960                         0.377743   \n195888987                         0.487341                         0.698061   \n135487319                        -0.697903                        -0.711338   \n146608105                         0.175435                        -0.070702   \n\n           ...  VOD_X_1997_2018_multiyear_mean_m03  \\\nid         ...                                       \n192027691  ...                            0.638743   \n195542235  ...                           -0.768723   \n196639184  ...                            0.488973   \n195728812  ...                           -0.321266   \n195251545  ...                           -0.128926   \n...        ...                                 ...   \n190558785  ...                           -0.721367   \n194523231  ...                           -0.646642   \n195888987  ...                           -1.581710   \n135487319  ...                           -0.203950   \n146608105  ...                            2.231636   \n\n           VOD_X_1997_2018_multiyear_mean_m04  \\\nid                                              \n192027691                            0.927605   \n195542235                           -0.881663   \n196639184                            0.413616   \n195728812                           -0.438934   \n195251545                            0.260018   \n...                                       ...   \n190558785                           -0.690451   \n194523231                           -0.603014   \n195888987                           -1.633348   \n135487319                           -0.314379   \n146608105                            2.065781   \n\n           VOD_X_1997_2018_multiyear_mean_m05  \\\nid                                              \n192027691                            1.040217   \n195542235                           -0.942067   \n196639184                            0.405373   \n195728812                           -0.559986   \n195251545                            0.553307   \n...                                       ...   \n190558785                           -0.596856   \n194523231                           -0.496135   \n195888987                           -1.668236   \n135487319                           -0.454435   \n146608105                            1.962891   \n\n           VOD_X_1997_2018_multiyear_mean_m06  \\\nid                                              \n192027691                            0.817117   \n195542235                           -1.069347   \n196639184                            0.406568   \n195728812                           -0.635205   \n195251545                            1.199778   \n...                                       ...   \n190558785                           -0.525751   \n194523231                           -0.497384   \n195888987                           -1.719123   \n135487319                           -0.532779   \n146608105                            1.906430   \n\n           VOD_X_1997_2018_multiyear_mean_m07  \\\nid                                              \n192027691                            0.347126   \n195542235                           -1.022200   \n196639184                            0.344944   \n195728812                           -0.534976   \n195251545                            1.516921   \n...                                       ...   \n190558785                           -0.424501   \n194523231                           -0.377590   \n195888987                           -1.754660   \n135487319                           -0.507220   \n146608105                            1.880527   \n\n           VOD_X_1997_2018_multiyear_mean_m08  \\\nid                                              \n192027691                            0.213268   \n195542235                           -1.020704   \n196639184                            0.294744   \n195728812                           -0.460638   \n195251545                            1.560907   \n...                                       ...   \n190558785                           -0.321623   \n194523231                           -0.402016   \n195888987                           -1.738011   \n135487319                           -0.423425   \n146608105                            1.916522   \n\n           VOD_X_1997_2018_multiyear_mean_m09  \\\nid                                              \n192027691                            0.384477   \n195542235                           -0.940234   \n196639184                            0.386658   \n195728812                           -0.527141   \n195251545                            1.258588   \n...                                       ...   \n190558785                           -0.282681   \n194523231                           -0.473746   \n195888987                           -1.750808   \n135487319                           -0.390915   \n146608105                            2.004496   \n\n           VOD_X_1997_2018_multiyear_mean_m10  \\\nid                                              \n192027691                            0.644727   \n195542235                           -0.787698   \n196639184                            0.516051   \n195728812                           -0.260902   \n195251545                            0.767458   \n...                                       ...   \n190558785                           -0.401587   \n194523231                           -0.457392   \n195888987                           -1.761985   \n135487319                           -0.284126   \n146608105                            2.104151   \n\n           VOD_X_1997_2018_multiyear_mean_m11  \\\nid                                              \n192027691                            0.544614   \n195542235                           -0.648572   \n196639184                            0.623689   \n195728812                           -0.219068   \n195251545                            0.616531   \n...                                       ...   \n190558785                           -0.571184   \n194523231                           -0.553931   \n195888987                           -1.816742   \n135487319                           -0.262354   \n146608105                            2.275391   \n\n           VOD_X_1997_2018_multiyear_mean_m12  \nid                                             \n192027691                            0.236286  \n195542235                           -0.492379  \n196639184                            0.651859  \n195728812                           -0.193552  \n195251545                            0.594171  \n...                                       ...  \n190558785                           -0.637861  \n194523231                           -0.624018  \n195888987                           -1.792120  \n135487319                           -0.252165  \n146608105                            2.350560  \n\n[55489 rows x 163 columns]",
      "text/html": "<div>\n<style scoped>\n    .dataframe tbody tr th:only-of-type {\n        vertical-align: middle;\n    }\n\n    .dataframe tbody tr th {\n        vertical-align: top;\n    }\n\n    .dataframe thead th {\n        text-align: right;\n    }\n</style>\n<table border=\"1\" class=\"dataframe\">\n  <thead>\n    <tr style=\"text-align: right;\">\n      <th></th>\n      <th>WORLDCLIM_BIO1_annual_mean_temperature</th>\n      <th>WORLDCLIM_BIO12_annual_precipitation</th>\n      <th>WORLDCLIM_BIO13.BIO14_delta_precipitation_of_wettest_and_dryest_month</th>\n      <th>WORLDCLIM_BIO15_precipitation_seasonality</th>\n      <th>WORLDCLIM_BIO4_temperature_seasonality</th>\n      <th>WORLDCLIM_BIO7_temperature_annual_range</th>\n      <th>SOIL_bdod_0.5cm_mean_0.01_deg</th>\n      <th>SOIL_bdod_100.200cm_mean_0.01_deg</th>\n      <th>SOIL_bdod_15.30cm_mean_0.01_deg</th>\n      <th>SOIL_bdod_30.60cm_mean_0.01_deg</th>\n      <th>...</th>\n      <th>VOD_X_1997_2018_multiyear_mean_m03</th>\n      <th>VOD_X_1997_2018_multiyear_mean_m04</th>\n      <th>VOD_X_1997_2018_multiyear_mean_m05</th>\n      <th>VOD_X_1997_2018_multiyear_mean_m06</th>\n      <th>VOD_X_1997_2018_multiyear_mean_m07</th>\n      <th>VOD_X_1997_2018_multiyear_mean_m08</th>\n      <th>VOD_X_1997_2018_multiyear_mean_m09</th>\n      <th>VOD_X_1997_2018_multiyear_mean_m10</th>\n      <th>VOD_X_1997_2018_multiyear_mean_m11</th>\n      <th>VOD_X_1997_2018_multiyear_mean_m12</th>\n    </tr>\n    <tr>\n      <th>id</th>\n      <th></th>\n      <th></th>\n      <th></th>\n      <th></th>\n      <th></th>\n      <th></th>\n      <th></th>\n      <th></th>\n      <th></th>\n      <th></th>\n      <th></th>\n      <th></th>\n      <th></th>\n      <th></th>\n      <th></th>\n      <th></th>\n      <th></th>\n      <th></th>\n      <th></th>\n      <th></th>\n      <th></th>\n    </tr>\n  </thead>\n  <tbody>\n    <tr>\n      <th>192027691</th>\n      <td>-0.308725</td>\n      <td>-0.889802</td>\n      <td>-0.554512</td>\n      <td>0.490021</td>\n      <td>0.805016</td>\n      <td>0.879735</td>\n      <td>0.460272</td>\n      <td>0.579818</td>\n      <td>0.487341</td>\n      <td>0.633997</td>\n      <td>...</td>\n      <td>0.638743</td>\n      <td>0.927605</td>\n      <td>1.040217</td>\n      <td>0.817117</td>\n      <td>0.347126</td>\n      <td>0.213268</td>\n      <td>0.384477</td>\n      <td>0.644727</td>\n      <td>0.544614</td>\n      <td>0.236286</td>\n    </tr>\n    <tr>\n      <th>195542235</th>\n      <td>0.355134</td>\n      <td>-1.259414</td>\n      <td>-0.936992</td>\n      <td>-0.583946</td>\n      <td>1.075379</td>\n      <td>1.615380</td>\n      <td>0.403478</td>\n      <td>0.248144</td>\n      <td>0.612104</td>\n      <td>0.505870</td>\n      <td>...</td>\n      <td>-0.768723</td>\n      <td>-0.881663</td>\n      <td>-0.942067</td>\n      <td>-1.069347</td>\n      <td>-1.022200</td>\n      <td>-1.020704</td>\n      <td>-0.940234</td>\n      <td>-0.787698</td>\n      <td>-0.648572</td>\n      <td>-0.492379</td>\n    </tr>\n    <tr>\n      <th>196639184</th>\n      <td>-0.042541</td>\n      <td>-0.203696</td>\n      <td>-0.648946</td>\n      <td>-1.225982</td>\n      <td>-0.412910</td>\n      <td>-0.264452</td>\n      <td>-0.562008</td>\n      <td>-0.481537</td>\n      <td>-0.573140</td>\n      <td>-0.583211</td>\n      <td>...</td>\n      <td>0.488973</td>\n      <td>0.413616</td>\n      <td>0.405373</td>\n      <td>0.406568</td>\n      <td>0.344944</td>\n      <td>0.294744</td>\n      <td>0.386658</td>\n      <td>0.516051</td>\n      <td>0.623689</td>\n      <td>0.651859</td>\n    </tr>\n    <tr>\n      <th>195728812</th>\n      <td>0.541083</td>\n      <td>0.539962</td>\n      <td>0.182802</td>\n      <td>-0.369732</td>\n      <td>-0.434778</td>\n      <td>-0.523488</td>\n      <td>0.176305</td>\n      <td>-0.614206</td>\n      <td>-0.198853</td>\n      <td>-0.262893</td>\n      <td>...</td>\n      <td>-0.321266</td>\n      <td>-0.438934</td>\n      <td>-0.559986</td>\n      <td>-0.635205</td>\n      <td>-0.534976</td>\n      <td>-0.460638</td>\n      <td>-0.527141</td>\n      <td>-0.260902</td>\n      <td>-0.219068</td>\n      <td>-0.193552</td>\n    </tr>\n    <tr>\n      <th>195251545</th>\n      <td>-1.833272</td>\n      <td>-0.687428</td>\n      <td>-0.640040</td>\n      <td>-0.583637</td>\n      <td>2.541932</td>\n      <td>2.258165</td>\n      <td>-1.470702</td>\n      <td>0.380814</td>\n      <td>-0.510759</td>\n      <td>0.185552</td>\n      <td>...</td>\n      <td>-0.128926</td>\n      <td>0.260018</td>\n      <td>0.553307</td>\n      <td>1.199778</td>\n      <td>1.516921</td>\n      <td>1.560907</td>\n      <td>1.258588</td>\n      <td>0.767458</td>\n      <td>0.616531</td>\n      <td>0.594171</td>\n    </tr>\n    <tr>\n      <th>...</th>\n      <td>...</td>\n      <td>...</td>\n      <td>...</td>\n      <td>...</td>\n      <td>...</td>\n      <td>...</td>\n      <td>...</td>\n      <td>...</td>\n      <td>...</td>\n      <td>...</td>\n      <td>...</td>\n      <td>...</td>\n      <td>...</td>\n      <td>...</td>\n      <td>...</td>\n      <td>...</td>\n      <td>...</td>\n      <td>...</td>\n      <td>...</td>\n      <td>...</td>\n      <td>...</td>\n    </tr>\n    <tr>\n      <th>190558785</th>\n      <td>0.645423</td>\n      <td>-1.058427</td>\n      <td>-0.726033</td>\n      <td>0.326497</td>\n      <td>-0.145290</td>\n      <td>0.276630</td>\n      <td>0.062718</td>\n      <td>-0.017194</td>\n      <td>0.175435</td>\n      <td>0.057425</td>\n      <td>...</td>\n      <td>-0.721367</td>\n      <td>-0.690451</td>\n      <td>-0.596856</td>\n      <td>-0.525751</td>\n      <td>-0.424501</td>\n      <td>-0.321623</td>\n      <td>-0.282681</td>\n      <td>-0.401587</td>\n      <td>-0.571184</td>\n      <td>-0.637861</td>\n    </tr>\n    <tr>\n      <th>194523231</th>\n      <td>-0.112469</td>\n      <td>0.508838</td>\n      <td>0.176645</td>\n      <td>-0.428751</td>\n      <td>0.423243</td>\n      <td>0.160330</td>\n      <td>0.460272</td>\n      <td>0.248144</td>\n      <td>0.424960</td>\n      <td>0.377743</td>\n      <td>...</td>\n      <td>-0.646642</td>\n      <td>-0.603014</td>\n      <td>-0.496135</td>\n      <td>-0.497384</td>\n      <td>-0.377590</td>\n      <td>-0.402016</td>\n      <td>-0.473746</td>\n      <td>-0.457392</td>\n      <td>-0.553931</td>\n      <td>-0.624018</td>\n    </tr>\n    <tr>\n      <th>195888987</th>\n      <td>0.021632</td>\n      <td>-0.620095</td>\n      <td>-0.212108</td>\n      <td>1.026921</td>\n      <td>-0.036127</td>\n      <td>0.180030</td>\n      <td>0.062718</td>\n      <td>0.977825</td>\n      <td>0.487341</td>\n      <td>0.698061</td>\n      <td>...</td>\n      <td>-1.581710</td>\n      <td>-1.633348</td>\n      <td>-1.668236</td>\n      <td>-1.719123</td>\n      <td>-1.754660</td>\n      <td>-1.738011</td>\n      <td>-1.750808</td>\n      <td>-1.761985</td>\n      <td>-1.816742</td>\n      <td>-1.792120</td>\n    </tr>\n    <tr>\n      <th>135487319</th>\n      <td>0.200102</td>\n      <td>0.158816</td>\n      <td>-0.425108</td>\n      <td>-1.067075</td>\n      <td>-0.557545</td>\n      <td>-0.861202</td>\n      <td>-0.448422</td>\n      <td>-0.680541</td>\n      <td>-0.697903</td>\n      <td>-0.711338</td>\n      <td>...</td>\n      <td>-0.203950</td>\n      <td>-0.314379</td>\n      <td>-0.454435</td>\n      <td>-0.532779</td>\n      <td>-0.507220</td>\n      <td>-0.423425</td>\n      <td>-0.390915</td>\n      <td>-0.284126</td>\n      <td>-0.262354</td>\n      <td>-0.252165</td>\n    </tr>\n    <tr>\n      <th>146608105</th>\n      <td>1.316263</td>\n      <td>0.897477</td>\n      <td>0.987163</td>\n      <td>-0.169237</td>\n      <td>-1.407237</td>\n      <td>-1.292425</td>\n      <td>0.403478</td>\n      <td>-0.348867</td>\n      <td>0.175435</td>\n      <td>-0.070702</td>\n      <td>...</td>\n      <td>2.231636</td>\n      <td>2.065781</td>\n      <td>1.962891</td>\n      <td>1.906430</td>\n      <td>1.880527</td>\n      <td>1.916522</td>\n      <td>2.004496</td>\n      <td>2.104151</td>\n      <td>2.275391</td>\n      <td>2.350560</td>\n    </tr>\n  </tbody>\n</table>\n<p>55489 rows × 163 columns</p>\n</div>"
     },
     "execution_count": 11,
     "metadata": {},
     "output_type": "execute_result"
    }
   ],
   "source": [
    "x_train"
   ],
   "metadata": {
    "collapsed": false,
    "ExecuteTime": {
     "end_time": "2024-03-01T15:53:40.497353800Z",
     "start_time": "2024-03-01T15:53:40.475283Z"
    }
   },
   "id": "10c57915076b110c"
  },
  {
   "cell_type": "code",
   "execution_count": 12,
   "outputs": [
    {
     "data": {
      "text/plain": "['./data/processed/scaler_x.joblib']"
     },
     "execution_count": 12,
     "metadata": {},
     "output_type": "execute_result"
    }
   ],
   "source": [
    "x_train.to_csv('./data/processed/train_x.csv')\n",
    "dump(train_scaler, './data/processed/scaler_x.joblib')"
   ],
   "metadata": {
    "collapsed": false,
    "ExecuteTime": {
     "end_time": "2024-03-01T15:54:07.423491Z",
     "start_time": "2024-03-01T15:54:01.653198100Z"
    }
   },
   "id": "74abcc67d1d3cf81"
  }
 ],
 "metadata": {
  "kernelspec": {
   "display_name": "Python 3",
   "language": "python",
   "name": "python3"
  },
  "language_info": {
   "codemirror_mode": {
    "name": "ipython",
    "version": 2
   },
   "file_extension": ".py",
   "mimetype": "text/x-python",
   "name": "python",
   "nbconvert_exporter": "python",
   "pygments_lexer": "ipython2",
   "version": "2.7.6"
  }
 },
 "nbformat": 4,
 "nbformat_minor": 5
}
