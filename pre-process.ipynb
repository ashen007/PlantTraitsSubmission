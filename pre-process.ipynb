{
 "cells": [
  {
   "cell_type": "code",
   "execution_count": 1,
   "id": "initial_id",
   "metadata": {
    "collapsed": true,
    "ExecuteTime": {
     "end_time": "2024-03-05T02:38:15.350918500Z",
     "start_time": "2024-03-05T02:38:14.515091200Z"
    }
   },
   "outputs": [],
   "source": [
    "import numpy as np\n",
    "import pandas as pd\n",
    "from joblib import dump\n",
    "from sklearn.preprocessing import Normalizer, StandardScaler, MinMaxScaler\n",
    "from sklearn.model_selection import train_test_split\n",
    "from feature_engine.outliers import OutlierTrimmer\n",
    "import warnings\n",
    "\n",
    "warnings.filterwarnings(\"error\")"
   ]
  },
  {
   "cell_type": "code",
   "execution_count": 2,
   "outputs": [],
   "source": [
    "seed = 48"
   ],
   "metadata": {
    "collapsed": false,
    "ExecuteTime": {
     "end_time": "2024-03-05T02:38:15.365167900Z",
     "start_time": "2024-03-05T02:38:15.351389600Z"
    }
   },
   "id": "30840f23341f353b"
  },
  {
   "cell_type": "code",
   "execution_count": 3,
   "outputs": [],
   "source": [
    "tar_features = ['X4_mean', 'X11_mean', 'X18_mean', 'X50_mean', 'X26_mean', 'X3112_mean']\n",
    "tar_sd_features = ['X4_sd', 'X11_sd', 'X18_sd', 'X50_sd', 'X26_sd', 'X3112_sd']\n",
    "log_features = ['X11_mean', 'X18_mean', 'X50_mean', 'X26_mean', 'X3112_mean']"
   ],
   "metadata": {
    "collapsed": false,
    "ExecuteTime": {
     "end_time": "2024-03-05T02:38:15.365167900Z",
     "start_time": "2024-03-05T02:38:15.354418700Z"
    }
   },
   "id": "b04a33924afa3729"
  },
  {
   "cell_type": "code",
   "execution_count": 4,
   "outputs": [],
   "source": [
    "train = pd.read_csv('./data/train.csv', index_col='id').fillna(0)\n",
    "# train = train + 1e-5"
   ],
   "metadata": {
    "collapsed": false,
    "ExecuteTime": {
     "end_time": "2024-03-05T02:38:16.341159400Z",
     "start_time": "2024-03-05T02:38:15.358304300Z"
    }
   },
   "id": "43bd8604e725b5c4"
  },
  {
   "cell_type": "code",
   "execution_count": 5,
   "outputs": [
    {
     "data": {
      "text/plain": "((44391, 175), (11098, 175))"
     },
     "execution_count": 5,
     "metadata": {},
     "output_type": "execute_result"
    }
   ],
   "source": [
    "train_xs, valid_xs = train_test_split(train, test_size=0.2, random_state=seed)\n",
    "train_xs.shape, valid_xs.shape"
   ],
   "metadata": {
    "collapsed": false,
    "ExecuteTime": {
     "end_time": "2024-03-05T02:38:16.390429100Z",
     "start_time": "2024-03-05T02:38:16.342665400Z"
    }
   },
   "id": "cee3ea4a40b0913b"
  },
  {
   "cell_type": "code",
   "execution_count": 10,
   "outputs": [
    {
     "name": "stdout",
     "output_type": "stream",
     "text": [
      "X4_mean X4_sd\n",
      "X11_mean X11_sd\n",
      "X18_mean X18_sd\n",
      "X50_mean X50_sd\n",
      "X26_mean X26_sd\n",
      "X3112_mean X3112_sd\n"
     ]
    }
   ],
   "source": [
    "for mean, sd in zip(tar_features, tar_sd_features):\n",
    "    print(mean, sd)\n",
    "    train[mean] = train[mean] + train[sd] * np.random.normal(0, 0.1, len(train))"
   ],
   "metadata": {
    "collapsed": false,
    "ExecuteTime": {
     "end_time": "2024-03-04T12:29:19.246033200Z",
     "start_time": "2024-03-04T12:29:19.212839100Z"
    }
   },
   "id": "dc655dbff3a479f8"
  },
  {
   "cell_type": "code",
   "execution_count": 6,
   "outputs": [
    {
     "data": {
      "text/plain": "              count           mean           std           min         25%  \\\nX4_mean     44391.0       0.522885  1.758845e-01 -2.431157e+00    0.411067   \nX11_mean    44391.0     159.569755  1.428773e+04  6.780000e-05   10.626319   \nX18_mean    44391.0   24578.633284  2.582359e+06  2.330000e-08    0.313851   \nX50_mean    44391.0      12.802032  1.313423e+03  9.680000e-05    1.172768   \nX26_mean    44391.0    3597.055443  2.623069e+05  5.500000e-07    0.572460   \nX3112_mean  44391.0  493868.681020  1.023270e+08  7.690000e-08  257.437398   \n\n                   50%          75%           max  \nX4_mean       0.508919     0.622760  4.475172e+00  \nX11_mean     15.116270    19.680132  1.504254e+06  \nX18_mean      0.720825     3.635854  2.720494e+08  \nX50_mean      1.478612     1.926010  1.597599e+05  \nX26_mean      2.539143    15.073373  3.106555e+07  \nX3112_mean  726.808928  2146.463677  2.155911e+10  ",
      "text/html": "<div>\n<style scoped>\n    .dataframe tbody tr th:only-of-type {\n        vertical-align: middle;\n    }\n\n    .dataframe tbody tr th {\n        vertical-align: top;\n    }\n\n    .dataframe thead th {\n        text-align: right;\n    }\n</style>\n<table border=\"1\" class=\"dataframe\">\n  <thead>\n    <tr style=\"text-align: right;\">\n      <th></th>\n      <th>count</th>\n      <th>mean</th>\n      <th>std</th>\n      <th>min</th>\n      <th>25%</th>\n      <th>50%</th>\n      <th>75%</th>\n      <th>max</th>\n    </tr>\n  </thead>\n  <tbody>\n    <tr>\n      <th>X4_mean</th>\n      <td>44391.0</td>\n      <td>0.522885</td>\n      <td>1.758845e-01</td>\n      <td>-2.431157e+00</td>\n      <td>0.411067</td>\n      <td>0.508919</td>\n      <td>0.622760</td>\n      <td>4.475172e+00</td>\n    </tr>\n    <tr>\n      <th>X11_mean</th>\n      <td>44391.0</td>\n      <td>159.569755</td>\n      <td>1.428773e+04</td>\n      <td>6.780000e-05</td>\n      <td>10.626319</td>\n      <td>15.116270</td>\n      <td>19.680132</td>\n      <td>1.504254e+06</td>\n    </tr>\n    <tr>\n      <th>X18_mean</th>\n      <td>44391.0</td>\n      <td>24578.633284</td>\n      <td>2.582359e+06</td>\n      <td>2.330000e-08</td>\n      <td>0.313851</td>\n      <td>0.720825</td>\n      <td>3.635854</td>\n      <td>2.720494e+08</td>\n    </tr>\n    <tr>\n      <th>X50_mean</th>\n      <td>44391.0</td>\n      <td>12.802032</td>\n      <td>1.313423e+03</td>\n      <td>9.680000e-05</td>\n      <td>1.172768</td>\n      <td>1.478612</td>\n      <td>1.926010</td>\n      <td>1.597599e+05</td>\n    </tr>\n    <tr>\n      <th>X26_mean</th>\n      <td>44391.0</td>\n      <td>3597.055443</td>\n      <td>2.623069e+05</td>\n      <td>5.500000e-07</td>\n      <td>0.572460</td>\n      <td>2.539143</td>\n      <td>15.073373</td>\n      <td>3.106555e+07</td>\n    </tr>\n    <tr>\n      <th>X3112_mean</th>\n      <td>44391.0</td>\n      <td>493868.681020</td>\n      <td>1.023270e+08</td>\n      <td>7.690000e-08</td>\n      <td>257.437398</td>\n      <td>726.808928</td>\n      <td>2146.463677</td>\n      <td>2.155911e+10</td>\n    </tr>\n  </tbody>\n</table>\n</div>"
     },
     "execution_count": 6,
     "metadata": {},
     "output_type": "execute_result"
    }
   ],
   "source": [
    "train_xs[tar_features].describe().T"
   ],
   "metadata": {
    "collapsed": false,
    "ExecuteTime": {
     "end_time": "2024-03-05T02:38:21.544275600Z",
     "start_time": "2024-03-05T02:38:21.502428100Z"
    }
   },
   "id": "31590373417bf82a"
  },
  {
   "cell_type": "code",
   "execution_count": 8,
   "outputs": [
    {
     "data": {
      "text/plain": "                   0.000      0.010      0.025      0.100       0.500  \\\nX4_mean    -2.431157e+00   0.227783   0.273426   0.338843    0.508919   \nX11_mean    6.780000e-05   3.057649   3.967288   6.421923   15.116270   \nX18_mean    2.330000e-08   0.042790   0.064821   0.163245    0.720825   \nX50_mean    9.680000e-05   0.492535   0.642466   0.925622    1.478612   \nX26_mean    5.500000e-07   0.010774   0.021041   0.120801    2.539143   \nX3112_mean  7.690000e-08  11.708036  21.933505  91.904776  726.808928   \n\n                  0.900         0.975         0.990         1.000  \nX4_mean        0.724688      0.841314      0.920310  4.475172e+00  \nX11_mean      25.246879     38.378333     50.777775  1.504254e+06  \nX18_mean      11.397470     21.751872     28.564947  2.720494e+08  \nX50_mean       2.491684      3.515410      4.444901  1.597599e+05  \nX26_mean      80.104639    537.145107   1454.708615  3.106555e+07  \nX3112_mean  4844.990136  13641.992446  24493.446280  2.155911e+10  ",
      "text/html": "<div>\n<style scoped>\n    .dataframe tbody tr th:only-of-type {\n        vertical-align: middle;\n    }\n\n    .dataframe tbody tr th {\n        vertical-align: top;\n    }\n\n    .dataframe thead th {\n        text-align: right;\n    }\n</style>\n<table border=\"1\" class=\"dataframe\">\n  <thead>\n    <tr style=\"text-align: right;\">\n      <th></th>\n      <th>0.000</th>\n      <th>0.010</th>\n      <th>0.025</th>\n      <th>0.100</th>\n      <th>0.500</th>\n      <th>0.900</th>\n      <th>0.975</th>\n      <th>0.990</th>\n      <th>1.000</th>\n    </tr>\n  </thead>\n  <tbody>\n    <tr>\n      <th>X4_mean</th>\n      <td>-2.431157e+00</td>\n      <td>0.227783</td>\n      <td>0.273426</td>\n      <td>0.338843</td>\n      <td>0.508919</td>\n      <td>0.724688</td>\n      <td>0.841314</td>\n      <td>0.920310</td>\n      <td>4.475172e+00</td>\n    </tr>\n    <tr>\n      <th>X11_mean</th>\n      <td>6.780000e-05</td>\n      <td>3.057649</td>\n      <td>3.967288</td>\n      <td>6.421923</td>\n      <td>15.116270</td>\n      <td>25.246879</td>\n      <td>38.378333</td>\n      <td>50.777775</td>\n      <td>1.504254e+06</td>\n    </tr>\n    <tr>\n      <th>X18_mean</th>\n      <td>2.330000e-08</td>\n      <td>0.042790</td>\n      <td>0.064821</td>\n      <td>0.163245</td>\n      <td>0.720825</td>\n      <td>11.397470</td>\n      <td>21.751872</td>\n      <td>28.564947</td>\n      <td>2.720494e+08</td>\n    </tr>\n    <tr>\n      <th>X50_mean</th>\n      <td>9.680000e-05</td>\n      <td>0.492535</td>\n      <td>0.642466</td>\n      <td>0.925622</td>\n      <td>1.478612</td>\n      <td>2.491684</td>\n      <td>3.515410</td>\n      <td>4.444901</td>\n      <td>1.597599e+05</td>\n    </tr>\n    <tr>\n      <th>X26_mean</th>\n      <td>5.500000e-07</td>\n      <td>0.010774</td>\n      <td>0.021041</td>\n      <td>0.120801</td>\n      <td>2.539143</td>\n      <td>80.104639</td>\n      <td>537.145107</td>\n      <td>1454.708615</td>\n      <td>3.106555e+07</td>\n    </tr>\n    <tr>\n      <th>X3112_mean</th>\n      <td>7.690000e-08</td>\n      <td>11.708036</td>\n      <td>21.933505</td>\n      <td>91.904776</td>\n      <td>726.808928</td>\n      <td>4844.990136</td>\n      <td>13641.992446</td>\n      <td>24493.446280</td>\n      <td>2.155911e+10</td>\n    </tr>\n  </tbody>\n</table>\n</div>"
     },
     "execution_count": 8,
     "metadata": {},
     "output_type": "execute_result"
    }
   ],
   "source": [
    "train_xs[tar_features].quantile([0, 0.01, 0.025, 0.1, 0.5, 0.9, 0.975, 0.99, 1]).T"
   ],
   "metadata": {
    "collapsed": false,
    "ExecuteTime": {
     "end_time": "2024-03-05T02:39:15.393038500Z",
     "start_time": "2024-03-05T02:39:15.311040600Z"
    }
   },
   "id": "f29f59887b5952fd"
  },
  {
   "cell_type": "code",
   "execution_count": 9,
   "outputs": [
    {
     "data": {
      "text/plain": "OutlierTrimmer(capping_method='quantiles', fold=0.01, tail='both')",
      "text/html": "<style>#sk-container-id-1 {color: black;}#sk-container-id-1 pre{padding: 0;}#sk-container-id-1 div.sk-toggleable {background-color: white;}#sk-container-id-1 label.sk-toggleable__label {cursor: pointer;display: block;width: 100%;margin-bottom: 0;padding: 0.3em;box-sizing: border-box;text-align: center;}#sk-container-id-1 label.sk-toggleable__label-arrow:before {content: \"▸\";float: left;margin-right: 0.25em;color: #696969;}#sk-container-id-1 label.sk-toggleable__label-arrow:hover:before {color: black;}#sk-container-id-1 div.sk-estimator:hover label.sk-toggleable__label-arrow:before {color: black;}#sk-container-id-1 div.sk-toggleable__content {max-height: 0;max-width: 0;overflow: hidden;text-align: left;background-color: #f0f8ff;}#sk-container-id-1 div.sk-toggleable__content pre {margin: 0.2em;color: black;border-radius: 0.25em;background-color: #f0f8ff;}#sk-container-id-1 input.sk-toggleable__control:checked~div.sk-toggleable__content {max-height: 200px;max-width: 100%;overflow: auto;}#sk-container-id-1 input.sk-toggleable__control:checked~label.sk-toggleable__label-arrow:before {content: \"▾\";}#sk-container-id-1 div.sk-estimator input.sk-toggleable__control:checked~label.sk-toggleable__label {background-color: #d4ebff;}#sk-container-id-1 div.sk-label input.sk-toggleable__control:checked~label.sk-toggleable__label {background-color: #d4ebff;}#sk-container-id-1 input.sk-hidden--visually {border: 0;clip: rect(1px 1px 1px 1px);clip: rect(1px, 1px, 1px, 1px);height: 1px;margin: -1px;overflow: hidden;padding: 0;position: absolute;width: 1px;}#sk-container-id-1 div.sk-estimator {font-family: monospace;background-color: #f0f8ff;border: 1px dotted black;border-radius: 0.25em;box-sizing: border-box;margin-bottom: 0.5em;}#sk-container-id-1 div.sk-estimator:hover {background-color: #d4ebff;}#sk-container-id-1 div.sk-parallel-item::after {content: \"\";width: 100%;border-bottom: 1px solid gray;flex-grow: 1;}#sk-container-id-1 div.sk-label:hover label.sk-toggleable__label {background-color: #d4ebff;}#sk-container-id-1 div.sk-serial::before {content: \"\";position: absolute;border-left: 1px solid gray;box-sizing: border-box;top: 0;bottom: 0;left: 50%;z-index: 0;}#sk-container-id-1 div.sk-serial {display: flex;flex-direction: column;align-items: center;background-color: white;padding-right: 0.2em;padding-left: 0.2em;position: relative;}#sk-container-id-1 div.sk-item {position: relative;z-index: 1;}#sk-container-id-1 div.sk-parallel {display: flex;align-items: stretch;justify-content: center;background-color: white;position: relative;}#sk-container-id-1 div.sk-item::before, #sk-container-id-1 div.sk-parallel-item::before {content: \"\";position: absolute;border-left: 1px solid gray;box-sizing: border-box;top: 0;bottom: 0;left: 50%;z-index: -1;}#sk-container-id-1 div.sk-parallel-item {display: flex;flex-direction: column;z-index: 1;position: relative;background-color: white;}#sk-container-id-1 div.sk-parallel-item:first-child::after {align-self: flex-end;width: 50%;}#sk-container-id-1 div.sk-parallel-item:last-child::after {align-self: flex-start;width: 50%;}#sk-container-id-1 div.sk-parallel-item:only-child::after {width: 0;}#sk-container-id-1 div.sk-dashed-wrapped {border: 1px dashed gray;margin: 0 0.4em 0.5em 0.4em;box-sizing: border-box;padding-bottom: 0.4em;background-color: white;}#sk-container-id-1 div.sk-label label {font-family: monospace;font-weight: bold;display: inline-block;line-height: 1.2em;}#sk-container-id-1 div.sk-label-container {text-align: center;}#sk-container-id-1 div.sk-container {/* jupyter's `normalize.less` sets `[hidden] { display: none; }` but bootstrap.min.css set `[hidden] { display: none !important; }` so we also need the `!important` here to be able to override the default hidden behavior on the sphinx rendered scikit-learn.org. See: https://github.com/scikit-learn/scikit-learn/issues/21755 */display: inline-block !important;position: relative;}#sk-container-id-1 div.sk-text-repr-fallback {display: none;}</style><div id=\"sk-container-id-1\" class=\"sk-top-container\"><div class=\"sk-text-repr-fallback\"><pre>OutlierTrimmer(capping_method=&#x27;quantiles&#x27;, fold=0.01, tail=&#x27;both&#x27;)</pre><b>In a Jupyter environment, please rerun this cell to show the HTML representation or trust the notebook. <br />On GitHub, the HTML representation is unable to render, please try loading this page with nbviewer.org.</b></div><div class=\"sk-container\" hidden><div class=\"sk-item\"><div class=\"sk-estimator sk-toggleable\"><input class=\"sk-toggleable__control sk-hidden--visually\" id=\"sk-estimator-id-1\" type=\"checkbox\" checked><label for=\"sk-estimator-id-1\" class=\"sk-toggleable__label sk-toggleable__label-arrow\">OutlierTrimmer</label><div class=\"sk-toggleable__content\"><pre>OutlierTrimmer(capping_method=&#x27;quantiles&#x27;, fold=0.01, tail=&#x27;both&#x27;)</pre></div></div></div></div></div>"
     },
     "execution_count": 9,
     "metadata": {},
     "output_type": "execute_result"
    }
   ],
   "source": [
    "trimmer = OutlierTrimmer(capping_method='quantiles', tail='both', fold=0.01)\n",
    "trimmer.fit(train_xs[tar_features])"
   ],
   "metadata": {
    "collapsed": false,
    "ExecuteTime": {
     "end_time": "2024-03-05T02:39:37.474781600Z",
     "start_time": "2024-03-05T02:39:37.438612100Z"
    }
   },
   "id": "649f09d975516d4d"
  },
  {
   "cell_type": "code",
   "execution_count": 10,
   "outputs": [
    {
     "data": {
      "text/plain": "            X4_mean   X11_mean   X18_mean  X50_mean   X26_mean   X3112_mean\nid                                                                         \n196351112  0.345967  18.729455   6.097319  0.983611   0.110296  8217.136933\n194199029  0.788713  22.499436   0.079323  2.344849  22.024522   675.009501\n130253467  0.662078  12.631095   0.753300  2.763913  15.101902   265.980344\n195132552  0.616988  43.241915   0.802360  1.039350   1.873556  1107.025060\n188664637  0.458969  10.782423   0.100319  2.669681   2.557434    94.730622\n...             ...        ...        ...       ...        ...          ...\n191833808  0.656199  12.897281   1.526435  2.695139  18.236375   320.115284\n120363935  0.739116   3.233058   5.884583  3.885075   8.067971   144.071709\n195878907  0.556858  14.144586   0.722631  3.464295   3.489664   837.110254\n196192062  0.500775   5.970475  15.395812  2.026018  26.704722   159.347682\n88917834   0.490887  26.861511   0.213001  0.981258   0.086018   331.373674\n\n[40388 rows x 6 columns]",
      "text/html": "<div>\n<style scoped>\n    .dataframe tbody tr th:only-of-type {\n        vertical-align: middle;\n    }\n\n    .dataframe tbody tr th {\n        vertical-align: top;\n    }\n\n    .dataframe thead th {\n        text-align: right;\n    }\n</style>\n<table border=\"1\" class=\"dataframe\">\n  <thead>\n    <tr style=\"text-align: right;\">\n      <th></th>\n      <th>X4_mean</th>\n      <th>X11_mean</th>\n      <th>X18_mean</th>\n      <th>X50_mean</th>\n      <th>X26_mean</th>\n      <th>X3112_mean</th>\n    </tr>\n    <tr>\n      <th>id</th>\n      <th></th>\n      <th></th>\n      <th></th>\n      <th></th>\n      <th></th>\n      <th></th>\n    </tr>\n  </thead>\n  <tbody>\n    <tr>\n      <th>196351112</th>\n      <td>0.345967</td>\n      <td>18.729455</td>\n      <td>6.097319</td>\n      <td>0.983611</td>\n      <td>0.110296</td>\n      <td>8217.136933</td>\n    </tr>\n    <tr>\n      <th>194199029</th>\n      <td>0.788713</td>\n      <td>22.499436</td>\n      <td>0.079323</td>\n      <td>2.344849</td>\n      <td>22.024522</td>\n      <td>675.009501</td>\n    </tr>\n    <tr>\n      <th>130253467</th>\n      <td>0.662078</td>\n      <td>12.631095</td>\n      <td>0.753300</td>\n      <td>2.763913</td>\n      <td>15.101902</td>\n      <td>265.980344</td>\n    </tr>\n    <tr>\n      <th>195132552</th>\n      <td>0.616988</td>\n      <td>43.241915</td>\n      <td>0.802360</td>\n      <td>1.039350</td>\n      <td>1.873556</td>\n      <td>1107.025060</td>\n    </tr>\n    <tr>\n      <th>188664637</th>\n      <td>0.458969</td>\n      <td>10.782423</td>\n      <td>0.100319</td>\n      <td>2.669681</td>\n      <td>2.557434</td>\n      <td>94.730622</td>\n    </tr>\n    <tr>\n      <th>...</th>\n      <td>...</td>\n      <td>...</td>\n      <td>...</td>\n      <td>...</td>\n      <td>...</td>\n      <td>...</td>\n    </tr>\n    <tr>\n      <th>191833808</th>\n      <td>0.656199</td>\n      <td>12.897281</td>\n      <td>1.526435</td>\n      <td>2.695139</td>\n      <td>18.236375</td>\n      <td>320.115284</td>\n    </tr>\n    <tr>\n      <th>120363935</th>\n      <td>0.739116</td>\n      <td>3.233058</td>\n      <td>5.884583</td>\n      <td>3.885075</td>\n      <td>8.067971</td>\n      <td>144.071709</td>\n    </tr>\n    <tr>\n      <th>195878907</th>\n      <td>0.556858</td>\n      <td>14.144586</td>\n      <td>0.722631</td>\n      <td>3.464295</td>\n      <td>3.489664</td>\n      <td>837.110254</td>\n    </tr>\n    <tr>\n      <th>196192062</th>\n      <td>0.500775</td>\n      <td>5.970475</td>\n      <td>15.395812</td>\n      <td>2.026018</td>\n      <td>26.704722</td>\n      <td>159.347682</td>\n    </tr>\n    <tr>\n      <th>88917834</th>\n      <td>0.490887</td>\n      <td>26.861511</td>\n      <td>0.213001</td>\n      <td>0.981258</td>\n      <td>0.086018</td>\n      <td>331.373674</td>\n    </tr>\n  </tbody>\n</table>\n<p>40388 rows × 6 columns</p>\n</div>"
     },
     "execution_count": 10,
     "metadata": {},
     "output_type": "execute_result"
    }
   ],
   "source": [
    "targets = trimmer.transform(train_xs[tar_features])\n",
    "targets"
   ],
   "metadata": {
    "collapsed": false,
    "ExecuteTime": {
     "end_time": "2024-03-05T02:39:43.380854400Z",
     "start_time": "2024-03-05T02:39:43.351020600Z"
    }
   },
   "id": "5ff13946951d28af"
  },
  {
   "cell_type": "code",
   "execution_count": 11,
   "outputs": [
    {
     "data": {
      "text/plain": "            X4_mean   X11_mean   X18_mean  X50_mean    X26_mean   X3112_mean\nid                                                                          \n194891447  0.680353   8.897225  21.364594  3.129161   50.941272  1080.646170\n191770603  0.476163  16.691173   0.473854  0.958628    0.078599   798.094415\n196541825  0.613250  12.979986   4.563588  1.313577    3.191662  3213.977560\n194014257  0.546773  19.176414   0.121865  1.329584    0.332680   209.330816\n18647018   0.484643   8.985343   7.918931  2.050727  100.963345  2930.197690\n...             ...        ...        ...       ...         ...          ...\n28547380   0.529505  15.555081   0.498518  1.327774   12.110630  1822.060834\n149717313  0.436301  12.386403  12.460742  1.689838   45.965060  5263.455160\n196471504  0.441506  21.160422   4.785422  1.398361    4.658262  3875.831403\n33314622   0.614109  11.815616   0.275037  1.362108    0.063458   308.092495\n196480494  0.380307   5.227785   4.128917  2.750628   20.176612  1321.062651\n\n[10089 rows x 6 columns]",
      "text/html": "<div>\n<style scoped>\n    .dataframe tbody tr th:only-of-type {\n        vertical-align: middle;\n    }\n\n    .dataframe tbody tr th {\n        vertical-align: top;\n    }\n\n    .dataframe thead th {\n        text-align: right;\n    }\n</style>\n<table border=\"1\" class=\"dataframe\">\n  <thead>\n    <tr style=\"text-align: right;\">\n      <th></th>\n      <th>X4_mean</th>\n      <th>X11_mean</th>\n      <th>X18_mean</th>\n      <th>X50_mean</th>\n      <th>X26_mean</th>\n      <th>X3112_mean</th>\n    </tr>\n    <tr>\n      <th>id</th>\n      <th></th>\n      <th></th>\n      <th></th>\n      <th></th>\n      <th></th>\n      <th></th>\n    </tr>\n  </thead>\n  <tbody>\n    <tr>\n      <th>194891447</th>\n      <td>0.680353</td>\n      <td>8.897225</td>\n      <td>21.364594</td>\n      <td>3.129161</td>\n      <td>50.941272</td>\n      <td>1080.646170</td>\n    </tr>\n    <tr>\n      <th>191770603</th>\n      <td>0.476163</td>\n      <td>16.691173</td>\n      <td>0.473854</td>\n      <td>0.958628</td>\n      <td>0.078599</td>\n      <td>798.094415</td>\n    </tr>\n    <tr>\n      <th>196541825</th>\n      <td>0.613250</td>\n      <td>12.979986</td>\n      <td>4.563588</td>\n      <td>1.313577</td>\n      <td>3.191662</td>\n      <td>3213.977560</td>\n    </tr>\n    <tr>\n      <th>194014257</th>\n      <td>0.546773</td>\n      <td>19.176414</td>\n      <td>0.121865</td>\n      <td>1.329584</td>\n      <td>0.332680</td>\n      <td>209.330816</td>\n    </tr>\n    <tr>\n      <th>18647018</th>\n      <td>0.484643</td>\n      <td>8.985343</td>\n      <td>7.918931</td>\n      <td>2.050727</td>\n      <td>100.963345</td>\n      <td>2930.197690</td>\n    </tr>\n    <tr>\n      <th>...</th>\n      <td>...</td>\n      <td>...</td>\n      <td>...</td>\n      <td>...</td>\n      <td>...</td>\n      <td>...</td>\n    </tr>\n    <tr>\n      <th>28547380</th>\n      <td>0.529505</td>\n      <td>15.555081</td>\n      <td>0.498518</td>\n      <td>1.327774</td>\n      <td>12.110630</td>\n      <td>1822.060834</td>\n    </tr>\n    <tr>\n      <th>149717313</th>\n      <td>0.436301</td>\n      <td>12.386403</td>\n      <td>12.460742</td>\n      <td>1.689838</td>\n      <td>45.965060</td>\n      <td>5263.455160</td>\n    </tr>\n    <tr>\n      <th>196471504</th>\n      <td>0.441506</td>\n      <td>21.160422</td>\n      <td>4.785422</td>\n      <td>1.398361</td>\n      <td>4.658262</td>\n      <td>3875.831403</td>\n    </tr>\n    <tr>\n      <th>33314622</th>\n      <td>0.614109</td>\n      <td>11.815616</td>\n      <td>0.275037</td>\n      <td>1.362108</td>\n      <td>0.063458</td>\n      <td>308.092495</td>\n    </tr>\n    <tr>\n      <th>196480494</th>\n      <td>0.380307</td>\n      <td>5.227785</td>\n      <td>4.128917</td>\n      <td>2.750628</td>\n      <td>20.176612</td>\n      <td>1321.062651</td>\n    </tr>\n  </tbody>\n</table>\n<p>10089 rows × 6 columns</p>\n</div>"
     },
     "execution_count": 11,
     "metadata": {},
     "output_type": "execute_result"
    }
   ],
   "source": [
    "val_targets = trimmer.transform(valid_xs[tar_features])\n",
    "val_targets"
   ],
   "metadata": {
    "collapsed": false,
    "ExecuteTime": {
     "end_time": "2024-03-05T02:39:55.759562600Z",
     "start_time": "2024-03-05T02:39:55.742198300Z"
    }
   },
   "id": "175739c0d3931af1"
  },
  {
   "cell_type": "code",
   "execution_count": 12,
   "outputs": [],
   "source": [
    "scaler = MinMaxScaler()\n",
    "y_train = np.zeros_like(targets[tar_features], dtype=np.float32)\n",
    "\n",
    "for idx, (target, tar_sd) in enumerate(zip(tar_features, tar_sd_features)):\n",
    "    v = targets[target].values\n",
    "\n",
    "    if target in tar_features:\n",
    "        v = np.log10(v)\n",
    "\n",
    "    y_train[:, idx] = v\n",
    "\n",
    "y_train = scaler.fit_transform(y_train)"
   ],
   "metadata": {
    "collapsed": false,
    "ExecuteTime": {
     "end_time": "2024-03-05T02:40:17.141998100Z",
     "start_time": "2024-03-05T02:40:17.125870Z"
    }
   },
   "id": "e708e31a7f67604"
  },
  {
   "cell_type": "code",
   "execution_count": 13,
   "outputs": [],
   "source": [
    "y_val = np.zeros_like(val_targets[tar_features], dtype=np.float32)\n",
    "\n",
    "for idx, (target, tar_sd) in enumerate(zip(tar_features, tar_sd_features)):\n",
    "    v = val_targets[target].values\n",
    "\n",
    "    if target in tar_features:\n",
    "        v = np.log10(v)\n",
    "\n",
    "    y_val[:, idx] = v\n",
    "\n",
    "y_val = scaler.transform(y_val)"
   ],
   "metadata": {
    "collapsed": false,
    "ExecuteTime": {
     "end_time": "2024-03-05T02:40:23.191466Z",
     "start_time": "2024-03-05T02:40:23.163038600Z"
    }
   },
   "id": "345b0d309a9a125c"
  },
  {
   "cell_type": "code",
   "execution_count": 14,
   "outputs": [],
   "source": [
    "y_train = pd.DataFrame(y_train, columns=tar_features).set_index(targets.index)\n",
    "y_val = pd.DataFrame(y_val, columns=tar_features).set_index(val_targets.index)"
   ],
   "metadata": {
    "collapsed": false,
    "ExecuteTime": {
     "end_time": "2024-03-05T02:40:24.847142300Z",
     "start_time": "2024-03-05T02:40:24.834078700Z"
    }
   },
   "id": "10b51354e278f04f"
  },
  {
   "cell_type": "code",
   "execution_count": 15,
   "outputs": [
    {
     "data": {
      "text/plain": "              count      mean       std  min       25%       50%       75%  \\\nX4_mean     40388.0  0.564710  0.197946  0.0  0.422461  0.571524  0.716910   \nX11_mean    40388.0  0.544537  0.177004  0.0  0.452947  0.570665  0.659388   \nX18_mean    40388.0  0.485226  0.232014  0.0  0.310841  0.433217  0.671404   \nX50_mean    40388.0  0.506821  0.167966  0.0  0.399613  0.499479  0.614910   \nX26_mean    40388.0  0.472991  0.196600  0.0  0.340808  0.462115  0.606895   \nX3112_mean  40388.0  0.539117  0.189768  0.0  0.412666  0.541558  0.678570   \n\n            max  \nX4_mean     1.0  \nX11_mean    1.0  \nX18_mean    1.0  \nX50_mean    1.0  \nX26_mean    1.0  \nX3112_mean  1.0  ",
      "text/html": "<div>\n<style scoped>\n    .dataframe tbody tr th:only-of-type {\n        vertical-align: middle;\n    }\n\n    .dataframe tbody tr th {\n        vertical-align: top;\n    }\n\n    .dataframe thead th {\n        text-align: right;\n    }\n</style>\n<table border=\"1\" class=\"dataframe\">\n  <thead>\n    <tr style=\"text-align: right;\">\n      <th></th>\n      <th>count</th>\n      <th>mean</th>\n      <th>std</th>\n      <th>min</th>\n      <th>25%</th>\n      <th>50%</th>\n      <th>75%</th>\n      <th>max</th>\n    </tr>\n  </thead>\n  <tbody>\n    <tr>\n      <th>X4_mean</th>\n      <td>40388.0</td>\n      <td>0.564710</td>\n      <td>0.197946</td>\n      <td>0.0</td>\n      <td>0.422461</td>\n      <td>0.571524</td>\n      <td>0.716910</td>\n      <td>1.0</td>\n    </tr>\n    <tr>\n      <th>X11_mean</th>\n      <td>40388.0</td>\n      <td>0.544537</td>\n      <td>0.177004</td>\n      <td>0.0</td>\n      <td>0.452947</td>\n      <td>0.570665</td>\n      <td>0.659388</td>\n      <td>1.0</td>\n    </tr>\n    <tr>\n      <th>X18_mean</th>\n      <td>40388.0</td>\n      <td>0.485226</td>\n      <td>0.232014</td>\n      <td>0.0</td>\n      <td>0.310841</td>\n      <td>0.433217</td>\n      <td>0.671404</td>\n      <td>1.0</td>\n    </tr>\n    <tr>\n      <th>X50_mean</th>\n      <td>40388.0</td>\n      <td>0.506821</td>\n      <td>0.167966</td>\n      <td>0.0</td>\n      <td>0.399613</td>\n      <td>0.499479</td>\n      <td>0.614910</td>\n      <td>1.0</td>\n    </tr>\n    <tr>\n      <th>X26_mean</th>\n      <td>40388.0</td>\n      <td>0.472991</td>\n      <td>0.196600</td>\n      <td>0.0</td>\n      <td>0.340808</td>\n      <td>0.462115</td>\n      <td>0.606895</td>\n      <td>1.0</td>\n    </tr>\n    <tr>\n      <th>X3112_mean</th>\n      <td>40388.0</td>\n      <td>0.539117</td>\n      <td>0.189768</td>\n      <td>0.0</td>\n      <td>0.412666</td>\n      <td>0.541558</td>\n      <td>0.678570</td>\n      <td>1.0</td>\n    </tr>\n  </tbody>\n</table>\n</div>"
     },
     "execution_count": 15,
     "metadata": {},
     "output_type": "execute_result"
    }
   ],
   "source": [
    "y_train.describe().T"
   ],
   "metadata": {
    "collapsed": false,
    "ExecuteTime": {
     "end_time": "2024-03-05T02:40:27.141290600Z",
     "start_time": "2024-03-05T02:40:27.121443300Z"
    }
   },
   "id": "a5a14b99d0d043a4"
  },
  {
   "cell_type": "code",
   "execution_count": 16,
   "outputs": [
    {
     "data": {
      "text/plain": "              count      mean       std       min       25%       50%  \\\nX4_mean     10089.0  0.564453  0.199627  0.004619  0.422203  0.574591   \nX11_mean    10089.0  0.545319  0.176271  0.001127  0.454027  0.569394   \nX18_mean    10089.0  0.481044  0.232343  0.000179  0.304625  0.428856   \nX50_mean    10089.0  0.509069  0.170860  0.001012  0.402606  0.502125   \nX26_mean    10089.0  0.469911  0.197601  0.000361  0.336701  0.460686   \nX3112_mean  10089.0  0.537091  0.192288  0.000256  0.409339  0.539785   \n\n                 75%       max  \nX4_mean     0.716910  0.996655  \nX11_mean    0.659051  1.000000  \nX18_mean    0.663703  1.000000  \nX50_mean    0.616215  0.999341  \nX26_mean    0.606628  0.998885  \nX3112_mean  0.679687  0.999821  ",
      "text/html": "<div>\n<style scoped>\n    .dataframe tbody tr th:only-of-type {\n        vertical-align: middle;\n    }\n\n    .dataframe tbody tr th {\n        vertical-align: top;\n    }\n\n    .dataframe thead th {\n        text-align: right;\n    }\n</style>\n<table border=\"1\" class=\"dataframe\">\n  <thead>\n    <tr style=\"text-align: right;\">\n      <th></th>\n      <th>count</th>\n      <th>mean</th>\n      <th>std</th>\n      <th>min</th>\n      <th>25%</th>\n      <th>50%</th>\n      <th>75%</th>\n      <th>max</th>\n    </tr>\n  </thead>\n  <tbody>\n    <tr>\n      <th>X4_mean</th>\n      <td>10089.0</td>\n      <td>0.564453</td>\n      <td>0.199627</td>\n      <td>0.004619</td>\n      <td>0.422203</td>\n      <td>0.574591</td>\n      <td>0.716910</td>\n      <td>0.996655</td>\n    </tr>\n    <tr>\n      <th>X11_mean</th>\n      <td>10089.0</td>\n      <td>0.545319</td>\n      <td>0.176271</td>\n      <td>0.001127</td>\n      <td>0.454027</td>\n      <td>0.569394</td>\n      <td>0.659051</td>\n      <td>1.000000</td>\n    </tr>\n    <tr>\n      <th>X18_mean</th>\n      <td>10089.0</td>\n      <td>0.481044</td>\n      <td>0.232343</td>\n      <td>0.000179</td>\n      <td>0.304625</td>\n      <td>0.428856</td>\n      <td>0.663703</td>\n      <td>1.000000</td>\n    </tr>\n    <tr>\n      <th>X50_mean</th>\n      <td>10089.0</td>\n      <td>0.509069</td>\n      <td>0.170860</td>\n      <td>0.001012</td>\n      <td>0.402606</td>\n      <td>0.502125</td>\n      <td>0.616215</td>\n      <td>0.999341</td>\n    </tr>\n    <tr>\n      <th>X26_mean</th>\n      <td>10089.0</td>\n      <td>0.469911</td>\n      <td>0.197601</td>\n      <td>0.000361</td>\n      <td>0.336701</td>\n      <td>0.460686</td>\n      <td>0.606628</td>\n      <td>0.998885</td>\n    </tr>\n    <tr>\n      <th>X3112_mean</th>\n      <td>10089.0</td>\n      <td>0.537091</td>\n      <td>0.192288</td>\n      <td>0.000256</td>\n      <td>0.409339</td>\n      <td>0.539785</td>\n      <td>0.679687</td>\n      <td>0.999821</td>\n    </tr>\n  </tbody>\n</table>\n</div>"
     },
     "execution_count": 16,
     "metadata": {},
     "output_type": "execute_result"
    }
   ],
   "source": [
    "y_val.describe().T"
   ],
   "metadata": {
    "collapsed": false,
    "ExecuteTime": {
     "end_time": "2024-03-05T02:40:36.133949600Z",
     "start_time": "2024-03-05T02:40:36.106930100Z"
    }
   },
   "id": "841f5666870c40de"
  },
  {
   "cell_type": "code",
   "execution_count": 17,
   "outputs": [
    {
     "data": {
      "text/plain": "['./data/processed/scaler.joblib']"
     },
     "execution_count": 17,
     "metadata": {},
     "output_type": "execute_result"
    }
   ],
   "source": [
    "y_train.to_csv('./data/processed/train.csv')\n",
    "y_val.to_csv('./data/processed/valid.csv')\n",
    "dump(scaler, './data/processed/scaler.joblib')"
   ],
   "metadata": {
    "collapsed": false,
    "ExecuteTime": {
     "end_time": "2024-03-05T02:41:15.538896Z",
     "start_time": "2024-03-05T02:41:15.311417700Z"
    }
   },
   "id": "9bb4d62e5fbfc784"
  },
  {
   "cell_type": "code",
   "execution_count": 4,
   "outputs": [],
   "source": [
    "test = pd.read_csv('./data/test.csv')\n",
    "test['file_path'] = test['id'].apply(lambda s: f'./data/test_images/{s}.jpeg')\n",
    "test['jpeg_bytes'] = test['file_path'].apply(lambda fp: open(fp, 'rb').read())\n",
    "test.to_pickle('./data/test.pkl')"
   ],
   "metadata": {
    "collapsed": false,
    "ExecuteTime": {
     "end_time": "2024-02-25T04:09:13.382203800Z",
     "start_time": "2024-02-25T04:06:23.751700600Z"
    }
   },
   "id": "51d4271b87957ca2"
  },
  {
   "cell_type": "code",
   "execution_count": 7,
   "outputs": [],
   "source": [
    "train_scaler = MinMaxScaler()\n",
    "x_train = np.zeros_like(train[x_feature], dtype=np.float32)\n",
    "\n",
    "for idx, target in enumerate(x_feature):\n",
    "    v = train[target].values\n",
    "\n",
    "    # if target in log_x_features:\n",
    "    #     v = np.log10(v)\n",
    "\n",
    "    x_train[:, idx] = v\n",
    "\n",
    "x_train = train_scaler.fit_transform(x_train)"
   ],
   "metadata": {
    "collapsed": false,
    "ExecuteTime": {
     "end_time": "2024-03-01T15:49:56.376907700Z",
     "start_time": "2024-03-01T15:49:56.178517400Z"
    }
   },
   "id": "75cb0bc5a4cb463f"
  },
  {
   "cell_type": "code",
   "execution_count": 10,
   "outputs": [],
   "source": [
    "x_train = pd.DataFrame(x_train, columns=x_feature).set_index(train.index)"
   ],
   "metadata": {
    "collapsed": false,
    "ExecuteTime": {
     "end_time": "2024-03-01T15:53:32.824019400Z",
     "start_time": "2024-03-01T15:53:32.787136500Z"
    }
   },
   "id": "b87f604ee3c81652"
  },
  {
   "cell_type": "code",
   "execution_count": 11,
   "outputs": [
    {
     "data": {
      "text/plain": "           WORLDCLIM_BIO1_annual_mean_temperature  \\\nid                                                  \n192027691                               -0.308725   \n195542235                                0.355134   \n196639184                               -0.042541   \n195728812                                0.541083   \n195251545                               -1.833272   \n...                                           ...   \n190558785                                0.645423   \n194523231                               -0.112469   \n195888987                                0.021632   \n135487319                                0.200102   \n146608105                                1.316263   \n\n           WORLDCLIM_BIO12_annual_precipitation  \\\nid                                                \n192027691                             -0.889802   \n195542235                             -1.259414   \n196639184                             -0.203696   \n195728812                              0.539962   \n195251545                             -0.687428   \n...                                         ...   \n190558785                             -1.058427   \n194523231                              0.508838   \n195888987                             -0.620095   \n135487319                              0.158816   \n146608105                              0.897477   \n\n           WORLDCLIM_BIO13.BIO14_delta_precipitation_of_wettest_and_dryest_month  \\\nid                                                                                 \n192027691                                          -0.554512                       \n195542235                                          -0.936992                       \n196639184                                          -0.648946                       \n195728812                                           0.182802                       \n195251545                                          -0.640040                       \n...                                                      ...                       \n190558785                                          -0.726033                       \n194523231                                           0.176645                       \n195888987                                          -0.212108                       \n135487319                                          -0.425108                       \n146608105                                           0.987163                       \n\n           WORLDCLIM_BIO15_precipitation_seasonality  \\\nid                                                     \n192027691                                   0.490021   \n195542235                                  -0.583946   \n196639184                                  -1.225982   \n195728812                                  -0.369732   \n195251545                                  -0.583637   \n...                                              ...   \n190558785                                   0.326497   \n194523231                                  -0.428751   \n195888987                                   1.026921   \n135487319                                  -1.067075   \n146608105                                  -0.169237   \n\n           WORLDCLIM_BIO4_temperature_seasonality  \\\nid                                                  \n192027691                                0.805016   \n195542235                                1.075379   \n196639184                               -0.412910   \n195728812                               -0.434778   \n195251545                                2.541932   \n...                                           ...   \n190558785                               -0.145290   \n194523231                                0.423243   \n195888987                               -0.036127   \n135487319                               -0.557545   \n146608105                               -1.407237   \n\n           WORLDCLIM_BIO7_temperature_annual_range  \\\nid                                                   \n192027691                                 0.879735   \n195542235                                 1.615380   \n196639184                                -0.264452   \n195728812                                -0.523488   \n195251545                                 2.258165   \n...                                            ...   \n190558785                                 0.276630   \n194523231                                 0.160330   \n195888987                                 0.180030   \n135487319                                -0.861202   \n146608105                                -1.292425   \n\n           SOIL_bdod_0.5cm_mean_0.01_deg  SOIL_bdod_100.200cm_mean_0.01_deg  \\\nid                                                                            \n192027691                       0.460272                           0.579818   \n195542235                       0.403478                           0.248144   \n196639184                      -0.562008                          -0.481537   \n195728812                       0.176305                          -0.614206   \n195251545                      -1.470702                           0.380814   \n...                                  ...                                ...   \n190558785                       0.062718                          -0.017194   \n194523231                       0.460272                           0.248144   \n195888987                       0.062718                           0.977825   \n135487319                      -0.448422                          -0.680541   \n146608105                       0.403478                          -0.348867   \n\n           SOIL_bdod_15.30cm_mean_0.01_deg  SOIL_bdod_30.60cm_mean_0.01_deg  \\\nid                                                                            \n192027691                         0.487341                         0.633997   \n195542235                         0.612104                         0.505870   \n196639184                        -0.573140                        -0.583211   \n195728812                        -0.198853                        -0.262893   \n195251545                        -0.510759                         0.185552   \n...                                    ...                              ...   \n190558785                         0.175435                         0.057425   \n194523231                         0.424960                         0.377743   \n195888987                         0.487341                         0.698061   \n135487319                        -0.697903                        -0.711338   \n146608105                         0.175435                        -0.070702   \n\n           ...  VOD_X_1997_2018_multiyear_mean_m03  \\\nid         ...                                       \n192027691  ...                            0.638743   \n195542235  ...                           -0.768723   \n196639184  ...                            0.488973   \n195728812  ...                           -0.321266   \n195251545  ...                           -0.128926   \n...        ...                                 ...   \n190558785  ...                           -0.721367   \n194523231  ...                           -0.646642   \n195888987  ...                           -1.581710   \n135487319  ...                           -0.203950   \n146608105  ...                            2.231636   \n\n           VOD_X_1997_2018_multiyear_mean_m04  \\\nid                                              \n192027691                            0.927605   \n195542235                           -0.881663   \n196639184                            0.413616   \n195728812                           -0.438934   \n195251545                            0.260018   \n...                                       ...   \n190558785                           -0.690451   \n194523231                           -0.603014   \n195888987                           -1.633348   \n135487319                           -0.314379   \n146608105                            2.065781   \n\n           VOD_X_1997_2018_multiyear_mean_m05  \\\nid                                              \n192027691                            1.040217   \n195542235                           -0.942067   \n196639184                            0.405373   \n195728812                           -0.559986   \n195251545                            0.553307   \n...                                       ...   \n190558785                           -0.596856   \n194523231                           -0.496135   \n195888987                           -1.668236   \n135487319                           -0.454435   \n146608105                            1.962891   \n\n           VOD_X_1997_2018_multiyear_mean_m06  \\\nid                                              \n192027691                            0.817117   \n195542235                           -1.069347   \n196639184                            0.406568   \n195728812                           -0.635205   \n195251545                            1.199778   \n...                                       ...   \n190558785                           -0.525751   \n194523231                           -0.497384   \n195888987                           -1.719123   \n135487319                           -0.532779   \n146608105                            1.906430   \n\n           VOD_X_1997_2018_multiyear_mean_m07  \\\nid                                              \n192027691                            0.347126   \n195542235                           -1.022200   \n196639184                            0.344944   \n195728812                           -0.534976   \n195251545                            1.516921   \n...                                       ...   \n190558785                           -0.424501   \n194523231                           -0.377590   \n195888987                           -1.754660   \n135487319                           -0.507220   \n146608105                            1.880527   \n\n           VOD_X_1997_2018_multiyear_mean_m08  \\\nid                                              \n192027691                            0.213268   \n195542235                           -1.020704   \n196639184                            0.294744   \n195728812                           -0.460638   \n195251545                            1.560907   \n...                                       ...   \n190558785                           -0.321623   \n194523231                           -0.402016   \n195888987                           -1.738011   \n135487319                           -0.423425   \n146608105                            1.916522   \n\n           VOD_X_1997_2018_multiyear_mean_m09  \\\nid                                              \n192027691                            0.384477   \n195542235                           -0.940234   \n196639184                            0.386658   \n195728812                           -0.527141   \n195251545                            1.258588   \n...                                       ...   \n190558785                           -0.282681   \n194523231                           -0.473746   \n195888987                           -1.750808   \n135487319                           -0.390915   \n146608105                            2.004496   \n\n           VOD_X_1997_2018_multiyear_mean_m10  \\\nid                                              \n192027691                            0.644727   \n195542235                           -0.787698   \n196639184                            0.516051   \n195728812                           -0.260902   \n195251545                            0.767458   \n...                                       ...   \n190558785                           -0.401587   \n194523231                           -0.457392   \n195888987                           -1.761985   \n135487319                           -0.284126   \n146608105                            2.104151   \n\n           VOD_X_1997_2018_multiyear_mean_m11  \\\nid                                              \n192027691                            0.544614   \n195542235                           -0.648572   \n196639184                            0.623689   \n195728812                           -0.219068   \n195251545                            0.616531   \n...                                       ...   \n190558785                           -0.571184   \n194523231                           -0.553931   \n195888987                           -1.816742   \n135487319                           -0.262354   \n146608105                            2.275391   \n\n           VOD_X_1997_2018_multiyear_mean_m12  \nid                                             \n192027691                            0.236286  \n195542235                           -0.492379  \n196639184                            0.651859  \n195728812                           -0.193552  \n195251545                            0.594171  \n...                                       ...  \n190558785                           -0.637861  \n194523231                           -0.624018  \n195888987                           -1.792120  \n135487319                           -0.252165  \n146608105                            2.350560  \n\n[55489 rows x 163 columns]",
      "text/html": "<div>\n<style scoped>\n    .dataframe tbody tr th:only-of-type {\n        vertical-align: middle;\n    }\n\n    .dataframe tbody tr th {\n        vertical-align: top;\n    }\n\n    .dataframe thead th {\n        text-align: right;\n    }\n</style>\n<table border=\"1\" class=\"dataframe\">\n  <thead>\n    <tr style=\"text-align: right;\">\n      <th></th>\n      <th>WORLDCLIM_BIO1_annual_mean_temperature</th>\n      <th>WORLDCLIM_BIO12_annual_precipitation</th>\n      <th>WORLDCLIM_BIO13.BIO14_delta_precipitation_of_wettest_and_dryest_month</th>\n      <th>WORLDCLIM_BIO15_precipitation_seasonality</th>\n      <th>WORLDCLIM_BIO4_temperature_seasonality</th>\n      <th>WORLDCLIM_BIO7_temperature_annual_range</th>\n      <th>SOIL_bdod_0.5cm_mean_0.01_deg</th>\n      <th>SOIL_bdod_100.200cm_mean_0.01_deg</th>\n      <th>SOIL_bdod_15.30cm_mean_0.01_deg</th>\n      <th>SOIL_bdod_30.60cm_mean_0.01_deg</th>\n      <th>...</th>\n      <th>VOD_X_1997_2018_multiyear_mean_m03</th>\n      <th>VOD_X_1997_2018_multiyear_mean_m04</th>\n      <th>VOD_X_1997_2018_multiyear_mean_m05</th>\n      <th>VOD_X_1997_2018_multiyear_mean_m06</th>\n      <th>VOD_X_1997_2018_multiyear_mean_m07</th>\n      <th>VOD_X_1997_2018_multiyear_mean_m08</th>\n      <th>VOD_X_1997_2018_multiyear_mean_m09</th>\n      <th>VOD_X_1997_2018_multiyear_mean_m10</th>\n      <th>VOD_X_1997_2018_multiyear_mean_m11</th>\n      <th>VOD_X_1997_2018_multiyear_mean_m12</th>\n    </tr>\n    <tr>\n      <th>id</th>\n      <th></th>\n      <th></th>\n      <th></th>\n      <th></th>\n      <th></th>\n      <th></th>\n      <th></th>\n      <th></th>\n      <th></th>\n      <th></th>\n      <th></th>\n      <th></th>\n      <th></th>\n      <th></th>\n      <th></th>\n      <th></th>\n      <th></th>\n      <th></th>\n      <th></th>\n      <th></th>\n      <th></th>\n    </tr>\n  </thead>\n  <tbody>\n    <tr>\n      <th>192027691</th>\n      <td>-0.308725</td>\n      <td>-0.889802</td>\n      <td>-0.554512</td>\n      <td>0.490021</td>\n      <td>0.805016</td>\n      <td>0.879735</td>\n      <td>0.460272</td>\n      <td>0.579818</td>\n      <td>0.487341</td>\n      <td>0.633997</td>\n      <td>...</td>\n      <td>0.638743</td>\n      <td>0.927605</td>\n      <td>1.040217</td>\n      <td>0.817117</td>\n      <td>0.347126</td>\n      <td>0.213268</td>\n      <td>0.384477</td>\n      <td>0.644727</td>\n      <td>0.544614</td>\n      <td>0.236286</td>\n    </tr>\n    <tr>\n      <th>195542235</th>\n      <td>0.355134</td>\n      <td>-1.259414</td>\n      <td>-0.936992</td>\n      <td>-0.583946</td>\n      <td>1.075379</td>\n      <td>1.615380</td>\n      <td>0.403478</td>\n      <td>0.248144</td>\n      <td>0.612104</td>\n      <td>0.505870</td>\n      <td>...</td>\n      <td>-0.768723</td>\n      <td>-0.881663</td>\n      <td>-0.942067</td>\n      <td>-1.069347</td>\n      <td>-1.022200</td>\n      <td>-1.020704</td>\n      <td>-0.940234</td>\n      <td>-0.787698</td>\n      <td>-0.648572</td>\n      <td>-0.492379</td>\n    </tr>\n    <tr>\n      <th>196639184</th>\n      <td>-0.042541</td>\n      <td>-0.203696</td>\n      <td>-0.648946</td>\n      <td>-1.225982</td>\n      <td>-0.412910</td>\n      <td>-0.264452</td>\n      <td>-0.562008</td>\n      <td>-0.481537</td>\n      <td>-0.573140</td>\n      <td>-0.583211</td>\n      <td>...</td>\n      <td>0.488973</td>\n      <td>0.413616</td>\n      <td>0.405373</td>\n      <td>0.406568</td>\n      <td>0.344944</td>\n      <td>0.294744</td>\n      <td>0.386658</td>\n      <td>0.516051</td>\n      <td>0.623689</td>\n      <td>0.651859</td>\n    </tr>\n    <tr>\n      <th>195728812</th>\n      <td>0.541083</td>\n      <td>0.539962</td>\n      <td>0.182802</td>\n      <td>-0.369732</td>\n      <td>-0.434778</td>\n      <td>-0.523488</td>\n      <td>0.176305</td>\n      <td>-0.614206</td>\n      <td>-0.198853</td>\n      <td>-0.262893</td>\n      <td>...</td>\n      <td>-0.321266</td>\n      <td>-0.438934</td>\n      <td>-0.559986</td>\n      <td>-0.635205</td>\n      <td>-0.534976</td>\n      <td>-0.460638</td>\n      <td>-0.527141</td>\n      <td>-0.260902</td>\n      <td>-0.219068</td>\n      <td>-0.193552</td>\n    </tr>\n    <tr>\n      <th>195251545</th>\n      <td>-1.833272</td>\n      <td>-0.687428</td>\n      <td>-0.640040</td>\n      <td>-0.583637</td>\n      <td>2.541932</td>\n      <td>2.258165</td>\n      <td>-1.470702</td>\n      <td>0.380814</td>\n      <td>-0.510759</td>\n      <td>0.185552</td>\n      <td>...</td>\n      <td>-0.128926</td>\n      <td>0.260018</td>\n      <td>0.553307</td>\n      <td>1.199778</td>\n      <td>1.516921</td>\n      <td>1.560907</td>\n      <td>1.258588</td>\n      <td>0.767458</td>\n      <td>0.616531</td>\n      <td>0.594171</td>\n    </tr>\n    <tr>\n      <th>...</th>\n      <td>...</td>\n      <td>...</td>\n      <td>...</td>\n      <td>...</td>\n      <td>...</td>\n      <td>...</td>\n      <td>...</td>\n      <td>...</td>\n      <td>...</td>\n      <td>...</td>\n      <td>...</td>\n      <td>...</td>\n      <td>...</td>\n      <td>...</td>\n      <td>...</td>\n      <td>...</td>\n      <td>...</td>\n      <td>...</td>\n      <td>...</td>\n      <td>...</td>\n      <td>...</td>\n    </tr>\n    <tr>\n      <th>190558785</th>\n      <td>0.645423</td>\n      <td>-1.058427</td>\n      <td>-0.726033</td>\n      <td>0.326497</td>\n      <td>-0.145290</td>\n      <td>0.276630</td>\n      <td>0.062718</td>\n      <td>-0.017194</td>\n      <td>0.175435</td>\n      <td>0.057425</td>\n      <td>...</td>\n      <td>-0.721367</td>\n      <td>-0.690451</td>\n      <td>-0.596856</td>\n      <td>-0.525751</td>\n      <td>-0.424501</td>\n      <td>-0.321623</td>\n      <td>-0.282681</td>\n      <td>-0.401587</td>\n      <td>-0.571184</td>\n      <td>-0.637861</td>\n    </tr>\n    <tr>\n      <th>194523231</th>\n      <td>-0.112469</td>\n      <td>0.508838</td>\n      <td>0.176645</td>\n      <td>-0.428751</td>\n      <td>0.423243</td>\n      <td>0.160330</td>\n      <td>0.460272</td>\n      <td>0.248144</td>\n      <td>0.424960</td>\n      <td>0.377743</td>\n      <td>...</td>\n      <td>-0.646642</td>\n      <td>-0.603014</td>\n      <td>-0.496135</td>\n      <td>-0.497384</td>\n      <td>-0.377590</td>\n      <td>-0.402016</td>\n      <td>-0.473746</td>\n      <td>-0.457392</td>\n      <td>-0.553931</td>\n      <td>-0.624018</td>\n    </tr>\n    <tr>\n      <th>195888987</th>\n      <td>0.021632</td>\n      <td>-0.620095</td>\n      <td>-0.212108</td>\n      <td>1.026921</td>\n      <td>-0.036127</td>\n      <td>0.180030</td>\n      <td>0.062718</td>\n      <td>0.977825</td>\n      <td>0.487341</td>\n      <td>0.698061</td>\n      <td>...</td>\n      <td>-1.581710</td>\n      <td>-1.633348</td>\n      <td>-1.668236</td>\n      <td>-1.719123</td>\n      <td>-1.754660</td>\n      <td>-1.738011</td>\n      <td>-1.750808</td>\n      <td>-1.761985</td>\n      <td>-1.816742</td>\n      <td>-1.792120</td>\n    </tr>\n    <tr>\n      <th>135487319</th>\n      <td>0.200102</td>\n      <td>0.158816</td>\n      <td>-0.425108</td>\n      <td>-1.067075</td>\n      <td>-0.557545</td>\n      <td>-0.861202</td>\n      <td>-0.448422</td>\n      <td>-0.680541</td>\n      <td>-0.697903</td>\n      <td>-0.711338</td>\n      <td>...</td>\n      <td>-0.203950</td>\n      <td>-0.314379</td>\n      <td>-0.454435</td>\n      <td>-0.532779</td>\n      <td>-0.507220</td>\n      <td>-0.423425</td>\n      <td>-0.390915</td>\n      <td>-0.284126</td>\n      <td>-0.262354</td>\n      <td>-0.252165</td>\n    </tr>\n    <tr>\n      <th>146608105</th>\n      <td>1.316263</td>\n      <td>0.897477</td>\n      <td>0.987163</td>\n      <td>-0.169237</td>\n      <td>-1.407237</td>\n      <td>-1.292425</td>\n      <td>0.403478</td>\n      <td>-0.348867</td>\n      <td>0.175435</td>\n      <td>-0.070702</td>\n      <td>...</td>\n      <td>2.231636</td>\n      <td>2.065781</td>\n      <td>1.962891</td>\n      <td>1.906430</td>\n      <td>1.880527</td>\n      <td>1.916522</td>\n      <td>2.004496</td>\n      <td>2.104151</td>\n      <td>2.275391</td>\n      <td>2.350560</td>\n    </tr>\n  </tbody>\n</table>\n<p>55489 rows × 163 columns</p>\n</div>"
     },
     "execution_count": 11,
     "metadata": {},
     "output_type": "execute_result"
    }
   ],
   "source": [
    "x_train"
   ],
   "metadata": {
    "collapsed": false,
    "ExecuteTime": {
     "end_time": "2024-03-01T15:53:40.497353800Z",
     "start_time": "2024-03-01T15:53:40.475283Z"
    }
   },
   "id": "10c57915076b110c"
  },
  {
   "cell_type": "code",
   "execution_count": 12,
   "outputs": [
    {
     "data": {
      "text/plain": "['./data/processed/scaler_x.joblib']"
     },
     "execution_count": 12,
     "metadata": {},
     "output_type": "execute_result"
    }
   ],
   "source": [
    "x_train.to_csv('./data/processed/train_x.csv')\n",
    "dump(train_scaler, './data/processed/scaler_x.joblib')"
   ],
   "metadata": {
    "collapsed": false,
    "ExecuteTime": {
     "end_time": "2024-03-01T15:54:07.423491Z",
     "start_time": "2024-03-01T15:54:01.653198100Z"
    }
   },
   "id": "74abcc67d1d3cf81"
  }
 ],
 "metadata": {
  "kernelspec": {
   "display_name": "Python 3",
   "language": "python",
   "name": "python3"
  },
  "language_info": {
   "codemirror_mode": {
    "name": "ipython",
    "version": 2
   },
   "file_extension": ".py",
   "mimetype": "text/x-python",
   "name": "python",
   "nbconvert_exporter": "python",
   "pygments_lexer": "ipython2",
   "version": "2.7.6"
  }
 },
 "nbformat": 4,
 "nbformat_minor": 5
}
