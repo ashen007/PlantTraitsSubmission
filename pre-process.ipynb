{
 "cells": [
  {
   "cell_type": "code",
   "execution_count": 1,
   "id": "initial_id",
   "metadata": {
    "collapsed": true,
    "ExecuteTime": {
     "end_time": "2024-03-03T12:20:48.727418400Z",
     "start_time": "2024-03-03T12:20:47.556390900Z"
    }
   },
   "outputs": [],
   "source": [
    "import numpy as np\n",
    "import pandas as pd\n",
    "from joblib import dump\n",
    "from sklearn.preprocessing import StandardScaler\n",
    "from sklearn.model_selection import train_test_split"
   ]
  },
  {
   "cell_type": "code",
   "execution_count": 2,
   "outputs": [],
   "source": [
    "seed = 48"
   ],
   "metadata": {
    "collapsed": false,
    "ExecuteTime": {
     "end_time": "2024-03-03T12:20:48.751936Z",
     "start_time": "2024-03-03T12:20:48.728424500Z"
    }
   },
   "id": "30840f23341f353b"
  },
  {
   "cell_type": "code",
   "execution_count": 3,
   "outputs": [],
   "source": [
    "tar_features = ['X4_mean', 'X11_mean', 'X18_mean', 'X50_mean', 'X26_mean', 'X3112_mean']\n",
    "tar_sd_features = ['X4_sd', 'X11_sd', 'X18_sd', 'X50_sd', 'X26_sd', 'X3112_sd']\n",
    "log_features = ['X11_mean', 'X18_mean', 'X50_mean', 'X26_mean', 'X3112_mean']"
   ],
   "metadata": {
    "collapsed": false,
    "ExecuteTime": {
     "end_time": "2024-03-03T12:20:48.751936Z",
     "start_time": "2024-03-03T12:20:48.732394100Z"
    }
   },
   "id": "b04a33924afa3729"
  },
  {
   "cell_type": "code",
   "execution_count": 4,
   "outputs": [],
   "source": [
    "train = pd.read_csv('./data/train.csv', index_col='id').fillna(0)\n",
    "train = train + 1e-5"
   ],
   "metadata": {
    "collapsed": false,
    "ExecuteTime": {
     "end_time": "2024-03-03T12:20:49.554077700Z",
     "start_time": "2024-03-03T12:20:48.740828200Z"
    }
   },
   "id": "43bd8604e725b5c4"
  },
  {
   "cell_type": "code",
   "execution_count": 5,
   "outputs": [
    {
     "data": {
      "text/plain": "['WORLDCLIM_BIO1_annual_mean_temperature',\n 'WORLDCLIM_BIO12_annual_precipitation',\n 'WORLDCLIM_BIO13.BIO14_delta_precipitation_of_wettest_and_dryest_month',\n 'WORLDCLIM_BIO15_precipitation_seasonality',\n 'WORLDCLIM_BIO4_temperature_seasonality',\n 'WORLDCLIM_BIO7_temperature_annual_range',\n 'SOIL_bdod_0.5cm_mean_0.01_deg',\n 'SOIL_bdod_100.200cm_mean_0.01_deg',\n 'SOIL_bdod_15.30cm_mean_0.01_deg',\n 'SOIL_bdod_30.60cm_mean_0.01_deg',\n 'SOIL_bdod_5.15cm_mean_0.01_deg',\n 'SOIL_bdod_60.100cm_mean_0.01_deg',\n 'SOIL_cec_0.5cm_mean_0.01_deg',\n 'SOIL_cec_100.200cm_mean_0.01_deg',\n 'SOIL_cec_15.30cm_mean_0.01_deg',\n 'SOIL_cec_30.60cm_mean_0.01_deg',\n 'SOIL_cec_5.15cm_mean_0.01_deg',\n 'SOIL_cec_60.100cm_mean_0.01_deg',\n 'SOIL_cfvo_0.5cm_mean_0.01_deg',\n 'SOIL_cfvo_100.200cm_mean_0.01_deg',\n 'SOIL_cfvo_15.30cm_mean_0.01_deg',\n 'SOIL_cfvo_30.60cm_mean_0.01_deg',\n 'SOIL_cfvo_5.15cm_mean_0.01_deg',\n 'SOIL_cfvo_60.100cm_mean_0.01_deg',\n 'SOIL_clay_0.5cm_mean_0.01_deg',\n 'SOIL_clay_100.200cm_mean_0.01_deg',\n 'SOIL_clay_15.30cm_mean_0.01_deg',\n 'SOIL_clay_30.60cm_mean_0.01_deg',\n 'SOIL_clay_5.15cm_mean_0.01_deg',\n 'SOIL_clay_60.100cm_mean_0.01_deg',\n 'SOIL_nitrogen_0.5cm_mean_0.01_deg',\n 'SOIL_nitrogen_100.200cm_mean_0.01_deg',\n 'SOIL_nitrogen_15.30cm_mean_0.01_deg',\n 'SOIL_nitrogen_30.60cm_mean_0.01_deg',\n 'SOIL_nitrogen_5.15cm_mean_0.01_deg',\n 'SOIL_nitrogen_60.100cm_mean_0.01_deg',\n 'SOIL_ocd_0.5cm_mean_0.01_deg',\n 'SOIL_ocd_100.200cm_mean_0.01_deg',\n 'SOIL_ocd_15.30cm_mean_0.01_deg',\n 'SOIL_ocd_30.60cm_mean_0.01_deg',\n 'SOIL_ocd_5.15cm_mean_0.01_deg',\n 'SOIL_ocd_60.100cm_mean_0.01_deg',\n 'SOIL_ocs_0.30cm_mean_0.01_deg',\n 'SOIL_phh2o_0.5cm_mean_0.01_deg',\n 'SOIL_phh2o_100.200cm_mean_0.01_deg',\n 'SOIL_phh2o_15.30cm_mean_0.01_deg',\n 'SOIL_phh2o_30.60cm_mean_0.01_deg',\n 'SOIL_phh2o_5.15cm_mean_0.01_deg',\n 'SOIL_phh2o_60.100cm_mean_0.01_deg',\n 'SOIL_sand_0.5cm_mean_0.01_deg',\n 'SOIL_sand_100.200cm_mean_0.01_deg',\n 'SOIL_sand_15.30cm_mean_0.01_deg',\n 'SOIL_sand_30.60cm_mean_0.01_deg',\n 'SOIL_sand_5.15cm_mean_0.01_deg',\n 'SOIL_sand_60.100cm_mean_0.01_deg',\n 'SOIL_silt_0.5cm_mean_0.01_deg',\n 'SOIL_silt_100.200cm_mean_0.01_deg',\n 'SOIL_silt_15.30cm_mean_0.01_deg',\n 'SOIL_silt_30.60cm_mean_0.01_deg',\n 'SOIL_silt_5.15cm_mean_0.01_deg',\n 'SOIL_silt_60.100cm_mean_0.01_deg',\n 'SOIL_soc_0.5cm_mean_0.01_deg',\n 'SOIL_soc_100.200cm_mean_0.01_deg',\n 'SOIL_soc_15.30cm_mean_0.01_deg',\n 'SOIL_soc_30.60cm_mean_0.01_deg',\n 'SOIL_soc_5.15cm_mean_0.01_deg',\n 'SOIL_soc_60.100cm_mean_0.01_deg',\n 'MODIS_2000.2020_monthly_mean_surface_reflectance_band_01_._month_m1',\n 'MODIS_2000.2020_monthly_mean_surface_reflectance_band_02_._month_m1',\n 'MODIS_2000.2020_monthly_mean_surface_reflectance_band_03_._month_m1',\n 'MODIS_2000.2020_monthly_mean_surface_reflectance_band_04_._month_m1',\n 'MODIS_2000.2020_monthly_mean_surface_reflectance_band_05_._month_m1',\n 'MODIS_2000.2020_monthly_mean_surface_reflectance_band_01_._month_m10',\n 'MODIS_2000.2020_monthly_mean_surface_reflectance_band_02_._month_m10',\n 'MODIS_2000.2020_monthly_mean_surface_reflectance_band_03_._month_m10',\n 'MODIS_2000.2020_monthly_mean_surface_reflectance_band_04_._month_m10',\n 'MODIS_2000.2020_monthly_mean_surface_reflectance_band_05_._month_m10',\n 'MODIS_2000.2020_monthly_mean_surface_reflectance_band_01_._month_m11',\n 'MODIS_2000.2020_monthly_mean_surface_reflectance_band_02_._month_m11',\n 'MODIS_2000.2020_monthly_mean_surface_reflectance_band_03_._month_m11',\n 'MODIS_2000.2020_monthly_mean_surface_reflectance_band_04_._month_m11',\n 'MODIS_2000.2020_monthly_mean_surface_reflectance_band_05_._month_m11',\n 'MODIS_2000.2020_monthly_mean_surface_reflectance_band_01_._month_m12',\n 'MODIS_2000.2020_monthly_mean_surface_reflectance_band_02_._month_m12',\n 'MODIS_2000.2020_monthly_mean_surface_reflectance_band_03_._month_m12',\n 'MODIS_2000.2020_monthly_mean_surface_reflectance_band_04_._month_m12',\n 'MODIS_2000.2020_monthly_mean_surface_reflectance_band_05_._month_m12',\n 'MODIS_2000.2020_monthly_mean_surface_reflectance_band_01_._month_m2',\n 'MODIS_2000.2020_monthly_mean_surface_reflectance_band_02_._month_m2',\n 'MODIS_2000.2020_monthly_mean_surface_reflectance_band_03_._month_m2',\n 'MODIS_2000.2020_monthly_mean_surface_reflectance_band_04_._month_m2',\n 'MODIS_2000.2020_monthly_mean_surface_reflectance_band_05_._month_m2',\n 'MODIS_2000.2020_monthly_mean_surface_reflectance_band_01_._month_m3',\n 'MODIS_2000.2020_monthly_mean_surface_reflectance_band_02_._month_m3',\n 'MODIS_2000.2020_monthly_mean_surface_reflectance_band_03_._month_m3',\n 'MODIS_2000.2020_monthly_mean_surface_reflectance_band_04_._month_m3',\n 'MODIS_2000.2020_monthly_mean_surface_reflectance_band_05_._month_m3',\n 'MODIS_2000.2020_monthly_mean_surface_reflectance_band_01_._month_m4',\n 'MODIS_2000.2020_monthly_mean_surface_reflectance_band_02_._month_m4',\n 'MODIS_2000.2020_monthly_mean_surface_reflectance_band_03_._month_m4',\n 'MODIS_2000.2020_monthly_mean_surface_reflectance_band_04_._month_m4',\n 'MODIS_2000.2020_monthly_mean_surface_reflectance_band_05_._month_m4',\n 'MODIS_2000.2020_monthly_mean_surface_reflectance_band_01_._month_m5',\n 'MODIS_2000.2020_monthly_mean_surface_reflectance_band_02_._month_m5',\n 'MODIS_2000.2020_monthly_mean_surface_reflectance_band_03_._month_m5',\n 'MODIS_2000.2020_monthly_mean_surface_reflectance_band_04_._month_m5',\n 'MODIS_2000.2020_monthly_mean_surface_reflectance_band_05_._month_m5',\n 'MODIS_2000.2020_monthly_mean_surface_reflectance_band_01_._month_m6',\n 'MODIS_2000.2020_monthly_mean_surface_reflectance_band_02_._month_m6',\n 'MODIS_2000.2020_monthly_mean_surface_reflectance_band_03_._month_m6',\n 'MODIS_2000.2020_monthly_mean_surface_reflectance_band_04_._month_m6',\n 'MODIS_2000.2020_monthly_mean_surface_reflectance_band_05_._month_m6',\n 'MODIS_2000.2020_monthly_mean_surface_reflectance_band_01_._month_m7',\n 'MODIS_2000.2020_monthly_mean_surface_reflectance_band_02_._month_m7',\n 'MODIS_2000.2020_monthly_mean_surface_reflectance_band_03_._month_m7',\n 'MODIS_2000.2020_monthly_mean_surface_reflectance_band_04_._month_m7',\n 'MODIS_2000.2020_monthly_mean_surface_reflectance_band_05_._month_m7',\n 'MODIS_2000.2020_monthly_mean_surface_reflectance_band_01_._month_m8',\n 'MODIS_2000.2020_monthly_mean_surface_reflectance_band_02_._month_m8',\n 'MODIS_2000.2020_monthly_mean_surface_reflectance_band_03_._month_m8',\n 'MODIS_2000.2020_monthly_mean_surface_reflectance_band_04_._month_m8',\n 'MODIS_2000.2020_monthly_mean_surface_reflectance_band_05_._month_m8',\n 'MODIS_2000.2020_monthly_mean_surface_reflectance_band_01_._month_m9',\n 'MODIS_2000.2020_monthly_mean_surface_reflectance_band_02_._month_m9',\n 'MODIS_2000.2020_monthly_mean_surface_reflectance_band_03_._month_m9',\n 'MODIS_2000.2020_monthly_mean_surface_reflectance_band_04_._month_m9',\n 'MODIS_2000.2020_monthly_mean_surface_reflectance_band_05_._month_m9',\n 'VOD_C_2002_2018_multiyear_mean_m01',\n 'VOD_C_2002_2018_multiyear_mean_m02',\n 'VOD_C_2002_2018_multiyear_mean_m03',\n 'VOD_C_2002_2018_multiyear_mean_m04',\n 'VOD_C_2002_2018_multiyear_mean_m05',\n 'VOD_C_2002_2018_multiyear_mean_m06',\n 'VOD_C_2002_2018_multiyear_mean_m07',\n 'VOD_C_2002_2018_multiyear_mean_m08',\n 'VOD_C_2002_2018_multiyear_mean_m09',\n 'VOD_C_2002_2018_multiyear_mean_m10',\n 'VOD_C_2002_2018_multiyear_mean_m11',\n 'VOD_C_2002_2018_multiyear_mean_m12',\n 'VOD_Ku_1987_2017_multiyear_mean_m01',\n 'VOD_Ku_1987_2017_multiyear_mean_m02',\n 'VOD_Ku_1987_2017_multiyear_mean_m03',\n 'VOD_Ku_1987_2017_multiyear_mean_m04',\n 'VOD_Ku_1987_2017_multiyear_mean_m05',\n 'VOD_Ku_1987_2017_multiyear_mean_m06',\n 'VOD_Ku_1987_2017_multiyear_mean_m07',\n 'VOD_Ku_1987_2017_multiyear_mean_m08',\n 'VOD_Ku_1987_2017_multiyear_mean_m09',\n 'VOD_Ku_1987_2017_multiyear_mean_m10',\n 'VOD_Ku_1987_2017_multiyear_mean_m11',\n 'VOD_Ku_1987_2017_multiyear_mean_m12',\n 'VOD_X_1997_2018_multiyear_mean_m01',\n 'VOD_X_1997_2018_multiyear_mean_m02',\n 'VOD_X_1997_2018_multiyear_mean_m03',\n 'VOD_X_1997_2018_multiyear_mean_m04',\n 'VOD_X_1997_2018_multiyear_mean_m05',\n 'VOD_X_1997_2018_multiyear_mean_m06',\n 'VOD_X_1997_2018_multiyear_mean_m07',\n 'VOD_X_1997_2018_multiyear_mean_m08',\n 'VOD_X_1997_2018_multiyear_mean_m09',\n 'VOD_X_1997_2018_multiyear_mean_m10',\n 'VOD_X_1997_2018_multiyear_mean_m11',\n 'VOD_X_1997_2018_multiyear_mean_m12']"
     },
     "execution_count": 5,
     "metadata": {},
     "output_type": "execute_result"
    }
   ],
   "source": [
    "x_feature = train.columns[:-12]\n",
    "list(x_feature)"
   ],
   "metadata": {
    "collapsed": false,
    "ExecuteTime": {
     "end_time": "2024-03-03T12:20:49.567608100Z",
     "start_time": "2024-03-03T12:20:49.553019200Z"
    }
   },
   "id": "cee3ea4a40b0913b"
  },
  {
   "cell_type": "code",
   "execution_count": 6,
   "outputs": [
    {
     "data": {
      "text/plain": "id\n192027691    11.758018\n195542235    15.738413\n196639184     5.291262\n195728812     9.454143\n195251545    14.376733\n               ...    \n190558785    11.572787\n194523231     6.099318\n195888987     5.522242\n135487319     7.024229\n146608105    13.167113\nLength: 55489, dtype: float64"
     },
     "execution_count": 6,
     "metadata": {},
     "output_type": "execute_result"
    }
   ],
   "source": [
    "train['X11_mean'] + train['X11_sd'] * np.random.normal(0, 0.1, len(train))"
   ],
   "metadata": {
    "collapsed": false,
    "ExecuteTime": {
     "end_time": "2024-03-03T12:20:49.584993300Z",
     "start_time": "2024-03-03T12:20:49.563308Z"
    }
   },
   "id": "9db5b0685912b672"
  },
  {
   "cell_type": "code",
   "execution_count": 7,
   "outputs": [
    {
     "name": "stdout",
     "output_type": "stream",
     "text": [
      "X4_mean X4_sd\n",
      "X11_mean X11_sd\n",
      "X18_mean X18_sd\n",
      "X50_mean X50_sd\n",
      "X26_mean X26_sd\n",
      "X3112_mean X3112_sd\n"
     ]
    }
   ],
   "source": [
    "for mean, sd in zip(tar_features, tar_sd_features):\n",
    "    print(mean, sd)\n",
    "    train[mean] = train[mean] + train[sd] * np.random.normal(0, 0.1, len(train))"
   ],
   "metadata": {
    "collapsed": false,
    "ExecuteTime": {
     "end_time": "2024-03-03T12:20:49.647198100Z",
     "start_time": "2024-03-03T12:20:49.571121700Z"
    }
   },
   "id": "dc655dbff3a479f8"
  },
  {
   "cell_type": "code",
   "execution_count": 8,
   "outputs": [
    {
     "data": {
      "text/plain": "            X4_mean   X11_mean  X18_mean  X50_mean    X26_mean   X3112_mean\nid                                                                         \n192027691  0.400514  11.720529  0.117101  1.836432    1.235367    49.798513\n195542235  0.480481  15.785940  0.389174  1.354395    0.642145   572.644888\n196639184  0.796927   5.291259  8.552917  2.343163    0.395250  1130.096742\n195728812  0.525442   9.756686  1.092030  1.142464    0.155982  1042.386318\n195251545  0.412177  14.479782  0.663163  2.242373   10.869209  2387.438721\n...             ...        ...       ...       ...         ...          ...\n190558785  0.337253  11.572787  0.233700  1.608352    1.783203   969.547842\n194523231  0.424875   6.125401  1.011073  2.427143   12.720032  1618.499115\n195888987  0.642805   5.543114  2.699266  2.725587   10.249980   597.798903\n135487319  0.774653   7.024228  4.429668  3.251749    9.372180   244.387181\n146608105  0.551735  13.172972  5.826643  1.524030  153.125062  3797.414379\n\n[55489 rows x 6 columns]",
      "text/html": "<div>\n<style scoped>\n    .dataframe tbody tr th:only-of-type {\n        vertical-align: middle;\n    }\n\n    .dataframe tbody tr th {\n        vertical-align: top;\n    }\n\n    .dataframe thead th {\n        text-align: right;\n    }\n</style>\n<table border=\"1\" class=\"dataframe\">\n  <thead>\n    <tr style=\"text-align: right;\">\n      <th></th>\n      <th>X4_mean</th>\n      <th>X11_mean</th>\n      <th>X18_mean</th>\n      <th>X50_mean</th>\n      <th>X26_mean</th>\n      <th>X3112_mean</th>\n    </tr>\n    <tr>\n      <th>id</th>\n      <th></th>\n      <th></th>\n      <th></th>\n      <th></th>\n      <th></th>\n      <th></th>\n    </tr>\n  </thead>\n  <tbody>\n    <tr>\n      <th>192027691</th>\n      <td>0.400514</td>\n      <td>11.720529</td>\n      <td>0.117101</td>\n      <td>1.836432</td>\n      <td>1.235367</td>\n      <td>49.798513</td>\n    </tr>\n    <tr>\n      <th>195542235</th>\n      <td>0.480481</td>\n      <td>15.785940</td>\n      <td>0.389174</td>\n      <td>1.354395</td>\n      <td>0.642145</td>\n      <td>572.644888</td>\n    </tr>\n    <tr>\n      <th>196639184</th>\n      <td>0.796927</td>\n      <td>5.291259</td>\n      <td>8.552917</td>\n      <td>2.343163</td>\n      <td>0.395250</td>\n      <td>1130.096742</td>\n    </tr>\n    <tr>\n      <th>195728812</th>\n      <td>0.525442</td>\n      <td>9.756686</td>\n      <td>1.092030</td>\n      <td>1.142464</td>\n      <td>0.155982</td>\n      <td>1042.386318</td>\n    </tr>\n    <tr>\n      <th>195251545</th>\n      <td>0.412177</td>\n      <td>14.479782</td>\n      <td>0.663163</td>\n      <td>2.242373</td>\n      <td>10.869209</td>\n      <td>2387.438721</td>\n    </tr>\n    <tr>\n      <th>...</th>\n      <td>...</td>\n      <td>...</td>\n      <td>...</td>\n      <td>...</td>\n      <td>...</td>\n      <td>...</td>\n    </tr>\n    <tr>\n      <th>190558785</th>\n      <td>0.337253</td>\n      <td>11.572787</td>\n      <td>0.233700</td>\n      <td>1.608352</td>\n      <td>1.783203</td>\n      <td>969.547842</td>\n    </tr>\n    <tr>\n      <th>194523231</th>\n      <td>0.424875</td>\n      <td>6.125401</td>\n      <td>1.011073</td>\n      <td>2.427143</td>\n      <td>12.720032</td>\n      <td>1618.499115</td>\n    </tr>\n    <tr>\n      <th>195888987</th>\n      <td>0.642805</td>\n      <td>5.543114</td>\n      <td>2.699266</td>\n      <td>2.725587</td>\n      <td>10.249980</td>\n      <td>597.798903</td>\n    </tr>\n    <tr>\n      <th>135487319</th>\n      <td>0.774653</td>\n      <td>7.024228</td>\n      <td>4.429668</td>\n      <td>3.251749</td>\n      <td>9.372180</td>\n      <td>244.387181</td>\n    </tr>\n    <tr>\n      <th>146608105</th>\n      <td>0.551735</td>\n      <td>13.172972</td>\n      <td>5.826643</td>\n      <td>1.524030</td>\n      <td>153.125062</td>\n      <td>3797.414379</td>\n    </tr>\n  </tbody>\n</table>\n<p>55489 rows × 6 columns</p>\n</div>"
     },
     "execution_count": 8,
     "metadata": {},
     "output_type": "execute_result"
    }
   ],
   "source": [
    "train[tar_features]"
   ],
   "metadata": {
    "collapsed": false,
    "ExecuteTime": {
     "end_time": "2024-03-03T12:20:49.664932900Z",
     "start_time": "2024-03-03T12:20:49.587815800Z"
    }
   },
   "id": "31590373417bf82a"
  },
  {
   "cell_type": "code",
   "execution_count": 9,
   "outputs": [],
   "source": [
    "scaler = StandardScaler()\n",
    "y_train = np.zeros_like(train[tar_features], dtype=np.float32)\n",
    "\n",
    "for idx, (target, tar_sd) in enumerate(zip(tar_features, tar_sd_features)):\n",
    "    v = train[target].values\n",
    "\n",
    "    if target in log_features:\n",
    "        v = np.log10(v)\n",
    "\n",
    "    y_train[:, idx] = v\n",
    "\n",
    "y_train = scaler.fit_transform(y_train)"
   ],
   "metadata": {
    "collapsed": false,
    "ExecuteTime": {
     "end_time": "2024-03-03T12:20:52.833514500Z",
     "start_time": "2024-03-03T12:20:52.816151600Z"
    }
   },
   "id": "e708e31a7f67604"
  },
  {
   "cell_type": "code",
   "execution_count": 10,
   "outputs": [
    {
     "data": {
      "text/plain": "            X4_mean  X11_mean  X18_mean  X50_mean  X26_mean  X3112_mean\nid                                                                     \n192027691 -0.698114 -0.282444 -1.306831  0.406724 -0.329006   -1.608147\n195542235 -0.240794  0.188169 -0.577574 -0.209670 -0.586455   -0.123850\n196639184  1.568900 -1.539324  1.298712  0.900045 -0.777402    0.289294\n195728812  0.016328 -0.572274  0.048927 -0.554173 -1.143240    0.240194\n195251545 -0.631413  0.051674 -0.253933  0.811034  0.526613    0.743842\n...             ...       ...       ...       ...       ...         ...\n190558785 -1.059888 -0.302492 -0.887245  0.138248 -0.184587    0.196169\n194523231 -0.558793 -1.307971  0.002156  0.971333  0.588483    0.507596\n195888987  0.687508 -1.465835  0.598419  1.206110  0.503533   -0.097724\n135487319  1.441522 -1.091579  0.899198  1.563451  0.468306   -0.641357\n146608105  0.166692 -0.097811  1.065645  0.029225  1.567458    1.025898\n\n[55489 rows x 6 columns]",
      "text/html": "<div>\n<style scoped>\n    .dataframe tbody tr th:only-of-type {\n        vertical-align: middle;\n    }\n\n    .dataframe tbody tr th {\n        vertical-align: top;\n    }\n\n    .dataframe thead th {\n        text-align: right;\n    }\n</style>\n<table border=\"1\" class=\"dataframe\">\n  <thead>\n    <tr style=\"text-align: right;\">\n      <th></th>\n      <th>X4_mean</th>\n      <th>X11_mean</th>\n      <th>X18_mean</th>\n      <th>X50_mean</th>\n      <th>X26_mean</th>\n      <th>X3112_mean</th>\n    </tr>\n    <tr>\n      <th>id</th>\n      <th></th>\n      <th></th>\n      <th></th>\n      <th></th>\n      <th></th>\n      <th></th>\n    </tr>\n  </thead>\n  <tbody>\n    <tr>\n      <th>192027691</th>\n      <td>-0.698114</td>\n      <td>-0.282444</td>\n      <td>-1.306831</td>\n      <td>0.406724</td>\n      <td>-0.329006</td>\n      <td>-1.608147</td>\n    </tr>\n    <tr>\n      <th>195542235</th>\n      <td>-0.240794</td>\n      <td>0.188169</td>\n      <td>-0.577574</td>\n      <td>-0.209670</td>\n      <td>-0.586455</td>\n      <td>-0.123850</td>\n    </tr>\n    <tr>\n      <th>196639184</th>\n      <td>1.568900</td>\n      <td>-1.539324</td>\n      <td>1.298712</td>\n      <td>0.900045</td>\n      <td>-0.777402</td>\n      <td>0.289294</td>\n    </tr>\n    <tr>\n      <th>195728812</th>\n      <td>0.016328</td>\n      <td>-0.572274</td>\n      <td>0.048927</td>\n      <td>-0.554173</td>\n      <td>-1.143240</td>\n      <td>0.240194</td>\n    </tr>\n    <tr>\n      <th>195251545</th>\n      <td>-0.631413</td>\n      <td>0.051674</td>\n      <td>-0.253933</td>\n      <td>0.811034</td>\n      <td>0.526613</td>\n      <td>0.743842</td>\n    </tr>\n    <tr>\n      <th>...</th>\n      <td>...</td>\n      <td>...</td>\n      <td>...</td>\n      <td>...</td>\n      <td>...</td>\n      <td>...</td>\n    </tr>\n    <tr>\n      <th>190558785</th>\n      <td>-1.059888</td>\n      <td>-0.302492</td>\n      <td>-0.887245</td>\n      <td>0.138248</td>\n      <td>-0.184587</td>\n      <td>0.196169</td>\n    </tr>\n    <tr>\n      <th>194523231</th>\n      <td>-0.558793</td>\n      <td>-1.307971</td>\n      <td>0.002156</td>\n      <td>0.971333</td>\n      <td>0.588483</td>\n      <td>0.507596</td>\n    </tr>\n    <tr>\n      <th>195888987</th>\n      <td>0.687508</td>\n      <td>-1.465835</td>\n      <td>0.598419</td>\n      <td>1.206110</td>\n      <td>0.503533</td>\n      <td>-0.097724</td>\n    </tr>\n    <tr>\n      <th>135487319</th>\n      <td>1.441522</td>\n      <td>-1.091579</td>\n      <td>0.899198</td>\n      <td>1.563451</td>\n      <td>0.468306</td>\n      <td>-0.641357</td>\n    </tr>\n    <tr>\n      <th>146608105</th>\n      <td>0.166692</td>\n      <td>-0.097811</td>\n      <td>1.065645</td>\n      <td>0.029225</td>\n      <td>1.567458</td>\n      <td>1.025898</td>\n    </tr>\n  </tbody>\n</table>\n<p>55489 rows × 6 columns</p>\n</div>"
     },
     "execution_count": 10,
     "metadata": {},
     "output_type": "execute_result"
    }
   ],
   "source": [
    "y_train = pd.DataFrame(y_train, columns=tar_features).set_index(train.index)\n",
    "y_train"
   ],
   "metadata": {
    "collapsed": false,
    "ExecuteTime": {
     "end_time": "2024-03-03T12:20:54.018095600Z",
     "start_time": "2024-03-03T12:20:54.006972300Z"
    }
   },
   "id": "10b51354e278f04f"
  },
  {
   "cell_type": "code",
   "execution_count": 11,
   "outputs": [
    {
     "data": {
      "text/plain": "((44391, 6), (11098, 6))"
     },
     "execution_count": 11,
     "metadata": {},
     "output_type": "execute_result"
    }
   ],
   "source": [
    "train_xs, valid_xs = train_test_split(y_train, test_size=0.2, random_state=seed)\n",
    "train_xs.shape, valid_xs.shape"
   ],
   "metadata": {
    "collapsed": false,
    "ExecuteTime": {
     "end_time": "2024-03-03T12:20:56.025633600Z",
     "start_time": "2024-03-03T12:20:56.015937300Z"
    }
   },
   "id": "7d014460835ec995"
  },
  {
   "cell_type": "code",
   "execution_count": 12,
   "outputs": [
    {
     "data": {
      "text/plain": "['./data/processed/scaler.joblib']"
     },
     "execution_count": 12,
     "metadata": {},
     "output_type": "execute_result"
    }
   ],
   "source": [
    "train_xs.to_csv('./data/processed/train.csv')\n",
    "valid_xs.to_csv('./data/processed/valid.csv')\n",
    "dump(scaler, './data/processed/scaler.joblib')"
   ],
   "metadata": {
    "collapsed": false,
    "ExecuteTime": {
     "end_time": "2024-03-03T12:20:59.295929700Z",
     "start_time": "2024-03-03T12:20:59.037686900Z"
    }
   },
   "id": "9bb4d62e5fbfc784"
  },
  {
   "cell_type": "code",
   "execution_count": 4,
   "outputs": [],
   "source": [
    "test = pd.read_csv('./data/test.csv')\n",
    "test['file_path'] = test['id'].apply(lambda s: f'./data/test_images/{s}.jpeg')\n",
    "test['jpeg_bytes'] = test['file_path'].apply(lambda fp: open(fp, 'rb').read())\n",
    "test.to_pickle('./data/test.pkl')"
   ],
   "metadata": {
    "collapsed": false,
    "ExecuteTime": {
     "end_time": "2024-02-25T04:09:13.382203800Z",
     "start_time": "2024-02-25T04:06:23.751700600Z"
    }
   },
   "id": "51d4271b87957ca2"
  },
  {
   "cell_type": "code",
   "execution_count": 7,
   "outputs": [],
   "source": [
    "train_scaler = StandardScaler()\n",
    "x_train = np.zeros_like(train[x_feature], dtype=np.float32)\n",
    "\n",
    "for idx, target in enumerate(x_feature):\n",
    "    v = train[target].values\n",
    "\n",
    "    # if target in log_x_features:\n",
    "    #     v = np.log10(v)\n",
    "\n",
    "    x_train[:, idx] = v\n",
    "\n",
    "x_train = train_scaler.fit_transform(x_train)"
   ],
   "metadata": {
    "collapsed": false,
    "ExecuteTime": {
     "end_time": "2024-03-01T15:49:56.376907700Z",
     "start_time": "2024-03-01T15:49:56.178517400Z"
    }
   },
   "id": "75cb0bc5a4cb463f"
  },
  {
   "cell_type": "code",
   "execution_count": 10,
   "outputs": [],
   "source": [
    "x_train = pd.DataFrame(x_train, columns=x_feature).set_index(train.index)"
   ],
   "metadata": {
    "collapsed": false,
    "ExecuteTime": {
     "end_time": "2024-03-01T15:53:32.824019400Z",
     "start_time": "2024-03-01T15:53:32.787136500Z"
    }
   },
   "id": "b87f604ee3c81652"
  },
  {
   "cell_type": "code",
   "execution_count": 11,
   "outputs": [
    {
     "data": {
      "text/plain": "           WORLDCLIM_BIO1_annual_mean_temperature  \\\nid                                                  \n192027691                               -0.308725   \n195542235                                0.355134   \n196639184                               -0.042541   \n195728812                                0.541083   \n195251545                               -1.833272   \n...                                           ...   \n190558785                                0.645423   \n194523231                               -0.112469   \n195888987                                0.021632   \n135487319                                0.200102   \n146608105                                1.316263   \n\n           WORLDCLIM_BIO12_annual_precipitation  \\\nid                                                \n192027691                             -0.889802   \n195542235                             -1.259414   \n196639184                             -0.203696   \n195728812                              0.539962   \n195251545                             -0.687428   \n...                                         ...   \n190558785                             -1.058427   \n194523231                              0.508838   \n195888987                             -0.620095   \n135487319                              0.158816   \n146608105                              0.897477   \n\n           WORLDCLIM_BIO13.BIO14_delta_precipitation_of_wettest_and_dryest_month  \\\nid                                                                                 \n192027691                                          -0.554512                       \n195542235                                          -0.936992                       \n196639184                                          -0.648946                       \n195728812                                           0.182802                       \n195251545                                          -0.640040                       \n...                                                      ...                       \n190558785                                          -0.726033                       \n194523231                                           0.176645                       \n195888987                                          -0.212108                       \n135487319                                          -0.425108                       \n146608105                                           0.987163                       \n\n           WORLDCLIM_BIO15_precipitation_seasonality  \\\nid                                                     \n192027691                                   0.490021   \n195542235                                  -0.583946   \n196639184                                  -1.225982   \n195728812                                  -0.369732   \n195251545                                  -0.583637   \n...                                              ...   \n190558785                                   0.326497   \n194523231                                  -0.428751   \n195888987                                   1.026921   \n135487319                                  -1.067075   \n146608105                                  -0.169237   \n\n           WORLDCLIM_BIO4_temperature_seasonality  \\\nid                                                  \n192027691                                0.805016   \n195542235                                1.075379   \n196639184                               -0.412910   \n195728812                               -0.434778   \n195251545                                2.541932   \n...                                           ...   \n190558785                               -0.145290   \n194523231                                0.423243   \n195888987                               -0.036127   \n135487319                               -0.557545   \n146608105                               -1.407237   \n\n           WORLDCLIM_BIO7_temperature_annual_range  \\\nid                                                   \n192027691                                 0.879735   \n195542235                                 1.615380   \n196639184                                -0.264452   \n195728812                                -0.523488   \n195251545                                 2.258165   \n...                                            ...   \n190558785                                 0.276630   \n194523231                                 0.160330   \n195888987                                 0.180030   \n135487319                                -0.861202   \n146608105                                -1.292425   \n\n           SOIL_bdod_0.5cm_mean_0.01_deg  SOIL_bdod_100.200cm_mean_0.01_deg  \\\nid                                                                            \n192027691                       0.460272                           0.579818   \n195542235                       0.403478                           0.248144   \n196639184                      -0.562008                          -0.481537   \n195728812                       0.176305                          -0.614206   \n195251545                      -1.470702                           0.380814   \n...                                  ...                                ...   \n190558785                       0.062718                          -0.017194   \n194523231                       0.460272                           0.248144   \n195888987                       0.062718                           0.977825   \n135487319                      -0.448422                          -0.680541   \n146608105                       0.403478                          -0.348867   \n\n           SOIL_bdod_15.30cm_mean_0.01_deg  SOIL_bdod_30.60cm_mean_0.01_deg  \\\nid                                                                            \n192027691                         0.487341                         0.633997   \n195542235                         0.612104                         0.505870   \n196639184                        -0.573140                        -0.583211   \n195728812                        -0.198853                        -0.262893   \n195251545                        -0.510759                         0.185552   \n...                                    ...                              ...   \n190558785                         0.175435                         0.057425   \n194523231                         0.424960                         0.377743   \n195888987                         0.487341                         0.698061   \n135487319                        -0.697903                        -0.711338   \n146608105                         0.175435                        -0.070702   \n\n           ...  VOD_X_1997_2018_multiyear_mean_m03  \\\nid         ...                                       \n192027691  ...                            0.638743   \n195542235  ...                           -0.768723   \n196639184  ...                            0.488973   \n195728812  ...                           -0.321266   \n195251545  ...                           -0.128926   \n...        ...                                 ...   \n190558785  ...                           -0.721367   \n194523231  ...                           -0.646642   \n195888987  ...                           -1.581710   \n135487319  ...                           -0.203950   \n146608105  ...                            2.231636   \n\n           VOD_X_1997_2018_multiyear_mean_m04  \\\nid                                              \n192027691                            0.927605   \n195542235                           -0.881663   \n196639184                            0.413616   \n195728812                           -0.438934   \n195251545                            0.260018   \n...                                       ...   \n190558785                           -0.690451   \n194523231                           -0.603014   \n195888987                           -1.633348   \n135487319                           -0.314379   \n146608105                            2.065781   \n\n           VOD_X_1997_2018_multiyear_mean_m05  \\\nid                                              \n192027691                            1.040217   \n195542235                           -0.942067   \n196639184                            0.405373   \n195728812                           -0.559986   \n195251545                            0.553307   \n...                                       ...   \n190558785                           -0.596856   \n194523231                           -0.496135   \n195888987                           -1.668236   \n135487319                           -0.454435   \n146608105                            1.962891   \n\n           VOD_X_1997_2018_multiyear_mean_m06  \\\nid                                              \n192027691                            0.817117   \n195542235                           -1.069347   \n196639184                            0.406568   \n195728812                           -0.635205   \n195251545                            1.199778   \n...                                       ...   \n190558785                           -0.525751   \n194523231                           -0.497384   \n195888987                           -1.719123   \n135487319                           -0.532779   \n146608105                            1.906430   \n\n           VOD_X_1997_2018_multiyear_mean_m07  \\\nid                                              \n192027691                            0.347126   \n195542235                           -1.022200   \n196639184                            0.344944   \n195728812                           -0.534976   \n195251545                            1.516921   \n...                                       ...   \n190558785                           -0.424501   \n194523231                           -0.377590   \n195888987                           -1.754660   \n135487319                           -0.507220   \n146608105                            1.880527   \n\n           VOD_X_1997_2018_multiyear_mean_m08  \\\nid                                              \n192027691                            0.213268   \n195542235                           -1.020704   \n196639184                            0.294744   \n195728812                           -0.460638   \n195251545                            1.560907   \n...                                       ...   \n190558785                           -0.321623   \n194523231                           -0.402016   \n195888987                           -1.738011   \n135487319                           -0.423425   \n146608105                            1.916522   \n\n           VOD_X_1997_2018_multiyear_mean_m09  \\\nid                                              \n192027691                            0.384477   \n195542235                           -0.940234   \n196639184                            0.386658   \n195728812                           -0.527141   \n195251545                            1.258588   \n...                                       ...   \n190558785                           -0.282681   \n194523231                           -0.473746   \n195888987                           -1.750808   \n135487319                           -0.390915   \n146608105                            2.004496   \n\n           VOD_X_1997_2018_multiyear_mean_m10  \\\nid                                              \n192027691                            0.644727   \n195542235                           -0.787698   \n196639184                            0.516051   \n195728812                           -0.260902   \n195251545                            0.767458   \n...                                       ...   \n190558785                           -0.401587   \n194523231                           -0.457392   \n195888987                           -1.761985   \n135487319                           -0.284126   \n146608105                            2.104151   \n\n           VOD_X_1997_2018_multiyear_mean_m11  \\\nid                                              \n192027691                            0.544614   \n195542235                           -0.648572   \n196639184                            0.623689   \n195728812                           -0.219068   \n195251545                            0.616531   \n...                                       ...   \n190558785                           -0.571184   \n194523231                           -0.553931   \n195888987                           -1.816742   \n135487319                           -0.262354   \n146608105                            2.275391   \n\n           VOD_X_1997_2018_multiyear_mean_m12  \nid                                             \n192027691                            0.236286  \n195542235                           -0.492379  \n196639184                            0.651859  \n195728812                           -0.193552  \n195251545                            0.594171  \n...                                       ...  \n190558785                           -0.637861  \n194523231                           -0.624018  \n195888987                           -1.792120  \n135487319                           -0.252165  \n146608105                            2.350560  \n\n[55489 rows x 163 columns]",
      "text/html": "<div>\n<style scoped>\n    .dataframe tbody tr th:only-of-type {\n        vertical-align: middle;\n    }\n\n    .dataframe tbody tr th {\n        vertical-align: top;\n    }\n\n    .dataframe thead th {\n        text-align: right;\n    }\n</style>\n<table border=\"1\" class=\"dataframe\">\n  <thead>\n    <tr style=\"text-align: right;\">\n      <th></th>\n      <th>WORLDCLIM_BIO1_annual_mean_temperature</th>\n      <th>WORLDCLIM_BIO12_annual_precipitation</th>\n      <th>WORLDCLIM_BIO13.BIO14_delta_precipitation_of_wettest_and_dryest_month</th>\n      <th>WORLDCLIM_BIO15_precipitation_seasonality</th>\n      <th>WORLDCLIM_BIO4_temperature_seasonality</th>\n      <th>WORLDCLIM_BIO7_temperature_annual_range</th>\n      <th>SOIL_bdod_0.5cm_mean_0.01_deg</th>\n      <th>SOIL_bdod_100.200cm_mean_0.01_deg</th>\n      <th>SOIL_bdod_15.30cm_mean_0.01_deg</th>\n      <th>SOIL_bdod_30.60cm_mean_0.01_deg</th>\n      <th>...</th>\n      <th>VOD_X_1997_2018_multiyear_mean_m03</th>\n      <th>VOD_X_1997_2018_multiyear_mean_m04</th>\n      <th>VOD_X_1997_2018_multiyear_mean_m05</th>\n      <th>VOD_X_1997_2018_multiyear_mean_m06</th>\n      <th>VOD_X_1997_2018_multiyear_mean_m07</th>\n      <th>VOD_X_1997_2018_multiyear_mean_m08</th>\n      <th>VOD_X_1997_2018_multiyear_mean_m09</th>\n      <th>VOD_X_1997_2018_multiyear_mean_m10</th>\n      <th>VOD_X_1997_2018_multiyear_mean_m11</th>\n      <th>VOD_X_1997_2018_multiyear_mean_m12</th>\n    </tr>\n    <tr>\n      <th>id</th>\n      <th></th>\n      <th></th>\n      <th></th>\n      <th></th>\n      <th></th>\n      <th></th>\n      <th></th>\n      <th></th>\n      <th></th>\n      <th></th>\n      <th></th>\n      <th></th>\n      <th></th>\n      <th></th>\n      <th></th>\n      <th></th>\n      <th></th>\n      <th></th>\n      <th></th>\n      <th></th>\n      <th></th>\n    </tr>\n  </thead>\n  <tbody>\n    <tr>\n      <th>192027691</th>\n      <td>-0.308725</td>\n      <td>-0.889802</td>\n      <td>-0.554512</td>\n      <td>0.490021</td>\n      <td>0.805016</td>\n      <td>0.879735</td>\n      <td>0.460272</td>\n      <td>0.579818</td>\n      <td>0.487341</td>\n      <td>0.633997</td>\n      <td>...</td>\n      <td>0.638743</td>\n      <td>0.927605</td>\n      <td>1.040217</td>\n      <td>0.817117</td>\n      <td>0.347126</td>\n      <td>0.213268</td>\n      <td>0.384477</td>\n      <td>0.644727</td>\n      <td>0.544614</td>\n      <td>0.236286</td>\n    </tr>\n    <tr>\n      <th>195542235</th>\n      <td>0.355134</td>\n      <td>-1.259414</td>\n      <td>-0.936992</td>\n      <td>-0.583946</td>\n      <td>1.075379</td>\n      <td>1.615380</td>\n      <td>0.403478</td>\n      <td>0.248144</td>\n      <td>0.612104</td>\n      <td>0.505870</td>\n      <td>...</td>\n      <td>-0.768723</td>\n      <td>-0.881663</td>\n      <td>-0.942067</td>\n      <td>-1.069347</td>\n      <td>-1.022200</td>\n      <td>-1.020704</td>\n      <td>-0.940234</td>\n      <td>-0.787698</td>\n      <td>-0.648572</td>\n      <td>-0.492379</td>\n    </tr>\n    <tr>\n      <th>196639184</th>\n      <td>-0.042541</td>\n      <td>-0.203696</td>\n      <td>-0.648946</td>\n      <td>-1.225982</td>\n      <td>-0.412910</td>\n      <td>-0.264452</td>\n      <td>-0.562008</td>\n      <td>-0.481537</td>\n      <td>-0.573140</td>\n      <td>-0.583211</td>\n      <td>...</td>\n      <td>0.488973</td>\n      <td>0.413616</td>\n      <td>0.405373</td>\n      <td>0.406568</td>\n      <td>0.344944</td>\n      <td>0.294744</td>\n      <td>0.386658</td>\n      <td>0.516051</td>\n      <td>0.623689</td>\n      <td>0.651859</td>\n    </tr>\n    <tr>\n      <th>195728812</th>\n      <td>0.541083</td>\n      <td>0.539962</td>\n      <td>0.182802</td>\n      <td>-0.369732</td>\n      <td>-0.434778</td>\n      <td>-0.523488</td>\n      <td>0.176305</td>\n      <td>-0.614206</td>\n      <td>-0.198853</td>\n      <td>-0.262893</td>\n      <td>...</td>\n      <td>-0.321266</td>\n      <td>-0.438934</td>\n      <td>-0.559986</td>\n      <td>-0.635205</td>\n      <td>-0.534976</td>\n      <td>-0.460638</td>\n      <td>-0.527141</td>\n      <td>-0.260902</td>\n      <td>-0.219068</td>\n      <td>-0.193552</td>\n    </tr>\n    <tr>\n      <th>195251545</th>\n      <td>-1.833272</td>\n      <td>-0.687428</td>\n      <td>-0.640040</td>\n      <td>-0.583637</td>\n      <td>2.541932</td>\n      <td>2.258165</td>\n      <td>-1.470702</td>\n      <td>0.380814</td>\n      <td>-0.510759</td>\n      <td>0.185552</td>\n      <td>...</td>\n      <td>-0.128926</td>\n      <td>0.260018</td>\n      <td>0.553307</td>\n      <td>1.199778</td>\n      <td>1.516921</td>\n      <td>1.560907</td>\n      <td>1.258588</td>\n      <td>0.767458</td>\n      <td>0.616531</td>\n      <td>0.594171</td>\n    </tr>\n    <tr>\n      <th>...</th>\n      <td>...</td>\n      <td>...</td>\n      <td>...</td>\n      <td>...</td>\n      <td>...</td>\n      <td>...</td>\n      <td>...</td>\n      <td>...</td>\n      <td>...</td>\n      <td>...</td>\n      <td>...</td>\n      <td>...</td>\n      <td>...</td>\n      <td>...</td>\n      <td>...</td>\n      <td>...</td>\n      <td>...</td>\n      <td>...</td>\n      <td>...</td>\n      <td>...</td>\n      <td>...</td>\n    </tr>\n    <tr>\n      <th>190558785</th>\n      <td>0.645423</td>\n      <td>-1.058427</td>\n      <td>-0.726033</td>\n      <td>0.326497</td>\n      <td>-0.145290</td>\n      <td>0.276630</td>\n      <td>0.062718</td>\n      <td>-0.017194</td>\n      <td>0.175435</td>\n      <td>0.057425</td>\n      <td>...</td>\n      <td>-0.721367</td>\n      <td>-0.690451</td>\n      <td>-0.596856</td>\n      <td>-0.525751</td>\n      <td>-0.424501</td>\n      <td>-0.321623</td>\n      <td>-0.282681</td>\n      <td>-0.401587</td>\n      <td>-0.571184</td>\n      <td>-0.637861</td>\n    </tr>\n    <tr>\n      <th>194523231</th>\n      <td>-0.112469</td>\n      <td>0.508838</td>\n      <td>0.176645</td>\n      <td>-0.428751</td>\n      <td>0.423243</td>\n      <td>0.160330</td>\n      <td>0.460272</td>\n      <td>0.248144</td>\n      <td>0.424960</td>\n      <td>0.377743</td>\n      <td>...</td>\n      <td>-0.646642</td>\n      <td>-0.603014</td>\n      <td>-0.496135</td>\n      <td>-0.497384</td>\n      <td>-0.377590</td>\n      <td>-0.402016</td>\n      <td>-0.473746</td>\n      <td>-0.457392</td>\n      <td>-0.553931</td>\n      <td>-0.624018</td>\n    </tr>\n    <tr>\n      <th>195888987</th>\n      <td>0.021632</td>\n      <td>-0.620095</td>\n      <td>-0.212108</td>\n      <td>1.026921</td>\n      <td>-0.036127</td>\n      <td>0.180030</td>\n      <td>0.062718</td>\n      <td>0.977825</td>\n      <td>0.487341</td>\n      <td>0.698061</td>\n      <td>...</td>\n      <td>-1.581710</td>\n      <td>-1.633348</td>\n      <td>-1.668236</td>\n      <td>-1.719123</td>\n      <td>-1.754660</td>\n      <td>-1.738011</td>\n      <td>-1.750808</td>\n      <td>-1.761985</td>\n      <td>-1.816742</td>\n      <td>-1.792120</td>\n    </tr>\n    <tr>\n      <th>135487319</th>\n      <td>0.200102</td>\n      <td>0.158816</td>\n      <td>-0.425108</td>\n      <td>-1.067075</td>\n      <td>-0.557545</td>\n      <td>-0.861202</td>\n      <td>-0.448422</td>\n      <td>-0.680541</td>\n      <td>-0.697903</td>\n      <td>-0.711338</td>\n      <td>...</td>\n      <td>-0.203950</td>\n      <td>-0.314379</td>\n      <td>-0.454435</td>\n      <td>-0.532779</td>\n      <td>-0.507220</td>\n      <td>-0.423425</td>\n      <td>-0.390915</td>\n      <td>-0.284126</td>\n      <td>-0.262354</td>\n      <td>-0.252165</td>\n    </tr>\n    <tr>\n      <th>146608105</th>\n      <td>1.316263</td>\n      <td>0.897477</td>\n      <td>0.987163</td>\n      <td>-0.169237</td>\n      <td>-1.407237</td>\n      <td>-1.292425</td>\n      <td>0.403478</td>\n      <td>-0.348867</td>\n      <td>0.175435</td>\n      <td>-0.070702</td>\n      <td>...</td>\n      <td>2.231636</td>\n      <td>2.065781</td>\n      <td>1.962891</td>\n      <td>1.906430</td>\n      <td>1.880527</td>\n      <td>1.916522</td>\n      <td>2.004496</td>\n      <td>2.104151</td>\n      <td>2.275391</td>\n      <td>2.350560</td>\n    </tr>\n  </tbody>\n</table>\n<p>55489 rows × 163 columns</p>\n</div>"
     },
     "execution_count": 11,
     "metadata": {},
     "output_type": "execute_result"
    }
   ],
   "source": [
    "x_train"
   ],
   "metadata": {
    "collapsed": false,
    "ExecuteTime": {
     "end_time": "2024-03-01T15:53:40.497353800Z",
     "start_time": "2024-03-01T15:53:40.475283Z"
    }
   },
   "id": "10c57915076b110c"
  },
  {
   "cell_type": "code",
   "execution_count": 12,
   "outputs": [
    {
     "data": {
      "text/plain": "['./data/processed/scaler_x.joblib']"
     },
     "execution_count": 12,
     "metadata": {},
     "output_type": "execute_result"
    }
   ],
   "source": [
    "x_train.to_csv('./data/processed/train_x.csv')\n",
    "dump(train_scaler, './data/processed/scaler_x.joblib')"
   ],
   "metadata": {
    "collapsed": false,
    "ExecuteTime": {
     "end_time": "2024-03-01T15:54:07.423491Z",
     "start_time": "2024-03-01T15:54:01.653198100Z"
    }
   },
   "id": "74abcc67d1d3cf81"
  }
 ],
 "metadata": {
  "kernelspec": {
   "display_name": "Python 3",
   "language": "python",
   "name": "python3"
  },
  "language_info": {
   "codemirror_mode": {
    "name": "ipython",
    "version": 2
   },
   "file_extension": ".py",
   "mimetype": "text/x-python",
   "name": "python",
   "nbconvert_exporter": "python",
   "pygments_lexer": "ipython2",
   "version": "2.7.6"
  }
 },
 "nbformat": 4,
 "nbformat_minor": 5
}
