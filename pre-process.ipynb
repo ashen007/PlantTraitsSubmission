{
 "cells": [
  {
   "cell_type": "code",
   "execution_count": null,
   "id": "initial_id",
   "metadata": {
    "collapsed": true
   },
   "outputs": [],
   "source": [
    "import re\n",
    "\n",
    "import numpy as np\n",
    "import pandas as pd\n",
    "import cv2\n",
    "import matplotlib.pyplot as plt\n",
    "\n",
    "from joblib import dump\n",
    "from sklearn.preprocessing import Normalizer, StandardScaler, MinMaxScaler\n",
    "from sklearn.model_selection import train_test_split\n",
    "from feature_engine.outliers import ArbitraryOutlierCapper\n",
    "import warnings\n",
    "\n",
    "warnings.filterwarnings(\"error\")"
   ]
  },
  {
   "cell_type": "code",
   "execution_count": null,
   "outputs": [],
   "source": [
    "seed = 48"
   ],
   "metadata": {
    "collapsed": false
   },
   "id": "30840f23341f353b"
  },
  {
   "cell_type": "code",
   "execution_count": null,
   "outputs": [],
   "source": [
    "tar_features = ['X4_mean', 'X11_mean', 'X18_mean', 'X50_mean', 'X26_mean', 'X3112_mean']\n",
    "tar_sd_features = ['X4_sd', 'X11_sd', 'X18_sd', 'X50_sd', 'X26_sd', 'X3112_sd']\n",
    "log_features = ['X11_mean', 'X18_mean', 'X50_mean', 'X26_mean', 'X3112_mean']"
   ],
   "metadata": {
    "collapsed": false
   },
   "id": "b04a33924afa3729"
  },
  {
   "cell_type": "code",
   "execution_count": null,
   "outputs": [],
   "source": [
    "train = pd.read_csv('./data/train.csv', index_col='id').fillna(0)\n",
    "sub = pd.read_csv('./data/sample_submission.csv', index_col='id')\n",
    "# train = train + 1e-5"
   ],
   "metadata": {
    "collapsed": false
   },
   "id": "43bd8604e725b5c4"
  },
  {
   "cell_type": "code",
   "execution_count": null,
   "outputs": [],
   "source": [
    "train_xs, valid_xs = train_test_split(train, test_size=0.2, random_state=seed)\n",
    "train_xs.shape, valid_xs.shape"
   ],
   "metadata": {
    "collapsed": false
   },
   "id": "cee3ea4a40b0913b"
  },
  {
   "cell_type": "code",
   "execution_count": null,
   "outputs": [],
   "source": [
    "train_xs[tar_features].describe().T"
   ],
   "metadata": {
    "collapsed": false
   },
   "id": "31590373417bf82a"
  },
  {
   "cell_type": "code",
   "execution_count": null,
   "outputs": [],
   "source": [
    "sub.describe().T"
   ],
   "metadata": {
    "collapsed": false
   },
   "id": "254cabdaf15170cf"
  },
  {
   "cell_type": "code",
   "execution_count": null,
   "outputs": [],
   "source": [
    "sub.quantile([0, 0.01, 0.025, 0.975, 0.99, 1]).T"
   ],
   "metadata": {
    "collapsed": false
   },
   "id": "49e915324eb07800"
  },
  {
   "cell_type": "code",
   "execution_count": null,
   "outputs": [],
   "source": [
    "train_xs[tar_features].quantile([0, 0.003, 0.01, 0.025, 0.975, 0.98, 0.99, 0.997, 0.998, 0.999, 1]).T"
   ],
   "metadata": {
    "collapsed": false
   },
   "id": "f29f59887b5952fd"
  },
  {
   "cell_type": "code",
   "execution_count": null,
   "outputs": [],
   "source": [
    "min_caps = {'X4_mean': 0.208652,\n",
    "            'X11_mean': 3.178135,\n",
    "            'X18_mean': 0.052039,\n",
    "            'X50_mean': 0.493695,\n",
    "            'X26_mean': 0.013635,\n",
    "            'X3112_mean': 12.100823,\n",
    "            }\n",
    "max_caps = {'X4_mean': 0.886177,\n",
    "            'X11_mean': 50.773743,\n",
    "            'X18_mean': 35.106055,\n",
    "            'X50_mean': 4.402759,\n",
    "            'X26_mean': 905.397713,\n",
    "            'X3112_mean': 16007.248293,\n",
    "            }\n",
    "\n",
    "targets = train_xs[tar_features].copy()\n",
    "val_targets = valid_xs[tar_features].copy()\n",
    "\n",
    "idxs = []\n",
    "idxs_val = []\n",
    "\n",
    "for col in min_caps.keys():\n",
    "    idxs += list(train_xs[(train_xs[col] > max_caps[col])].index)\n",
    "    idxs += list(train_xs[(train_xs[col] < min_caps[col])].index)\n",
    "    \n",
    "    idxs_val += list(valid_xs[(valid_xs[col] > max_caps[col])].index)\n",
    "    idxs_val += list(valid_xs[(valid_xs[col] < min_caps[col])].index)\n",
    "    \n",
    "print(len(set(idxs)))\n",
    "print(len(set(idxs_val)))\n"
   ],
   "metadata": {
    "collapsed": false
   },
   "id": "649f09d975516d4d"
  },
  {
   "cell_type": "code",
   "execution_count": null,
   "outputs": [],
   "source": [
    "targets = targets.drop(idxs)\n",
    "val_targets = val_targets.drop(idxs_val)"
   ],
   "metadata": {
    "collapsed": false
   },
   "id": "399d139d967a08d8"
  },
  {
   "cell_type": "code",
   "execution_count": null,
   "outputs": [],
   "source": [
    "val_targets"
   ],
   "metadata": {
    "collapsed": false
   },
   "id": "14c28b9413996bde"
  },
  {
   "cell_type": "code",
   "execution_count": null,
   "outputs": [],
   "source": [
    "# targets = trimmer_r.transform(targets)"
   ],
   "metadata": {
    "collapsed": false
   },
   "id": "50e4ef4570fc5f97"
  },
  {
   "cell_type": "code",
   "execution_count": null,
   "outputs": [],
   "source": [
    "targets.describe().T"
   ],
   "metadata": {
    "collapsed": false
   },
   "id": "d3261ab258b15ca5"
  },
  {
   "cell_type": "code",
   "execution_count": null,
   "outputs": [],
   "source": [
    "targets = targets.join(train_xs[tar_sd_features], how='inner')\n",
    "val_targets = val_targets.join(valid_xs[tar_sd_features], how='inner')\n",
    "\n",
    "targets.shape, val_targets.shape"
   ],
   "metadata": {
    "collapsed": false
   },
   "id": "4fd8c09346f32858"
  },
  {
   "cell_type": "code",
   "execution_count": null,
   "outputs": [],
   "source": [
    "# for mean, sd in zip(tar_features, tar_sd_features):\n",
    "#     print(mean, sd)\n",
    "#     targets[mean] = targets[mean] + targets[sd] * np.random.normal(0, 0.1, len(targets))"
   ],
   "metadata": {
    "collapsed": false
   },
   "id": "8184ff9edeb88e57"
  },
  {
   "cell_type": "code",
   "execution_count": null,
   "outputs": [],
   "source": [
    "scaler = MinMaxScaler()\n",
    "y_train = np.zeros_like(targets[tar_features], dtype=np.float32)\n",
    "\n",
    "for idx, (target, tar_sd) in enumerate(zip(tar_features, tar_sd_features)):\n",
    "    v = targets[target].values\n",
    "\n",
    "    if target in log_features:\n",
    "        v = np.log10(v)\n",
    "\n",
    "    y_train[:, idx] = v\n",
    "\n",
    "y_train = scaler.fit_transform(y_train)"
   ],
   "metadata": {
    "collapsed": false
   },
   "id": "e708e31a7f67604"
  },
  {
   "cell_type": "code",
   "execution_count": null,
   "outputs": [],
   "source": [
    "y_val = np.zeros_like(val_targets[tar_features], dtype=np.float32)\n",
    "\n",
    "for idx, (target, tar_sd) in enumerate(zip(tar_features, tar_sd_features)):\n",
    "    v = val_targets[target].values\n",
    "\n",
    "    if target in log_features:\n",
    "        v = np.log10(v)\n",
    "\n",
    "    y_val[:, idx] = v\n",
    "\n",
    "y_val = scaler.transform(y_val)"
   ],
   "metadata": {
    "collapsed": false
   },
   "id": "345b0d309a9a125c"
  },
  {
   "cell_type": "code",
   "execution_count": null,
   "outputs": [],
   "source": [
    "y_train = pd.DataFrame(y_train, columns=tar_features).set_index(targets.index)\n",
    "y_val = pd.DataFrame(y_val, columns=tar_features).set_index(val_targets.index)"
   ],
   "metadata": {
    "collapsed": false
   },
   "id": "10b51354e278f04f"
  },
  {
   "cell_type": "code",
   "execution_count": null,
   "outputs": [],
   "source": [
    "y_train"
   ],
   "metadata": {
    "collapsed": false
   },
   "id": "a5a14b99d0d043a4"
  },
  {
   "cell_type": "code",
   "execution_count": null,
   "outputs": [],
   "source": [
    "y_val"
   ],
   "metadata": {
    "collapsed": false
   },
   "id": "c7458720a2d1c510"
  },
  {
   "cell_type": "code",
   "execution_count": null,
   "outputs": [],
   "source": [
    "train_boxes = pd.read_csv('./data/boxes.csv', index_col='id')"
   ],
   "metadata": {
    "collapsed": false
   },
   "id": "f0a5aad45eb83bcc"
  },
  {
   "cell_type": "code",
   "execution_count": null,
   "outputs": [],
   "source": [
    "train_boxes['box'] = train_boxes['box'].apply(lambda x:\n",
    "                                              np.fromstring(\n",
    "                                                  x.replace('\\n', '')\n",
    "                                                  .replace('[', '')\n",
    "                                                  .replace(']', '')\n",
    "                                                  .replace('  ', ' '), sep=' '))"
   ],
   "metadata": {
    "collapsed": false
   },
   "id": "a829fee01dfccd81"
  },
  {
   "cell_type": "code",
   "execution_count": null,
   "outputs": [],
   "source": [
    "full_train = y_train.join(train_boxes, how='inner')\n",
    "full_valid = y_val.join(train_boxes, how='inner')"
   ],
   "metadata": {
    "collapsed": false
   },
   "id": "c6e66717dd5d2ce6"
  },
  {
   "cell_type": "code",
   "execution_count": null,
   "outputs": [],
   "source": [
    "full_train.sample(5)"
   ],
   "metadata": {
    "collapsed": false
   },
   "id": "7d980ef6ce9c8033"
  },
  {
   "cell_type": "code",
   "execution_count": null,
   "outputs": [],
   "source": [
    "full_valid.sample(5)"
   ],
   "metadata": {
    "collapsed": false
   },
   "id": "3b0f8e16d1d29970"
  },
  {
   "cell_type": "code",
   "execution_count": null,
   "outputs": [],
   "source": [
    "idx = 195356035\n",
    "img = cv2.imread(f'./data/train_images/{idx}.jpeg')\n",
    "img = cv2.cvtColor(img, cv2.COLOR_BGR2RGB)\n",
    "\n",
    "box = full_valid.loc[idx, 'box']\n",
    "patch = img[int(box[1]):int(box[3]), int(box[0]):int(box[2])]\n",
    "plt.imshow(patch)"
   ],
   "metadata": {
    "collapsed": false
   },
   "id": "1c2c98209cec3e2a"
  },
  {
   "cell_type": "markdown",
   "source": [],
   "metadata": {
    "collapsed": false
   },
   "id": "5168ab8c6f277c94"
  },
  {
   "cell_type": "code",
   "execution_count": null,
   "outputs": [],
   "source": [
    "full_train.to_csv('./data/processed/train.csv')\n",
    "full_valid.to_csv('./data/processed/valid.csv')\n",
    "dump(scaler, './data/processed/scaler.joblib')"
   ],
   "metadata": {
    "collapsed": false
   },
   "id": "9bb4d62e5fbfc784"
  },
  {
   "cell_type": "code",
   "execution_count": null,
   "outputs": [],
   "source": [
    "test = pd.read_csv('./data/test.csv')\n",
    "test['file_path'] = test['id'].apply(lambda s: f'./data/test_images/{s}.jpeg')\n",
    "test['jpeg_bytes'] = test['file_path'].apply(lambda fp: open(fp, 'rb').read())\n",
    "test.to_pickle('./data/test.pkl')"
   ],
   "metadata": {
    "collapsed": false
   },
   "id": "51d4271b87957ca2"
  },
  {
   "cell_type": "code",
   "execution_count": null,
   "outputs": [],
   "source": [
    "x_feature = train.columns[:-12].tolist()"
   ],
   "metadata": {
    "collapsed": false
   },
   "id": "2751793aeac17ef2"
  },
  {
   "cell_type": "code",
   "execution_count": null,
   "outputs": [],
   "source": [
    "train_scaler = MinMaxScaler()\n",
    "x_train = np.zeros_like(train[x_feature], dtype=np.float32)\n",
    "\n",
    "for idx, target in enumerate(x_feature):\n",
    "    v = train[target].values\n",
    "\n",
    "    # if target in log_x_features:\n",
    "    #     v = np.log10(v)\n",
    "\n",
    "    x_train[:, idx] = v\n",
    "\n",
    "x_train = train_scaler.fit_transform(x_train)"
   ],
   "metadata": {
    "collapsed": false
   },
   "id": "75cb0bc5a4cb463f"
  },
  {
   "cell_type": "code",
   "execution_count": null,
   "outputs": [],
   "source": [
    "x_train = pd.DataFrame(x_train, columns=x_feature).set_index(train.index)"
   ],
   "metadata": {
    "collapsed": false
   },
   "id": "b87f604ee3c81652"
  },
  {
   "cell_type": "code",
   "execution_count": null,
   "outputs": [],
   "source": [
    "x_train"
   ],
   "metadata": {
    "collapsed": false
   },
   "id": "10c57915076b110c"
  },
  {
   "cell_type": "code",
   "execution_count": null,
   "outputs": [],
   "source": [
    "x_train_feats = x_train.loc[targets.index, :]\n",
    "x_val_feats = x_train.loc[val_targets.index, :]"
   ],
   "metadata": {
    "collapsed": false
   },
   "id": "205cc463b9e77107"
  },
  {
   "cell_type": "code",
   "execution_count": null,
   "outputs": [],
   "source": [
    "x_train_feats.to_csv('./data/processed/train_x.csv')\n",
    "x_val_feats.to_csv('./data/processed/valid_x.csv')"
   ],
   "metadata": {
    "collapsed": false
   },
   "id": "ff68fb3463270262"
  },
  {
   "cell_type": "code",
   "execution_count": null,
   "outputs": [],
   "source": [
    "dump(train_scaler, './data/processed/scaler_x.joblib')"
   ],
   "metadata": {
    "collapsed": false
   },
   "id": "74abcc67d1d3cf81"
  }
 ],
 "metadata": {
  "kernelspec": {
   "display_name": "Python 3",
   "language": "python",
   "name": "python3"
  },
  "language_info": {
   "codemirror_mode": {
    "name": "ipython",
    "version": 2
   },
   "file_extension": ".py",
   "mimetype": "text/x-python",
   "name": "python",
   "nbconvert_exporter": "python",
   "pygments_lexer": "ipython2",
   "version": "2.7.6"
  }
 },
 "nbformat": 4,
 "nbformat_minor": 5
}
